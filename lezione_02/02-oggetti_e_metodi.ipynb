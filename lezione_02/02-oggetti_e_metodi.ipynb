{
 "cells": [
  {
   "cell_type": "markdown",
   "id": "7017f063-c2e7-452c-9df9-5b623cc15bdb",
   "metadata": {},
   "source": [
    "# Stringhe, metodi e oggetti\n",
    "\n",
    "## Piano della lezione\n",
    "\n",
    "* Concetto di oggetti e metodi in Python\n",
    "* Object notation in Python\n",
    "* Alcuni metodi per manipolare le stringhe\n",
    "\n",
    "## Link utili\n",
    "\n",
    "* String methods nella documentazione ufficiale: https://docs.python.org/3/library/stdtypes.html#string-methods\n",
    "* Tutorial su string methods: https://realpython.com/python-strings/#built-in-string-methods\n",
    "\n",
    "Tutte le \"cose\" che usiamo in Python, a cominciare dalle variabili, sono degli *oggetti*, che hanno delle proprietà (chiamate *attributi*) e sui quali possono essere usate delle funzioni (chiamati *metodi*). I metodi e gli attributi di un oggetto sono specifici della *classe* a cui appartiene.\n",
    "\n",
    "Ricapitolando:\n",
    "\n",
    "1. con `type(<oggetto>)` otteniamo la `Classe` a cui appartiene quell'oggetto. Volendo essere più precisi, diremo che l'oggetto è un'*istanza* di quella Classe."
   ]
  },
  {
   "cell_type": "code",
   "execution_count": 1,
   "id": "e8cec508-a310-4575-92e1-1a3fac063112",
   "metadata": {},
   "outputs": [
    {
     "name": "stdout",
     "output_type": "stream",
     "text": [
      "type(stringa_1) = <class 'str'>\n",
      " type(stringa_2) = <class 'str'>\n"
     ]
    }
   ],
   "source": [
    "stringa_1 = \"sono una stringa\"\n",
    "stringa_2 = \"sono un'altra stringa\"\n",
    "\n",
    "print(\n",
    "    f\"{type(stringa_1) = }\\n\", # \\n indica di andare a capo, altrimenti le righe sarebbero attaccate\n",
    "    f\"{type(stringa_2) = }\", # nelle f-strings, scrivere f\"{a=}\" stampa la variabile a e il suo valore\n",
    ")"
   ]
  },
  {
   "cell_type": "markdown",
   "id": "97099474-8185-40e5-96fa-84412ce7f00b",
   "metadata": {},
   "source": [
    "Ogni stringa *eredita* attributi e metodi della sua classe. Per \"usarli\", si usa la cosiddetta \"object-oriented notation\", cioè `<oggetto>.<attributo-o-metodo>`. Se scriviamo `<oggetto>.` e premiamo tab, gli IDE e Jupyter Notebook vi suggeriranno l'intera lista di attributi e metodi disponibili per quell'oggetto. Solitamente, comunque, è preferibile consultarli direttamente dalla documentazione di Python o della libreria che state usando.\n",
    "\n",
    "Cominceremo usando i metodi delle stringhe, per scrivere qualche funzione."
   ]
  },
  {
   "cell_type": "code",
   "execution_count": 2,
   "id": "1c41a322-edf3-46fd-adbf-9ce692ca056b",
   "metadata": {},
   "outputs": [],
   "source": [
    "def greet_user(user = \"stranger\"):\n",
    "    \"\"\"Scrivere una funzione che prenda come input il nome di una persona e la saluti\n",
    "    \n",
    "    Example\n",
    "    -------\n",
    "    >>> greet_user(\"tizio\")\n",
    "    Ciao tizio!\n",
    "    \"\"\"\n",
    "    print(f\"Ciao {user}!\")\n",
    "    "
   ]
  },
  {
   "cell_type": "markdown",
   "id": "a4c5e3ab-398c-4748-9045-5d373e5cecb1",
   "metadata": {},
   "source": [
    "Iniziamo con alcune note sulle funzioni:\n",
    "1. Una funzione viene definita con:\n",
    "    1. la parola chiave `def`\n",
    "    2. il nome della funzione - siate espressivi, e non usate nomi anonomi come \"funzione\" o \"f\"\n",
    "    3. Gli argomenti della funzione vanno scritti nelle parentesi\n",
    "    4. I due punti dopo le parentesi.\n",
    "2. Poi si indenta con tab il cosiddetto *corpo* della funzione, cioè le operazioni che compie.\n",
    "\n",
    "È sempre bene documentare il proprio codice, a cominciare dalle funzioni. La documentazione della funzione si scrive appena sotto la sua definizione, usando le triple virgolette. Si comincia con una breve descrizione (sulla stessa riga delle virgolette) e, se serve, una descrizione più estesa. Poi si possono descrivere i parametri o fare un esempio di come viene usata la funzione. In questo caso, il `>>>` indica l'input (cioè che è l'utente a scrivere la funzione) e appena sotto l'output.\n",
    "\n",
    "```\n",
    "def funzione(arg1, arg2, ...):\n",
    "    \"\"\"<descrizione breve>\n",
    "    \n",
    "    <descrizione lunga>\n",
    "\n",
    "    <descrizione dei parametri>\n",
    "    \n",
    "    <esempi>\n",
    "    \"\"\"\n",
    "```\n",
    "\n",
    "Potremmo dire che, però, la funzione che abbiamo scritto però ha un piccolo difetto:"
   ]
  },
  {
   "cell_type": "code",
   "execution_count": 3,
   "id": "815cccce-4f10-41e3-8715-f381e21cf828",
   "metadata": {},
   "outputs": [
    {
     "name": "stdout",
     "output_type": "stream",
     "text": [
      "Ciao luca!\n"
     ]
    }
   ],
   "source": [
    "greet_user(\"luca\")"
   ]
  },
  {
   "cell_type": "markdown",
   "id": "ce198dd4-a482-45c1-9a74-ca08aa3591f2",
   "metadata": {},
   "source": [
    "La funzione \"saluta\" un utente, ma senza \"capitalizzare\" il nome (cioè rendere maiuscola la prima lettera). Per farlo, usiamo un metodo delle stringhe, `<stringa>.capitalize()`.\n",
    "\n",
    "Rendiamo anche la funzione un po' più interattiva: con `input()`, la cella di codice aspetta che siamo noi a fornire un input, che sarà automaticamente una stringa.\n",
    "\n",
    "Un'altra nota: possiamo scrivere sia `greet_user(\"luca\")` che `greet_user(user=\"luca\")`. Di solito è meglio specificare l'argomento per esplicitare che cosa è ogni variabile. Immaginate di leggere una funzione così: `frobnicate(a, b, c)`. Che cosa fa? Al contrario, scrivendo `frobinicate(data=a, number_of_clusters=b, max_iterations=c)` diventa più chiaro."
   ]
  },
  {
   "cell_type": "code",
   "execution_count": 4,
   "id": "fac74b82-d228-4063-b973-310a8d0c57b8",
   "metadata": {},
   "outputs": [
    {
     "name": "stdin",
     "output_type": "stream",
     "text": [
      "Scrivi il nome della persona che vuoi salutare:  luca\n"
     ]
    },
    {
     "name": "stdout",
     "output_type": "stream",
     "text": [
      "Ciao Luca!\n"
     ]
    }
   ],
   "source": [
    "def greet_user_capitalised(user):\n",
    "    \"\"\"Saluta l'utente, ma la prima lettera del nome è maiuscola\"\"\"\n",
    "    print(f\"Ciao {user.capitalize()}!\")\n",
    "    \n",
    "username = input(\"Scrivi il nome della persona che vuoi salutare: \")\n",
    "\n",
    "greet_user_capitalised(username)"
   ]
  },
  {
   "cell_type": "code",
   "execution_count": 3,
   "id": "fa894c6c-7c2a-42e2-9e33-064ea85d942f",
   "metadata": {},
   "outputs": [
    {
     "name": "stdin",
     "output_type": "stream",
     "text": [
      "Scrivi il nome della persona che vuoi urlare:  sedano\n"
     ]
    },
    {
     "name": "stdout",
     "output_type": "stream",
     "text": [
      "CIAO SEDANO!\n"
     ]
    }
   ],
   "source": [
    "\"\"\"\n",
    "Definire una funzione che chiameremo urla,\n",
    "che prende come input un nome e lo stampa tutto maiuscolo\n",
    "\"\"\"\n",
    "\n",
    "def shout(user):\n",
    "    print(f\"CIAO {user.upper()}!\")\n",
    "    \n",
    "username = input(\"Scrivi il nome della persona che vuoi urlare: \")\n",
    "\n",
    "shout(username)"
   ]
  },
  {
   "cell_type": "code",
   "execution_count": 20,
   "id": "031bcd73-ee62-45ed-bfad-98970239019d",
   "metadata": {},
   "outputs": [
    {
     "name": "stdin",
     "output_type": "stream",
     "text": [
      "Scrivi un nome:  CaRlO\n"
     ]
    },
    {
     "name": "stdout",
     "output_type": "stream",
     "text": [
      "cARLO!\n"
     ]
    }
   ],
   "source": [
    "def random_greet(user):\n",
    "    \"\"\"Definire una funzione che chiameremo urla,\n",
    "    che prende come input un nome e lo stampa tutto maiuscolo,\n",
    "    tranne la prima lettera\n",
    "\n",
    "    esempio:\n",
    "    giorgio -> gIORGIO\n",
    "    gIORGIO -> gIORGIO\n",
    "    GIORGIO -> gIORGIO\n",
    "    \"\"\"\n",
    "\n",
    "    new_username = user.capitalize().swapcase()\n",
    "    \n",
    "    print(f\"{new_username}!\")\n",
    "    \n",
    "username = input(\"Scrivi un nome: \")\n",
    "\n",
    "random_greet(username)"
   ]
  },
  {
   "cell_type": "code",
   "execution_count": 19,
   "id": "9bdc72e7-0eae-4cb5-bdba-d01a7bbf4736",
   "metadata": {},
   "outputs": [],
   "source": [
    "def is_positive(number):\n",
    "    \"\"\"Verifica che il numero sia positivo\"\"\"\n",
    "    "
   ]
  }
 ],
 "metadata": {
  "kernelspec": {
   "display_name": "Python 3 (ipykernel)",
   "language": "python",
   "name": "python3"
  },
  "language_info": {
   "codemirror_mode": {
    "name": "ipython",
    "version": 3
   },
   "file_extension": ".py",
   "mimetype": "text/x-python",
   "name": "python",
   "nbconvert_exporter": "python",
   "pygments_lexer": "ipython3",
   "version": "3.10.4"
  }
 },
 "nbformat": 4,
 "nbformat_minor": 5
}
