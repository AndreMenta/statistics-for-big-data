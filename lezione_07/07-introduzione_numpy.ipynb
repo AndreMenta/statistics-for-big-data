{
 "cells": [
  {
   "cell_type": "markdown",
   "id": "aca5066f-a3a6-4050-9bc6-32db885294dc",
   "metadata": {},
   "source": [
    "## Numpy"
   ]
  },
  {
   "cell_type": "markdown",
   "id": "5ccd1a17",
   "metadata": {},
   "source": [
    "Se non avete installato numpy, un-commentate la cella qui sotto ed eseguitela. Il `!` indica a Jupyter di eseguire un comando \"fuori\" da Python - in questo caso, un comando che da terminale chiede a `pip` di installare numpy."
   ]
  },
  {
   "cell_type": "code",
   "execution_count": 5,
   "id": "444efffe-a047-4646-9cc1-ae3d7b5c7507",
   "metadata": {},
   "outputs": [
    {
     "name": "stdout",
     "output_type": "stream",
     "text": [
      "Collecting numpy\n",
      "  Using cached numpy-1.22.3-cp310-cp310-macosx_10_14_x86_64.whl (17.6 MB)\n",
      "Installing collected packages: numpy\n",
      "Successfully installed numpy-1.22.3\n"
     ]
    }
   ],
   "source": [
    "# !pip install numpy"
   ]
  },
  {
   "cell_type": "markdown",
   "id": "2d8067f2",
   "metadata": {},
   "source": [
    "Questa è la sintassi che si usa per importare i moduli esterni. `as np` indica che useremo l'abbreviazione `np` anziché `numpy` quando dovremo usare una funzione, ma _in teoria_ potrebbe essere qualsiasi cosa. La regola che si segue è di usare l'abbreviazione specificata dalla documentazione della libreria - in questo caso, `np`."
   ]
  },
  {
   "cell_type": "code",
   "execution_count": 1,
   "id": "bbfec9d3-f294-41a2-ae01-bfde08899274",
   "metadata": {},
   "outputs": [],
   "source": [
    "import numpy as np"
   ]
  },
  {
   "cell_type": "markdown",
   "id": "085964f2",
   "metadata": {},
   "source": [
    "Un esempio di invocazione di un comando della libreria. In questo caso l'attributo `__version__` restituisce una stringa che riporta la versione che abbiamo installato della libreria:"
   ]
  },
  {
   "cell_type": "code",
   "execution_count": 2,
   "id": "035894a6-141d-4a48-9c9a-8fc131067024",
   "metadata": {},
   "outputs": [
    {
     "name": "stdout",
     "output_type": "stream",
     "text": [
      "1.22.3\n"
     ]
    }
   ],
   "source": [
    "print(np.__version__)"
   ]
  },
  {
   "cell_type": "markdown",
   "id": "2ee5cd03",
   "metadata": {},
   "source": [
    "La struttura fondamentale di numpy è il `ndarray`, cioè un array (matrice) n-dimensionale."
   ]
  },
  {
   "cell_type": "code",
   "execution_count": 3,
   "id": "f6e74bf6",
   "metadata": {},
   "outputs": [
    {
     "name": "stdout",
     "output_type": "stream",
     "text": [
      "[1 2 3 4]\n"
     ]
    }
   ],
   "source": [
    "array = np.array([1,2,3,4])\n",
    "print(array)"
   ]
  },
  {
   "cell_type": "markdown",
   "id": "88859ee6",
   "metadata": {},
   "source": [
    "Un array è diverso da una lista:"
   ]
  },
  {
   "cell_type": "code",
   "execution_count": 4,
   "id": "b97222d2",
   "metadata": {},
   "outputs": [
    {
     "name": "stdout",
     "output_type": "stream",
     "text": [
      "[1, 2, 3, 4]\n"
     ]
    }
   ],
   "source": [
    "lista = [1,2,3,4]\n",
    "print(lista)"
   ]
  },
  {
   "cell_type": "code",
   "execution_count": 5,
   "id": "b800e8fa",
   "metadata": {
    "scrolled": true
   },
   "outputs": [
    {
     "name": "stdout",
     "output_type": "stream",
     "text": [
      "<class 'list'> \n",
      " <class 'numpy.ndarray'>\n"
     ]
    }
   ],
   "source": [
    "print(\n",
    "    type(lista),\n",
    "    \"\\n\", # <- crea una linea bianca\n",
    "    type(array)\n",
    ")"
   ]
  },
  {
   "cell_type": "markdown",
   "id": "b32f46bc",
   "metadata": {},
   "source": [
    "Innanzitutto, possiamo creare facilmente array in due o più dimensioni, contrariamente alle liste:"
   ]
  },
  {
   "cell_type": "code",
   "execution_count": 7,
   "id": "ab61f7b0-07a8-42a0-8878-1453a4f227c9",
   "metadata": {},
   "outputs": [
    {
     "name": "stdout",
     "output_type": "stream",
     "text": [
      "[[1, 2], [3, 4]]\n",
      "[[1 2]\n",
      " [3 4]]\n"
     ]
    }
   ],
   "source": [
    "lista_2d = [[1,2], [3,4]]\n",
    "print(lista_2d)\n",
    "\n",
    "array_2d = np.array([[1,2], [3,4]])\n",
    "print(array_2d)"
   ]
  },
  {
   "cell_type": "markdown",
   "id": "dc745705",
   "metadata": {},
   "source": [
    "Possiamo vedere quanti elementi ha l'array, senza usare `len()`:"
   ]
  },
  {
   "cell_type": "code",
   "execution_count": 11,
   "id": "74b575cf",
   "metadata": {},
   "outputs": [
    {
     "data": {
      "text/plain": [
       "4"
      ]
     },
     "execution_count": 11,
     "metadata": {},
     "output_type": "execute_result"
    }
   ],
   "source": [
    "array_2d.size"
   ]
  },
  {
   "cell_type": "markdown",
   "id": "cbffb300",
   "metadata": {},
   "source": [
    "Ma anche il numero di dimensioni:"
   ]
  },
  {
   "cell_type": "code",
   "execution_count": 12,
   "id": "00bebf2f",
   "metadata": {},
   "outputs": [
    {
     "data": {
      "text/plain": [
       "(2, 2)"
      ]
     },
     "execution_count": 12,
     "metadata": {},
     "output_type": "execute_result"
    }
   ],
   "source": [
    "array_2d.shape"
   ]
  },
  {
   "cell_type": "markdown",
   "id": "2118c18e",
   "metadata": {},
   "source": [
    "In questo caso, `array_2d` ha due righe e due colonne.\n",
    "\n",
    "Creare array complessi è molto semplice usando il metodo `.reshape()`:"
   ]
  },
  {
   "cell_type": "code",
   "execution_count": 15,
   "id": "53a29f88",
   "metadata": {},
   "outputs": [
    {
     "data": {
      "text/plain": [
       "array([[1, 2, 3],\n",
       "       [4, 5, 6],\n",
       "       [7, 8, 9]])"
      ]
     },
     "execution_count": 15,
     "metadata": {},
     "output_type": "execute_result"
    }
   ],
   "source": [
    "matrice_3x3 = np.array([1, 2, 3, 4, 5, 6, 7, 8, 9]).reshape(3, -1)\n",
    "\n",
    "matrice_3x3"
   ]
  },
  {
   "cell_type": "code",
   "execution_count": 16,
   "id": "24b3a1ef",
   "metadata": {},
   "outputs": [
    {
     "data": {
      "text/plain": [
       "(3, 3)"
      ]
     },
     "execution_count": 16,
     "metadata": {},
     "output_type": "execute_result"
    }
   ],
   "source": [
    "matrice_3x3.shape"
   ]
  },
  {
   "cell_type": "markdown",
   "id": "862d5831",
   "metadata": {},
   "source": [
    "In questo caso, `reshape()` prende come argomento il numero di righe che vogliamo, 3. `-1` indica a numpy di calcolare automaticamente quanti elementi mettere nell'altra dimensione:"
   ]
  },
  {
   "cell_type": "code",
   "execution_count": 31,
   "id": "2aa7bf15",
   "metadata": {},
   "outputs": [
    {
     "data": {
      "text/plain": [
       "array([[[1, 2, 3],\n",
       "        [4, 5, 6],\n",
       "        [7, 8, 9]]])"
      ]
     },
     "execution_count": 31,
     "metadata": {},
     "output_type": "execute_result"
    }
   ],
   "source": [
    "array_3d = matrice_3x3.reshape(1, 3, -1)\n",
    "array_3d"
   ]
  },
  {
   "cell_type": "code",
   "execution_count": 36,
   "id": "e7e1106e",
   "metadata": {},
   "outputs": [
    {
     "data": {
      "text/plain": [
       "(1, 3, 3)"
      ]
     },
     "execution_count": 36,
     "metadata": {},
     "output_type": "execute_result"
    }
   ],
   "source": [
    "array_3d.shape"
   ]
  },
  {
   "cell_type": "markdown",
   "id": "6262bd36",
   "metadata": {},
   "source": [
    "Anche se si tratta di un array difficile da visualizzare perché ha tre dimensioni.\n",
    "\n",
    "Per creare un array possiamo usare qualsiasi `Iterable`:"
   ]
  },
  {
   "cell_type": "code",
   "execution_count": 42,
   "id": "5dd9e10b",
   "metadata": {},
   "outputs": [
    {
     "data": {
      "text/plain": [
       "array([[[ 0,  1,  2],\n",
       "        [ 3,  4,  5],\n",
       "        [ 6,  7,  8]],\n",
       "\n",
       "       [[ 9, 10, 11],\n",
       "        [12, 13, 14],\n",
       "        [15, 16, 17]]])"
      ]
     },
     "execution_count": 42,
     "metadata": {},
     "output_type": "execute_result"
    }
   ],
   "source": [
    "np.array(range(18)).reshape(2, 3, -1)\n"
   ]
  },
  {
   "cell_type": "markdown",
   "id": "a37ba21b",
   "metadata": {},
   "source": [
    "E possiamo anche trasporli velocemente:"
   ]
  },
  {
   "cell_type": "code",
   "execution_count": 43,
   "id": "4c856d72",
   "metadata": {},
   "outputs": [
    {
     "data": {
      "text/plain": [
       "array([[1, 4, 7],\n",
       "       [2, 5, 8],\n",
       "       [3, 6, 9]])"
      ]
     },
     "execution_count": 43,
     "metadata": {},
     "output_type": "execute_result"
    }
   ],
   "source": [
    "matrice_3x3.T"
   ]
  },
  {
   "cell_type": "markdown",
   "id": "6babd73e",
   "metadata": {},
   "source": [
    "Per farlo con Python avremmo dovuto usare due for loop \"nestati\":"
   ]
  },
  {
   "cell_type": "code",
   "execution_count": 53,
   "id": "58d4a9e4",
   "metadata": {},
   "outputs": [
    {
     "name": "stdout",
     "output_type": "stream",
     "text": [
      "[[1, 4, 7], [2, 5, 8], [3, 6, 9]]\n"
     ]
    }
   ],
   "source": [
    "lista_3x3 = [\n",
    "    [1,2,3],\n",
    "    [4,5,6],\n",
    "    [7,8,9]\n",
    "]\n",
    "\n",
    "lista_trasposta = [[None, None, None], [None, None, None], [None, None, None]]\n",
    "\n",
    "for i in range(3):\n",
    "    for j in range(3):\n",
    "        lista_trasposta[i][j] = lista_3x3[j][i]\n",
    "        \n",
    "print(lista_trasposta)"
   ]
  },
  {
   "cell_type": "markdown",
   "id": "c2d5b5ad",
   "metadata": {},
   "source": [
    "E questa operazione diventa estremamente più lenta e laboriosa più la matrice diventa grande."
   ]
  },
  {
   "cell_type": "code",
   "execution_count": 15,
   "id": "4726a66d-f873-42b4-9265-f4f9a2b79618",
   "metadata": {},
   "outputs": [
    {
     "data": {
      "text/plain": [
       "dtype('int64')"
      ]
     },
     "execution_count": 15,
     "metadata": {},
     "output_type": "execute_result"
    }
   ],
   "source": [
    "array_2d.dtype"
   ]
  },
  {
   "cell_type": "code",
   "execution_count": 13,
   "id": "77c29674-78c5-426b-8cf6-64bc286b7dcc",
   "metadata": {},
   "outputs": [
    {
     "data": {
      "text/plain": [
       "array(['ciao', '1'], dtype='<U21')"
      ]
     },
     "execution_count": 13,
     "metadata": {},
     "output_type": "execute_result"
    }
   ],
   "source": [
    "np.array([\"ciao\", 1])"
   ]
  },
  {
   "cell_type": "code",
   "execution_count": 16,
   "id": "e6459626-0335-4875-9c31-7f0b07e4bc9d",
   "metadata": {},
   "outputs": [
    {
     "name": "stdout",
     "output_type": "stream",
     "text": [
      "10000\n"
     ]
    }
   ],
   "source": [
    "grossa_lista = [1] * 100_000\n",
    "print(len(grossa_lista))"
   ]
  },
  {
   "cell_type": "code",
   "execution_count": 21,
   "id": "0968d27b-5ef5-41e4-b3d7-c8d39109b3b4",
   "metadata": {},
   "outputs": [
    {
     "name": "stdout",
     "output_type": "stream",
     "text": [
      "[0, 1, 2, 3, 4]\n"
     ]
    }
   ],
   "source": [
    "grossa_lista = list(range(1_000_000))\n",
    "print(grossa_lista[:5])"
   ]
  },
  {
   "cell_type": "code",
   "execution_count": 22,
   "id": "dff6bdb3-a40b-45de-b445-aa739ab19ea9",
   "metadata": {},
   "outputs": [
    {
     "data": {
      "text/plain": [
       "8000056"
      ]
     },
     "execution_count": 22,
     "metadata": {},
     "output_type": "execute_result"
    }
   ],
   "source": [
    "import sys\n",
    "\n",
    "sys.getsizeof(grossa_lista)"
   ]
  },
  {
   "cell_type": "code",
   "execution_count": 28,
   "id": "f32cdb9d-ecf3-46df-8235-070a96485aa4",
   "metadata": {},
   "outputs": [
    {
     "name": "stdout",
     "output_type": "stream",
     "text": [
      "64.3 ms ± 5.35 ms per loop (mean ± std. dev. of 7 runs, 10 loops each)\n"
     ]
    }
   ],
   "source": [
    "%%timeit\n",
    "for element in grossa_lista:\n",
    "    element += 1"
   ]
  },
  {
   "cell_type": "code",
   "execution_count": 38,
   "id": "20327d46-c071-4a43-b77e-e378039c9e54",
   "metadata": {},
   "outputs": [
    {
     "data": {
      "text/plain": [
       "(1000000,)"
      ]
     },
     "execution_count": 38,
     "metadata": {},
     "output_type": "execute_result"
    }
   ],
   "source": [
    "grosso_array = np.linspace(1, 1_000_000, 1_000_000)\n",
    "grosso_array.shape"
   ]
  },
  {
   "cell_type": "code",
   "execution_count": 42,
   "id": "1f08993a-8386-404e-922d-9726b8120277",
   "metadata": {},
   "outputs": [
    {
     "name": "stdout",
     "output_type": "stream",
     "text": [
      "2.15 ms ± 228 µs per loop (mean ± std. dev. of 7 runs, 100 loops each)\n"
     ]
    }
   ],
   "source": [
    "%timeit grosso_array + 1"
   ]
  },
  {
   "cell_type": "code",
   "execution_count": 43,
   "id": "a4cd084a-7b2f-4c96-8cc7-315e456abefa",
   "metadata": {},
   "outputs": [
    {
     "name": "stdout",
     "output_type": "stream",
     "text": [
      "2.0\n"
     ]
    }
   ],
   "source": [
    "import math\n",
    "\n",
    "print(math.sqrt(4))"
   ]
  },
  {
   "cell_type": "code",
   "execution_count": 44,
   "id": "c8e7a6c4-5847-4ea2-9481-1e2d8a2fd6da",
   "metadata": {},
   "outputs": [
    {
     "name": "stdout",
     "output_type": "stream",
     "text": [
      "2.0\n"
     ]
    }
   ],
   "source": [
    "from math import sqrt\n",
    "print(sqrt(4))"
   ]
  },
  {
   "cell_type": "code",
   "execution_count": 50,
   "id": "238497ac-9007-47b4-b8d6-787aee0982cd",
   "metadata": {},
   "outputs": [
    {
     "name": "stdout",
     "output_type": "stream",
     "text": [
      "21.7 µs ± 3.71 µs per loop (mean ± std. dev. of 7 runs, 10,000 loops each)\n"
     ]
    }
   ],
   "source": [
    "%%timeit\n",
    "nuova_lista_grossa = []\n",
    "\n",
    "for element in grossa_lista[:100]:\n",
    "    nuova_lista_grossa.append(sqrt(element))"
   ]
  },
  {
   "cell_type": "code",
   "execution_count": null,
   "id": "7118ed63-e3ce-46d3-b96e-9ae4f43b0c1e",
   "metadata": {},
   "outputs": [
    {
     "name": "stdout",
     "output_type": "stream",
     "text": [
      "4.33 ms ± 228 µs per loop (mean ± std. dev. of 7 runs, 100 loops each)\n"
     ]
    }
   ],
   "source": [
    "%%timeit\n",
    "np.sqrt(grosso_array)"
   ]
  },
  {
   "cell_type": "code",
   "execution_count": 61,
   "id": "caf3f611-57a3-419c-8d2a-64458e5413f0",
   "metadata": {},
   "outputs": [
    {
     "data": {
      "text/plain": [
       "(2, 500000)"
      ]
     },
     "execution_count": 61,
     "metadata": {},
     "output_type": "execute_result"
    }
   ],
   "source": [
    "n = 1_000_000\n",
    "matrix = np.linspace(1, n, n).reshape(2, -1)\n",
    "\n",
    "matrix.shape"
   ]
  },
  {
   "cell_type": "code",
   "execution_count": 67,
   "id": "42044490-7cf8-4045-9825-40a2fa9ff63f",
   "metadata": {},
   "outputs": [
    {
     "data": {
      "text/plain": [
       "[1.0, 2.0, 3.0, 4.0, 5.0, 6.0, 7.0, 8.0, 9.0, 10.0]"
      ]
     },
     "execution_count": 67,
     "metadata": {},
     "output_type": "execute_result"
    }
   ],
   "source": [
    "matrice_grossa = matrix.tolist()"
   ]
  },
  {
   "cell_type": "code",
   "execution_count": 68,
   "id": "624fa111-f329-4586-aa24-51b819bed79c",
   "metadata": {},
   "outputs": [
    {
     "ename": "TypeError",
     "evalue": "list indices must be integers or slices, not list",
     "output_type": "error",
     "traceback": [
      "\u001b[0;31m---------------------------------------------------------------------------\u001b[0m",
      "\u001b[0;31mTypeError\u001b[0m                                 Traceback (most recent call last)",
      "Input \u001b[0;32mIn [68]\u001b[0m, in \u001b[0;36m<cell line: 3>\u001b[0;34m()\u001b[0m\n\u001b[1;32m      3\u001b[0m \u001b[38;5;28;01mfor\u001b[39;00m i \u001b[38;5;129;01min\u001b[39;00m matrice_grossa:\n\u001b[1;32m      4\u001b[0m     \u001b[38;5;28;01mfor\u001b[39;00m j \u001b[38;5;129;01min\u001b[39;00m i:\n\u001b[0;32m----> 5\u001b[0m         \u001b[43mnuova_matrice\u001b[49m\u001b[43m[\u001b[49m\u001b[43mi\u001b[49m\u001b[43m]\u001b[49m[j] \u001b[38;5;241m=\u001b[39m sqrt(j)\n",
      "\u001b[0;31mTypeError\u001b[0m: list indices must be integers or slices, not list"
     ]
    }
   ],
   "source": [
    "nuova_matrice = []\n",
    "\n",
    "for i in matrice_grossa:\n",
    "    for j in i:\n",
    "        nuova_matrice[i][j] = sqrt(j)\n",
    "\n"
   ]
  },
  {
   "cell_type": "code",
   "execution_count": 69,
   "id": "3f3c8b66-d3e5-467f-bfd0-5b22ec7d0bf0",
   "metadata": {},
   "outputs": [
    {
     "data": {
      "text/plain": [
       "array([[   1.        ,    1.41421356,    1.73205081, ...,  707.10536697,\n",
       "         707.10607408,  707.10678119],\n",
       "       [ 707.10748829,  707.1081954 ,  707.1089025 , ...,  999.999     ,\n",
       "         999.9995    , 1000.        ]])"
      ]
     },
     "execution_count": 69,
     "metadata": {},
     "output_type": "execute_result"
    }
   ],
   "source": [
    "np.sqrt(matrix)"
   ]
  }
 ],
 "metadata": {
  "kernelspec": {
   "display_name": "K2 Dashboard (3.9)",
   "language": "python",
   "name": "k2-dashboard"
  },
  "language_info": {
   "codemirror_mode": {
    "name": "ipython",
    "version": 3
   },
   "file_extension": ".py",
   "mimetype": "text/x-python",
   "name": "python",
   "nbconvert_exporter": "python",
   "pygments_lexer": "ipython3",
   "version": "3.9.9"
  }
 },
 "nbformat": 4,
 "nbformat_minor": 5
}
