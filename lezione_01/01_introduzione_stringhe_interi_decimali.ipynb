{
  "nbformat": 4,
  "nbformat_minor": 0,
  "metadata": {
    "colab": {
      "name": "01-introduzione-stringhe_interi_decimali.ipynb",
      "provenance": [],
      "collapsed_sections": []
    },
    "kernelspec": {
      "name": "python3",
      "display_name": "Python 3"
    },
    "language_info": {
      "name": "python"
    }
  },
  "cells": [
    {
      "cell_type": "markdown",
      "source": [
        "# Introduzione a Python\n",
        "\n",
        "## Dove scrivere il codice\n",
        "\n",
        "Ci sono diverse opzioni per scrivere codice in Python. In generale, possiamo dire che ci sono due modi principali:\n",
        "\n",
        "* Gli *script* ossia semplici file di testo, che possono essere creati anche semplicemente con TextEdit (su Mac) o Notepad (su Windows). Ovviamente non usiamo TextEdit per scrivere testo, perché sarebbe un inferno: esistono infinti programmi apoositi, ricchi di funzioni che ci aiutano a scrivere in modo più efficiente: ma alla fine si tratta di file leggerissimi che potrebbero essere scritti senza bisogno di applicazioni complicate. In fondo, gli script sono *plain text files*, ma che terminano in `.py` se sono script di Python (ma anche gli script di R sono la stessa cosa: solo che terminano in `.r`).\n",
        "* I *notebook*, che sono un formato interattivo affermatosi a metà degli anni 2000 ed è usato soprattutto per illustrare concetti (quindi in ambito accademico/formativo) o nelle prime fasi della data science. I notebook sono versatili perché permettono di alternare *blocchi* o *celle* di testo (in cui si scrive in [Markdown](https://www.markdownguide.org/) come sto facendo qui) e celle di codice.\n",
        "\n",
        "Esistono molte soluzioni online per scrivere notebook di Python: Colab è quella che vediamo a lezione, ma esistono anche [Kaggle](https://www.kaggle.com/) e [DeepNote](https://deepnote.com/). Queste soluzioni online sono molto versatili perché non richiedono di installare Python e altre librerie *localmente* (cioè sul vostro computer), ma funzionano *in remoto*: sfruttano cioè dei server di Google o di altri fornitori per eseguire il codice.\n",
        "\n",
        "Lavoreremo prevalentemente su Colab, perché per configurare e usare al meglio Python in locale serve un po' di dimestichezza con il terminale (o linea di comando): qualcosa di relativamente semplice da imparare, ma che non abbiamo tempo di seguire direttamente in un corso di economia. Agli interessati, contattatemi pure - ad esempio anche su Ariel: se siamo abbastanza, potrei fare una lezione su questa cosa, oppure mandarvi individualmente qualche tutorial.\n",
        "\n",
        "Per completezza di informazioni: in locale, esistono ottimi ambienti di sviluppo integrati (IDE, in inglese) per scrivere sia script che notebooks. Si tratta di programmi equivalenti a RStudio, spesso specifici per Python. Il migliore è indubbiamente PyCharm, sviluppato da JetBrains - un editor molto apprezzato e ricco di funzioni, che potete scaricare sia in versione gratuita (*Community Edition*) che full-feature (*Professional*) senza costi, in quanto studenti. La versione Community non supporta i notebook, quella premium sì.\n",
        "\n",
        "L'altro IDE molto usato è Visual Studio Code (di Microsoft) che è gratuito e supporta anche altri linguaggi di programmazione. Si può usare sia con script che Notebook, ma a differenza di PyCharm farà surriscaldare un po' di più il vostro computer perché non è così ottimizzato. Alternativamente, potete scaricare un altro editor specifico anche per i Notebook - Jupyter Lab."
      ],
      "metadata": {
        "id": "We_77YJIVwFS"
      }
    },
    {
      "cell_type": "markdown",
      "source": [
        "## Fondamentali di Python"
      ],
      "metadata": {
        "id": "rZ-9iQHMZMP_"
      }
    },
    {
      "cell_type": "code",
      "source": [
        "# assegnare una variabile\n",
        "a = 10"
      ],
      "metadata": {
        "id": "R2dzZKLpZLsO"
      },
      "execution_count": null,
      "outputs": []
    },
    {
      "cell_type": "markdown",
      "source": [
        "Le variabili si assegnano con `=`. Ogni variabile è un *oggetto* di un certo `tipo`, che possiamo verificare con la funzione `type()`:"
      ],
      "metadata": {
        "id": "MqE2QRgrZTIt"
      }
    },
    {
      "cell_type": "code",
      "source": [
        "type(a)"
      ],
      "metadata": {
        "colab": {
          "base_uri": "https://localhost:8080/"
        },
        "id": "RYVgftBWZSab",
        "outputId": "7744833d-2c53-43c0-c93d-5e2c25a9650d"
      },
      "execution_count": null,
      "outputs": [
        {
          "output_type": "execute_result",
          "data": {
            "text/plain": [
              "int"
            ]
          },
          "metadata": {},
          "execution_count": 3
        }
      ]
    },
    {
      "cell_type": "markdown",
      "source": [
        "## Interi e Decimali"
      ],
      "metadata": {
        "id": "0bjsbT-Ia28A"
      }
    },
    {
      "cell_type": "markdown",
      "source": [
        "`a` è di tipo `int`, cioè è un intero. Gli altri tipi che vedremo oggi sono i `float`, cioè i numeri con decimali, e le stringhe (o `str`).\n",
        "\n",
        "Curiosità: potete scrivere un numero qualsiasi mettendo `_` (o underscore) per separare le cifre, in modo da renderlo più leggibile (questa cosa non si può fare con R)."
      ],
      "metadata": {
        "id": "9dZT3br3Z17M"
      }
    },
    {
      "cell_type": "code",
      "source": [
        "big_number = 1_000_000\n",
        "print(big_number)"
      ],
      "metadata": {
        "colab": {
          "base_uri": "https://localhost:8080/"
        },
        "id": "mR8vLm_xZn-i",
        "outputId": "c9954b9d-e495-40aa-de21-70f484c3f74c"
      },
      "execution_count": null,
      "outputs": [
        {
          "output_type": "stream",
          "name": "stdout",
          "text": [
            "1000000\n"
          ]
        }
      ]
    },
    {
      "cell_type": "markdown",
      "source": [
        "Con `print()` possiamo `stampare a schermo`, cioè visualizzare, l'espressione scritta tra parentesi. Più precisamente, il codice viene **eseguito** e ci viene mostrato il suo risultato.\n",
        "\n",
        "Nel caso sopra, vediamo che avere scritto `big_number` con due `_` serve solo per renderlo più facile da leggere per noi: Python lo printerà senza trattini."
      ],
      "metadata": {
        "id": "hMnYuf1NaSqO"
      }
    },
    {
      "cell_type": "code",
      "source": [
        "print(2 + 3)"
      ],
      "metadata": {
        "colab": {
          "base_uri": "https://localhost:8080/"
        },
        "id": "dSCoQeOZaqw5",
        "outputId": "754fb0b4-1679-4951-d3cc-e2c95435c529"
      },
      "execution_count": null,
      "outputs": [
        {
          "output_type": "stream",
          "name": "stdout",
          "text": [
            "5\n"
          ]
        }
      ]
    },
    {
      "cell_type": "markdown",
      "source": [
        "## Stringhe\n",
        "\n",
        "Le stringhe possono essere sia lettere che parole o frasi. Devono essere racchiuse tra `'` o `\"` (sia singoli che tripli, cioè così `\"\"\"`). Questo perché certe stringhe potrebbero già avere al loro interno degli apostrofi o virgolette che vogliamo preservare:"
      ],
      "metadata": {
        "id": "VJD2t7G_a7nL"
      }
    },
    {
      "cell_type": "code",
      "source": [
        "articolo = \"un po'\""
      ],
      "metadata": {
        "id": "fRMo7sKfa6pY"
      },
      "execution_count": null,
      "outputs": []
    },
    {
      "cell_type": "markdown",
      "source": [
        "Se la stringa contiene `'`, racchiudiamola tra `\"` e viceversa. Per semplicità, o per scrivere strighe lunghe più di una riga, possiamo usare tre `\"`:"
      ],
      "metadata": {
        "id": "PIao4ifvbUkN"
      }
    },
    {
      "cell_type": "code",
      "execution_count": null,
      "metadata": {
        "colab": {
          "base_uri": "https://localhost:8080/"
        },
        "id": "tZSDtgIeja9O",
        "outputId": "3eb23041-656a-42f6-a8c0-9991b3ade5bc"
      },
      "outputs": [
        {
          "output_type": "stream",
          "name": "stdout",
          "text": [
            "Dwayne 'The Rock' Thomson\n",
            "Dwayne \"The Rock\" Thomson\n",
            "\n",
            "Lorem ipsum dolor sit amet, \"consectetur\" adipiscing elit, sed do eiusmod\n",
            "tempor incididunt ut labore et dolore magna aliqua. Ut enim ad minim veniam,\n",
            "quis nostrud exercitation ullamco laboris nisi ut aliquip ex ea commodo consequat.\n",
            "Duis aute irure dolor in reprehenderit in voluptate velit esse cillum dolore eu \n",
            "fugiat nulla pariatur. Excepteur sint occaecat cupidatat non proident,\n",
            "sunt in culpa qui officia deserunt mollit anim id est laborum.\n",
            "\n"
          ]
        }
      ],
      "source": [
        "the_rock = \"Dwayne 'The Rock' Thomson\"\n",
        "the_rock_2 = 'Dwayne \"The Rock\" Thomson'\n",
        "lorem_ipsum = \"\"\"\n",
        "Lorem ipsum dolor sit amet, \"consectetur\" adipiscing elit, sed do eiusmod\n",
        "tempor incididunt ut labore et dolore magna aliqua. Ut enim ad minim veniam,\n",
        "quis nostrud exercitation ullamco laboris nisi ut aliquip ex ea commodo consequat.\n",
        "Duis aute irure dolor in reprehenderit in voluptate velit esse cillum dolore eu \n",
        "fugiat nulla pariatur. Excepteur sint occaecat cupidatat non proident,\n",
        "sunt in culpa qui officia deserunt mollit anim id est laborum.\n",
        "\"\"\"\n",
        "\n",
        "print(the_rock)\n",
        "print(the_rock_2)\n",
        "print(lorem_ipsum)"
      ]
    },
    {
      "cell_type": "markdown",
      "source": [
        "## Dare nomi alle variabili\n",
        "\n",
        "È molto importante che il codice che scriviamo sia comprensibile: per gli altri, ma anche se ci capiterà di rileggere il codice che abbiamo scritto tra qualche mese.\n",
        "\n",
        "La convenzione (in Python, ma che è bene usare anche in R) è di scrivere **tutte le variabili e nomi di funzioni in minuscolo**. In caso di variabili lunghe più di una parola, **si separano con un trattino basso `_`**.\n",
        "\n",
        "Sono nomi buoni:\n",
        "\n",
        "```python\n",
        "odd_number = 7\n",
        "very_big_number = 123456789\n",
        "very_small_number = 0.123456789\n",
        "```\n",
        "\n",
        "Sono nomi _tremendi_:\n",
        "\n",
        "```python\n",
        "df # un'abbreviazione di `dataframe`, cioè di dataset o insieme di dati\n",
        "```\n",
        "\n",
        "E tutte le variazioni un po' pigre tipo `df1`, `df_copy`... che vengono usate per salvare il nuovo dataset dopo che avete fatto delle trasformazioni (anche solo droppare alcune colonne).\n",
        "\n",
        "Il `CamelCase` viene usato in Python ma per designare altri tipi di oggetti, dette `Classi`, di cui non ci occuperemo."
      ],
      "metadata": {
        "id": "LEn6NuuKcQ8g"
      }
    },
    {
      "cell_type": "markdown",
      "source": [
        "## Concatenare stringhe\n",
        "\n",
        "Possiamo concatenare diverse stringhe - il modo più diretto (ma che non è il più efficiente) è usando un `+`."
      ],
      "metadata": {
        "id": "sHJCZi4Sb4Ng"
      }
    },
    {
      "cell_type": "code",
      "source": [
        "greeting = \"Hello \"\n",
        "name = \"Luca\"\n",
        "\n",
        "print(greeting + name)"
      ],
      "metadata": {
        "colab": {
          "base_uri": "https://localhost:8080/"
        },
        "id": "cpp9dJ88b3nu",
        "outputId": "f011ffe5-089c-4f0f-d506-11e5c1e3714b"
      },
      "execution_count": null,
      "outputs": [
        {
          "output_type": "stream",
          "name": "stdout",
          "text": [
            "Hello Luca\n"
          ]
        }
      ]
    },
    {
      "cell_type": "markdown",
      "source": [
        "Questo diventa problematico se però concateniamo una stringa e qualcosa che non è una stringa:"
      ],
      "metadata": {
        "id": "ZevOHg_jdnds"
      }
    },
    {
      "cell_type": "code",
      "source": [
        "print(greeting + 9)"
      ],
      "metadata": {
        "colab": {
          "base_uri": "https://localhost:8080/",
          "height": 171
        },
        "id": "add0FF8ldmiC",
        "outputId": "a5ce3805-1450-42fa-83c4-f6f9f0031bda"
      },
      "execution_count": null,
      "outputs": [
        {
          "output_type": "error",
          "ename": "TypeError",
          "evalue": "ignored",
          "traceback": [
            "\u001b[0;31m---------------------------------------------------------------------------\u001b[0m",
            "\u001b[0;31mTypeError\u001b[0m                                 Traceback (most recent call last)",
            "\u001b[0;32m<ipython-input-11-68d324025e7d>\u001b[0m in \u001b[0;36m<module>\u001b[0;34m()\u001b[0m\n\u001b[0;32m----> 1\u001b[0;31m \u001b[0mprint\u001b[0m\u001b[0;34m(\u001b[0m\u001b[0mgreeting\u001b[0m \u001b[0;34m+\u001b[0m \u001b[0;36m9\u001b[0m\u001b[0;34m)\u001b[0m\u001b[0;34m\u001b[0m\u001b[0;34m\u001b[0m\u001b[0m\n\u001b[0m",
            "\u001b[0;31mTypeError\u001b[0m: can only concatenate str (not \"int\") to str"
          ]
        }
      ]
    },
    {
      "cell_type": "markdown",
      "source": [
        "Fare ciò risulterà in un errore - più precisamente un `TypeError`, cioè un errore legato ai tipi delle variabili. Questo perché si possono concatenare variabili che sono solo stringhe tra di loro.\n",
        "\n",
        "Se non riuscite a risovlere immediatamente un errore (o *bug*), copiate il messaggio di errore - in questo caso `TypeError: can only concatenate str (not \"int\") to str` e cercatelo su StackOverflow - che è la piattaforma di Q&A più usata per risolvere moltissimi problemi (principalmente di programmazione, ma anche di statistica e altro).\n",
        "\n",
        "Una nota: quando l'esecuzione di una cella si interrompe per un errore, Colab vi offre un bottone per cercare automaticamente il messaggio su StackOverflow.\n",
        "\n",
        "Per concatenare una stringa e un numero possiamo prima convertire il numero in stringa:"
      ],
      "metadata": {
        "id": "fGOV_owRdwwz"
      }
    },
    {
      "cell_type": "code",
      "source": [
        "print(greeting + str(9))"
      ],
      "metadata": {
        "colab": {
          "base_uri": "https://localhost:8080/"
        },
        "id": "cP516RXEegu_",
        "outputId": "09d9ad1a-41d0-4f39-b821-b41f465cbb58"
      },
      "execution_count": null,
      "outputs": [
        {
          "output_type": "stream",
          "name": "stdout",
          "text": [
            "Hello 9\n"
          ]
        }
      ]
    },
    {
      "cell_type": "markdown",
      "source": [
        "Se infatti guardiamo il tipo di `str(9)` con `type()`:"
      ],
      "metadata": {
        "id": "IfkrN4QGek8w"
      }
    },
    {
      "cell_type": "code",
      "source": [
        "print(type(str(9)))"
      ],
      "metadata": {
        "colab": {
          "base_uri": "https://localhost:8080/"
        },
        "id": "SdhQH9LyesT5",
        "outputId": "06140b1b-4b95-4562-d95e-b3d1162c89c4"
      },
      "execution_count": null,
      "outputs": [
        {
          "output_type": "stream",
          "name": "stdout",
          "text": [
            "<class 'str'>\n"
          ]
        }
      ]
    },
    {
      "cell_type": "markdown",
      "source": [
        "Vediamo che è una `classe` di tipo stringa (vedremo meglio domani che cosa significa).\n",
        "\n",
        "La soluzione più elegante è usare le cosiddette `stringhe di formattazione`:"
      ],
      "metadata": {
        "id": "HZfRzrqDewe9"
      }
    },
    {
      "cell_type": "code",
      "source": [
        "winning_number = 9\n",
        "print(f\"Il numero vincente è: {winning_number}\")"
      ],
      "metadata": {
        "colab": {
          "base_uri": "https://localhost:8080/"
        },
        "id": "0woZgEO5fBR0",
        "outputId": "f33df5f5-b0ee-4a88-c9a8-9cd5fe5d06b3"
      },
      "execution_count": null,
      "outputs": [
        {
          "output_type": "stream",
          "name": "stdout",
          "text": [
            "Il numero vincente è: 9\n"
          ]
        }
      ]
    },
    {
      "cell_type": "markdown",
      "source": [
        "Notiamo che stiamo stampando a schermo (\"printando\") una stringa che però precediamo con una `f` (che signfica \"formatted\"). Per dire a Python dove convertire automaticamente una variabile che abbiamo definito in una stringa, ci basta racchiuderla tra parentesi graffe `{}`.\n",
        "\n",
        "Senza `f` e `{}`, la sostituzione del valore della variabile non avviene:"
      ],
      "metadata": {
        "id": "KRiSboJ5fKbg"
      }
    },
    {
      "cell_type": "code",
      "source": [
        "print(\"Il numero vincente è: {winning_number}\")\n",
        "print(f\"Il numero vincente è: winning_number\")"
      ],
      "metadata": {
        "colab": {
          "base_uri": "https://localhost:8080/"
        },
        "id": "ljqmIfM8fggs",
        "outputId": "c36970ed-5c52-4355-edc0-780f0438497a"
      },
      "execution_count": null,
      "outputs": [
        {
          "output_type": "stream",
          "name": "stdout",
          "text": [
            "Il numero vincente è: {winning_number}\n",
            "Il numero vincente è: winning_number\n"
          ]
        }
      ]
    },
    {
      "cell_type": "markdown",
      "source": [
        "## Altre conversioni\n",
        "\n",
        "Possiamo convertire interi in decimali ma anche decimali in interi: in questo modo, li arrotonderemo."
      ],
      "metadata": {
        "id": "CAscviPNfgJe"
      }
    },
    {
      "cell_type": "code",
      "source": [
        "integer = 12 # int\n",
        "pi = 3.1415 # float\n",
        "number = \"12\" # str\n",
        "\n",
        "print(f\"This integer was converted into a float: {integer} -> {float(integer)}\")\n",
        "print(f\"If you make `pi` into an integer, it will be rounded: {pi} -> {int(pi)}\")"
      ],
      "metadata": {
        "colab": {
          "base_uri": "https://localhost:8080/"
        },
        "id": "R7_NfOKEpb_K",
        "outputId": "796b3e74-a84f-42e4-8985-2806181b4413"
      },
      "execution_count": null,
      "outputs": [
        {
          "output_type": "stream",
          "name": "stdout",
          "text": [
            "This integer was converted into a float: 12 -> 12.0\n",
            "If you make `pi` into an integer, it will be rounded: 3.1415 3\n"
          ]
        }
      ]
    }
  ]
}