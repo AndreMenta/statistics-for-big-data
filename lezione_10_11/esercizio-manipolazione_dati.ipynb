{
 "cells": [
  {
   "cell_type": "markdown",
   "id": "b7f8748b-06d5-484b-b2c7-2310134a8a1e",
   "metadata": {},
   "source": [
    "# Esercizio di manipolazione dei dati\n",
    "\n",
    "L'80% del lavoro di un data scientist consiste nella cosiddetta \"pulizia dei dati\" o *data wrangling* (mentre nel restante 20% del tempo solitamente ci si lamenta di dover pulire i dati). Nelle prossime due lezioni lavoreremo su un caso più pratico.\n",
    "\n",
    "Nella cartella `data` sono presenti dei file `.csv` (*comma separated values*) che rappresentano delle tabelle disordinate. L'esercizio richiede di:\n",
    "\n",
    "1. Leggere tutti i CSV.\n",
    "2. Concatenarli in un unico dataset.\n",
    "3. Ordinarli.\n",
    "4. Eliminare le righe con valori doppi.\n",
    "5. Cambiare il nome di una o più colonne.\n",
    "5. Modificare dei valori direttamente.\n",
    "\n",
    "E poi disegnare qualche grafico.\n",
    "\n",
    "Cominciamo importando `pandas`."
   ]
  },
  {
   "cell_type": "code",
   "execution_count": 1,
   "id": "b2129334-35f4-469b-ae7e-f3e7ecbc42a3",
   "metadata": {},
   "outputs": [],
   "source": [
    "import pandas as pd"
   ]
  },
  {
   "cell_type": "markdown",
   "id": "c1a7127c-5485-4e13-a919-208ecce80e0f",
   "metadata": {},
   "source": [
    "Per vedere i contenuti di una cartella (in inglese, più propriamente si dice *directory*), possiamo usare il `!` per usare un comando del terminale: `ls` (abbreviazione di *list*):"
   ]
  },
  {
   "cell_type": "code",
   "execution_count": 2,
   "id": "cd4b91dc-271f-4d5f-85c9-b9c53ba634f0",
   "metadata": {},
   "outputs": [
    {
     "name": "stdout",
     "output_type": "stream",
     "text": [
      "\u001b[31m2022_05_24-17_23_33-checkpoint-labels_annotations.csv\u001b[m\u001b[m\n",
      "\u001b[31m2022_05_24-17_53_48-checkpoint-labels_annotations.csv\u001b[m\u001b[m\n",
      "\u001b[31m2022_05_24-17_54_49-checkpoint-labels_annotations.csv\u001b[m\u001b[m\n",
      "\u001b[31m2022_05_24-19_37_44-checkpoint-labels_annotations.csv\u001b[m\u001b[m\n",
      "\u001b[31m2022_05_24-20_09_25-checkpoint-labels_annotations.csv\u001b[m\u001b[m\n",
      "\u001b[31m2022_05_31-17_36_01-checkpoint-labels_annotations.csv\u001b[m\u001b[m\n",
      "\u001b[31m2022_05_31-20_32_30-checkpoint-labels_annotations.csv\u001b[m\u001b[m\n",
      "\u001b[31m2022_05_31-20_44_48-checkpoint-labels_annotations.csv\u001b[m\u001b[m\n",
      "\u001b[31m2022_05_31-22_39_35-checkpoint-labels_annotations.csv\u001b[m\u001b[m\n",
      "checkpoints.zip\n"
     ]
    }
   ],
   "source": [
    "!ls -1 ./data"
   ]
  },
  {
   "cell_type": "markdown",
   "id": "e9abd063-0490-4b54-8abe-621aba60bcc9",
   "metadata": {},
   "source": [
    "Ma possiamo anche usare un modulo built-in di Python, che si chiama `os` (*operative system*, cioè per manipolare i contenuti del vostro computer):"
   ]
  },
  {
   "cell_type": "code",
   "execution_count": 4,
   "id": "423f0749-c350-4f1a-a176-3ad615aec15b",
   "metadata": {},
   "outputs": [
    {
     "data": {
      "text/plain": [
       "'/Users/luca/Documents/dev/python-projects/lectures/statistica-big-data-economico-aziendali/lezione_10'"
      ]
     },
     "execution_count": 4,
     "metadata": {},
     "output_type": "execute_result"
    }
   ],
   "source": [
    "import os\n",
    "os.getcwd()"
   ]
  },
  {
   "cell_type": "code",
   "execution_count": 5,
   "id": "a0d6be25-04bf-40dd-b2a5-32d3d75f2908",
   "metadata": {},
   "outputs": [
    {
     "data": {
      "text/plain": [
       "['.DS_Store',\n",
       " 'esercizio-manipolazione_dati.ipynb',\n",
       " '.ipynb_checkpoints',\n",
       " 'data']"
      ]
     },
     "execution_count": 5,
     "metadata": {},
     "output_type": "execute_result"
    }
   ],
   "source": [
    "os.listdir()"
   ]
  },
  {
   "cell_type": "markdown",
   "id": "d80ff6eb-15b5-4f63-afb7-df6310788a01",
   "metadata": {},
   "source": [
    "# 1. Leggere i `.csv`\n",
    "\n",
    "## 1.1 Leggere un file di prova"
   ]
  },
  {
   "cell_type": "markdown",
   "id": "20c5f43a-243f-44d9-a2c0-baecd629853b",
   "metadata": {},
   "source": [
    "Leggiamo uno dei CSV per capire che colonne ha:"
   ]
  },
  {
   "cell_type": "code",
   "execution_count": 6,
   "id": "ea64f97c-d66a-4891-b587-37c4e4b21456",
   "metadata": {},
   "outputs": [
    {
     "data": {
      "text/html": [
       "<div>\n",
       "<style scoped>\n",
       "    .dataframe tbody tr th:only-of-type {\n",
       "        vertical-align: middle;\n",
       "    }\n",
       "\n",
       "    .dataframe tbody tr th {\n",
       "        vertical-align: top;\n",
       "    }\n",
       "\n",
       "    .dataframe thead th {\n",
       "        text-align: right;\n",
       "    }\n",
       "</style>\n",
       "<table border=\"1\" class=\"dataframe\">\n",
       "  <thead>\n",
       "    <tr style=\"text-align: right;\">\n",
       "      <th></th>\n",
       "      <th>roof_id</th>\n",
       "      <th>imageURL</th>\n",
       "      <th>photos_folder</th>\n",
       "      <th>annotation</th>\n",
       "      <th>annotation_time</th>\n",
       "    </tr>\n",
       "  </thead>\n",
       "  <tbody>\n",
       "    <tr>\n",
       "      <th>0</th>\n",
       "      <td>1</td>\n",
       "      <td>2e69e5ad-53e9-daca-b4c4-b9ed9505858b.png</td>\n",
       "      <td>small_photos-api_upload</td>\n",
       "      <td>0</td>\n",
       "      <td>2022_05_24-17_15_18</td>\n",
       "    </tr>\n",
       "    <tr>\n",
       "      <th>1</th>\n",
       "      <td>266</td>\n",
       "      <td>c6944d60-8f49-d368-75f3-b151d77d2e3e.png</td>\n",
       "      <td>small_photos-api_upload</td>\n",
       "      <td>1</td>\n",
       "      <td>2022_05_24-17_17_06</td>\n",
       "    </tr>\n",
       "    <tr>\n",
       "      <th>2</th>\n",
       "      <td>370</td>\n",
       "      <td>02c68e36-1016-35e2-a9a9-6072e54f2e39.png</td>\n",
       "      <td>small_photos-api_upload</td>\n",
       "      <td>0</td>\n",
       "      <td>2022_05_24-17_20_24</td>\n",
       "    </tr>\n",
       "    <tr>\n",
       "      <th>3</th>\n",
       "      <td>421</td>\n",
       "      <td>75da75a6-5bf9-e070-527c-6a59b6f929ec.png</td>\n",
       "      <td>small_photos-api_upload</td>\n",
       "      <td>0</td>\n",
       "      <td>2022_05_24-17_21_51</td>\n",
       "    </tr>\n",
       "    <tr>\n",
       "      <th>4</th>\n",
       "      <td>925</td>\n",
       "      <td>ffcda7c4-cfd3-c84a-facd-a385a3afde28.png</td>\n",
       "      <td>small_photos-api_upload</td>\n",
       "      <td>1</td>\n",
       "      <td>2022_05_24-17_17_58</td>\n",
       "    </tr>\n",
       "  </tbody>\n",
       "</table>\n",
       "</div>"
      ],
      "text/plain": [
       "   roof_id                                  imageURL            photos_folder  \\\n",
       "0        1  2e69e5ad-53e9-daca-b4c4-b9ed9505858b.png  small_photos-api_upload   \n",
       "1      266  c6944d60-8f49-d368-75f3-b151d77d2e3e.png  small_photos-api_upload   \n",
       "2      370  02c68e36-1016-35e2-a9a9-6072e54f2e39.png  small_photos-api_upload   \n",
       "3      421  75da75a6-5bf9-e070-527c-6a59b6f929ec.png  small_photos-api_upload   \n",
       "4      925  ffcda7c4-cfd3-c84a-facd-a385a3afde28.png  small_photos-api_upload   \n",
       "\n",
       "   annotation      annotation_time  \n",
       "0           0  2022_05_24-17_15_18  \n",
       "1           1  2022_05_24-17_17_06  \n",
       "2           0  2022_05_24-17_20_24  \n",
       "3           0  2022_05_24-17_21_51  \n",
       "4           1  2022_05_24-17_17_58  "
      ]
     },
     "execution_count": 6,
     "metadata": {},
     "output_type": "execute_result"
    }
   ],
   "source": [
    "test_checkpoint = pd.read_csv(\"./data/2022_05_24-17_23_33-checkpoint-labels_annotations.csv\")\n",
    "test_checkpoint.head()"
   ]
  },
  {
   "cell_type": "markdown",
   "id": "9b194977-c5c5-434f-8fd4-c34886ccd57e",
   "metadata": {},
   "source": [
    "Si noti che il *path* (o percorso) al file è `./data/<nome_del_file>`; come abbiamo detto più volte:\n",
    "\n",
    "- `.` indica la cartella in cui ci troviamo ora (che possiamo vedere con `os.getcwd()` o con `!pwd`)\n",
    "- `/` è il path separator (`\\` su Windows)\n",
    "- `data` è la cartella con i dati\n",
    "\n",
    "Vediamo tutti i CSV in una volta:"
   ]
  },
  {
   "cell_type": "code",
   "execution_count": 7,
   "id": "e0374e08-7053-4c45-bab3-0fc3e1d6e39e",
   "metadata": {},
   "outputs": [
    {
     "data": {
      "text/plain": [
       "['2022_05_31-20_32_30-checkpoint-labels_annotations.csv',\n",
       " '.DS_Store',\n",
       " '2022_05_24-17_23_33-checkpoint-labels_annotations.csv',\n",
       " '2022_05_24-19_37_44-checkpoint-labels_annotations.csv',\n",
       " '2022_05_31-17_36_01-checkpoint-labels_annotations.csv',\n",
       " '2022_05_24-17_54_49-checkpoint-labels_annotations.csv',\n",
       " '2022_05_24-20_09_25-checkpoint-labels_annotations.csv',\n",
       " '2022_05_24-17_53_48-checkpoint-labels_annotations.csv',\n",
       " '.ipynb_checkpoints',\n",
       " 'checkpoints.zip',\n",
       " '2022_05_31-20_44_48-checkpoint-labels_annotations.csv',\n",
       " '2022_05_31-22_39_35-checkpoint-labels_annotations.csv']"
      ]
     },
     "execution_count": 7,
     "metadata": {},
     "output_type": "execute_result"
    }
   ],
   "source": [
    "os.listdir(\"./data\")"
   ]
  },
  {
   "cell_type": "markdown",
   "id": "5bf39ab4-0ffb-4134-a78c-2fca5e2a8bd1",
   "metadata": {},
   "source": [
    "Nella cartella ci sono dei file che non vanno bene: `.DS_Store` e `.ipynb_checkpoints`. Per rimuoverli abbiamo diverse scelte:\n",
    "\n",
    "### 1.1.1 Molto poco originale\n",
    "\n",
    "Il più banale, usando sostanzialmente tutte le cose viste finora:"
   ]
  },
  {
   "cell_type": "code",
   "execution_count": 8,
   "id": "f88c9571-9f1a-467f-af69-f0c13dee05a5",
   "metadata": {},
   "outputs": [
    {
     "data": {
      "text/plain": [
       "['2022_05_31-20_32_30-checkpoint-labels_annotations.csv',\n",
       " '2022_05_24-17_23_33-checkpoint-labels_annotations.csv',\n",
       " '2022_05_24-19_37_44-checkpoint-labels_annotations.csv',\n",
       " '2022_05_31-17_36_01-checkpoint-labels_annotations.csv',\n",
       " '2022_05_24-17_54_49-checkpoint-labels_annotations.csv',\n",
       " '2022_05_24-20_09_25-checkpoint-labels_annotations.csv',\n",
       " '2022_05_24-17_53_48-checkpoint-labels_annotations.csv',\n",
       " 'checkpoints.zip',\n",
       " '2022_05_31-20_44_48-checkpoint-labels_annotations.csv',\n",
       " '2022_05_31-22_39_35-checkpoint-labels_annotations.csv']"
      ]
     },
     "execution_count": 8,
     "metadata": {},
     "output_type": "execute_result"
    }
   ],
   "source": [
    "lista_di_file = os.listdir(\"./data\")\n",
    "\n",
    "file_da_rimuovere = [\".DS_Store\", \".ipynb_checkpoints\"]\n",
    "\n",
    "for file in file_da_rimuovere:\n",
    "    lista_di_file.remove(file)\n",
    "    \n",
    "lista_di_file"
   ]
  },
  {
   "cell_type": "markdown",
   "id": "068d6f4c-ce51-46a2-93ad-ed093aa112c4",
   "metadata": {},
   "source": [
    "Perché non \"va bene\"? Perché non si tratta di un approccio **scalabile**, che cioè funziona quando il numero di file che abbiamo è molto grande. Immaginate che ci siano un numero imprecisato di file da escludere: non possiamo mica stare ad annotarli a mano in una lista uno per uno. Ovviamente, quindi, esisterà un modo persino più rapido per risolvere il problema.\n",
    "\n",
    "### 1.1.2 Un nuovo metodo per le stringhe\n",
    "\n",
    "Alla fine vogliamo solo tenere tutti i file che finiscono per `.csv`. In questi casi, bisogna sempre pensare che il nostro problema è abbastanza comune e che qualcuno lo avrà già risolto: per cui solitamente si fa una ricerca su Google - o meglio su StackOverflow direttamente.\n",
    "\n",
    "In realtà, è ancora meglio cercare se una cosa così non esiste già in Python: il metodo `string.startswith()` o `string.endswith()` è quello che cerchiamo."
   ]
  },
  {
   "cell_type": "code",
   "execution_count": 9,
   "id": "49504c59-b537-49b1-8337-496484d21858",
   "metadata": {},
   "outputs": [
    {
     "data": {
      "text/plain": [
       "['2022_05_31-20_32_30-checkpoint-labels_annotations.csv',\n",
       " '2022_05_24-17_23_33-checkpoint-labels_annotations.csv',\n",
       " '2022_05_24-19_37_44-checkpoint-labels_annotations.csv',\n",
       " '2022_05_31-17_36_01-checkpoint-labels_annotations.csv',\n",
       " '2022_05_24-17_54_49-checkpoint-labels_annotations.csv',\n",
       " '2022_05_24-20_09_25-checkpoint-labels_annotations.csv',\n",
       " '2022_05_24-17_53_48-checkpoint-labels_annotations.csv',\n",
       " '2022_05_31-20_44_48-checkpoint-labels_annotations.csv',\n",
       " '2022_05_31-22_39_35-checkpoint-labels_annotations.csv']"
      ]
     },
     "execution_count": 9,
     "metadata": {},
     "output_type": "execute_result"
    }
   ],
   "source": [
    "lista_di_file = []\n",
    "\n",
    "files = os.listdir(\"./data\")\n",
    "\n",
    "for file in files:\n",
    "    if file.endswith(\"checkpoint-labels_annotations.csv\"):\n",
    "        lista_di_file.append(file)\n",
    "    \n",
    "lista_di_file"
   ]
  },
  {
   "cell_type": "markdown",
   "id": "2b1cbb58-e0f4-4026-ab23-166671a5e174",
   "metadata": {
    "tags": []
   },
   "source": [
    "### 1.1.3 Approfondimento: List comprehensions\n",
    "\n",
    "Le list comprehensions sono una sintassi elegante per scrivere il codice sopra ma senza for loop e liste vuote. Dei tutorial molto brevi e ben fatti sono qui:\n",
    "\n",
    "- [calmcode.io](https://calmcode.io/comprehensions/introduction.html) ha dei video brevissimi e fatti benissimo\n",
    "- [realpython.com](https://realpython.com/list-comprehension-python/) la solita fonte dettagliata\n",
    "- [programiz.com](https://www.programiz.com/python-programming/list-comprehension) stessa cosa ma spiegata da qualcun altro\n",
    "\n",
    "Vediamo un esempio pratico. La struttura di una comprehension è sostanzialmente la stessa di un for loop, ma \"appiattito\" su una riga:\n",
    "\n",
    "`a = [x for x in range(1000)]`\n",
    "\n",
    "`x for x in range(1000)` è letteralmente la stessa sintassi del for loop, solo che l'oggetto (`x`) è davanti. Questo perché possiamo eseguire qualsiasi operazione che vogliamo con `x`:\n",
    "\n",
    "`a = [x**2 for x in range(1000) if x % 2 == 0]`\n",
    "\n",
    "La comprehension sopra fa questo: costruisce una lista elevando al quadrato ogni `x` nel range da 0 a 1000, se `x` è pari."
   ]
  },
  {
   "cell_type": "code",
   "execution_count": 10,
   "id": "2f289015-54ed-48a7-b8c0-4246f776cb8c",
   "metadata": {},
   "outputs": [
    {
     "name": "stdout",
     "output_type": "stream",
     "text": [
      "[0, 4, 16, 36, 64, 100, 144, 196, 256, 324, 400, 484, 576, 676, 784, 900, 1024, 1156, 1296, 1444, 1600, 1764, 1936, 2116, 2304, 2500, 2704, 2916, 3136, 3364]\n"
     ]
    }
   ],
   "source": [
    "a = [x**2 for x in range(1000) if x % 2 == 0]\n",
    "print(a[:30])"
   ]
  },
  {
   "cell_type": "markdown",
   "id": "5f40ce4f-ac2f-4a99-84c7-6eb8fe6550cf",
   "metadata": {},
   "source": [
    "Diventa molto facile estendere questa logica a operazioni più \"concrete\":"
   ]
  },
  {
   "cell_type": "code",
   "execution_count": 11,
   "id": "952b7c1d-830a-4a4e-80cd-8a86868f3a8a",
   "metadata": {},
   "outputs": [
    {
     "data": {
      "text/plain": [
       "['2022_05_31-20_32_30-checkpoint-labels_annotations.csv',\n",
       " '2022_05_24-17_23_33-checkpoint-labels_annotations.csv',\n",
       " '2022_05_24-19_37_44-checkpoint-labels_annotations.csv',\n",
       " '2022_05_31-17_36_01-checkpoint-labels_annotations.csv',\n",
       " '2022_05_24-17_54_49-checkpoint-labels_annotations.csv',\n",
       " '2022_05_24-20_09_25-checkpoint-labels_annotations.csv',\n",
       " '2022_05_24-17_53_48-checkpoint-labels_annotations.csv',\n",
       " '2022_05_31-20_44_48-checkpoint-labels_annotations.csv',\n",
       " '2022_05_31-22_39_35-checkpoint-labels_annotations.csv']"
      ]
     },
     "execution_count": 11,
     "metadata": {},
     "output_type": "execute_result"
    }
   ],
   "source": [
    "# list comprehensions\n",
    "lista_di_file = [\n",
    "    file                                                     # semplicemente il nome del file\n",
    "    for file in os.listdir(\"./data\")                         # per ogni file nella nostra directory `data`\n",
    "    if file.endswith(\"-checkpoint-labels_annotations.csv\")   # solo se il file finisce per queste parole\n",
    "]\n",
    "\n",
    "lista_di_file"
   ]
  },
  {
   "cell_type": "markdown",
   "id": "eb3efe0f-78e1-4589-bb72-5251f1ea68db",
   "metadata": {},
   "source": [
    "## 1.2 Concatenare i CSV\n",
    "Costruiamo la lista di DataFrame"
   ]
  },
  {
   "cell_type": "code",
   "execution_count": 12,
   "id": "34f7fdac-60cf-478c-9cca-f44cd283dcf0",
   "metadata": {},
   "outputs": [
    {
     "name": "stdout",
     "output_type": "stream",
     "text": [
      "leggendo full_path = './data/2022_05_31-20_32_30-checkpoint-labels_annotations.csv'\n",
      "leggendo full_path = './data/2022_05_24-17_23_33-checkpoint-labels_annotations.csv'\n",
      "leggendo full_path = './data/2022_05_24-19_37_44-checkpoint-labels_annotations.csv'\n",
      "leggendo full_path = './data/2022_05_31-17_36_01-checkpoint-labels_annotations.csv'\n",
      "leggendo full_path = './data/2022_05_24-17_54_49-checkpoint-labels_annotations.csv'\n",
      "leggendo full_path = './data/2022_05_24-20_09_25-checkpoint-labels_annotations.csv'\n",
      "leggendo full_path = './data/2022_05_24-17_53_48-checkpoint-labels_annotations.csv'\n",
      "leggendo full_path = './data/2022_05_31-20_44_48-checkpoint-labels_annotations.csv'\n",
      "leggendo full_path = './data/2022_05_31-22_39_35-checkpoint-labels_annotations.csv'\n"
     ]
    }
   ],
   "source": [
    "lista_di_checkpoint = []\n",
    "\n",
    "for file in lista_di_file:\n",
    "    full_path = f\"./data/{file}\"\n",
    "    \n",
    "    print(f\"leggendo {full_path = }\")\n",
    "    \n",
    "    lista_di_checkpoint.append(pd.read_csv(full_path))"
   ]
  },
  {
   "cell_type": "markdown",
   "id": "6e6bcaa1-515d-4b29-a781-cc2961a7b811",
   "metadata": {},
   "source": [
    "A questo punto basta usare una funzione di pandas per \"metterli uno dietro l'altro\":"
   ]
  },
  {
   "cell_type": "code",
   "execution_count": 13,
   "id": "fe167fa4-02fa-478a-9d34-cd398b62edd1",
   "metadata": {},
   "outputs": [],
   "source": [
    "dataset_with_duplicates = pd.concat(lista_di_checkpoint)"
   ]
  },
  {
   "cell_type": "markdown",
   "id": "91c52702-c6c7-4a76-bc9e-5d4b4d93d7e7",
   "metadata": {},
   "source": [
    "### 1.2.1 Approfondimento: list comprehensions, parte 2\n",
    "\n",
    "L'intera operazione è persino più rapida usando le comprehensions, come abbiamo visto sopra:"
   ]
  },
  {
   "cell_type": "code",
   "execution_count": 15,
   "id": "ed9aa6cd-c5d4-4779-b150-5912e94f86f0",
   "metadata": {},
   "outputs": [],
   "source": [
    "dataset_with_duplicates = pd.concat([\n",
    "    pd.read_csv(f\"./data/{file}\")\n",
    "    for file in os.listdir(\"data\")\n",
    "    if file.endswith(\"-checkpoint-labels_annotations.csv\")\n",
    "])"
   ]
  },
  {
   "cell_type": "markdown",
   "id": "f1b98eb6-86d3-493c-a743-e22d09a1616d",
   "metadata": {},
   "source": [
    "Se la comprehension è lunga, spezzatela su più righe: ogni `for` o `if` è una nuova riga.\n",
    "\n",
    "Si veda come possiamo applicare a ogni `file` persino la funzione `pd.read_csv` (attenzione a usare il path giusto!): la lista che otterremo sarà esattamente uguale a quella che abbiamo ottenuto sopra. Una volta acquisita dimestichezza con Python, usare le comprehensions sarà più naturale, perché è più simile al linguaggio parlato."
   ]
  },
  {
   "cell_type": "markdown",
   "id": "891a7f71-4c16-4281-a6f9-aa247274c7d7",
   "metadata": {},
   "source": [
    "# 2.Manipolazione dei dati"
   ]
  },
  {
   "cell_type": "markdown",
   "id": "60dae4d3-99b1-4f39-b5a0-639e4f156adf",
   "metadata": {},
   "source": [
    "A questo punto abbiamo un dataset ma con diversi doppioni:"
   ]
  },
  {
   "cell_type": "code",
   "execution_count": 16,
   "id": "565f5e42-252f-4f44-aa2a-5e735fda4f0b",
   "metadata": {},
   "outputs": [
    {
     "data": {
      "text/html": [
       "<div>\n",
       "<style scoped>\n",
       "    .dataframe tbody tr th:only-of-type {\n",
       "        vertical-align: middle;\n",
       "    }\n",
       "\n",
       "    .dataframe tbody tr th {\n",
       "        vertical-align: top;\n",
       "    }\n",
       "\n",
       "    .dataframe thead th {\n",
       "        text-align: right;\n",
       "    }\n",
       "</style>\n",
       "<table border=\"1\" class=\"dataframe\">\n",
       "  <thead>\n",
       "    <tr style=\"text-align: right;\">\n",
       "      <th></th>\n",
       "      <th>roof_id</th>\n",
       "      <th>imageURL</th>\n",
       "      <th>photos_folder</th>\n",
       "      <th>annotation</th>\n",
       "      <th>annotation_time</th>\n",
       "    </tr>\n",
       "  </thead>\n",
       "  <tbody>\n",
       "    <tr>\n",
       "      <th>0</th>\n",
       "      <td>2</td>\n",
       "      <td>696d9474-17da-f9ff-c854-4a4ee9707153.png</td>\n",
       "      <td>small_photos</td>\n",
       "      <td>0</td>\n",
       "      <td>2022_05_31-20_24_35</td>\n",
       "    </tr>\n",
       "    <tr>\n",
       "      <th>1</th>\n",
       "      <td>65</td>\n",
       "      <td>b8126876-4511-f5a3-fc2e-df219213fce3.png</td>\n",
       "      <td>small_photos</td>\n",
       "      <td>1</td>\n",
       "      <td>2022_05_31-20_28_21</td>\n",
       "    </tr>\n",
       "    <tr>\n",
       "      <th>2</th>\n",
       "      <td>91</td>\n",
       "      <td>b592f575-c1d9-1e4c-4157-c9af24479231.png</td>\n",
       "      <td>small_photos</td>\n",
       "      <td>0</td>\n",
       "      <td>2022_05_31-19_56_33</td>\n",
       "    </tr>\n",
       "    <tr>\n",
       "      <th>3</th>\n",
       "      <td>133</td>\n",
       "      <td>9bfcb9b7-e606-e5a7-ad20-0d77f3c2e0e0.png</td>\n",
       "      <td>small_photos</td>\n",
       "      <td>1</td>\n",
       "      <td>2022_05_31-20_09_18</td>\n",
       "    </tr>\n",
       "    <tr>\n",
       "      <th>4</th>\n",
       "      <td>250</td>\n",
       "      <td>8a185d91-7b32-ba97-9dac-5146c6093ca0.png</td>\n",
       "      <td>small_photos</td>\n",
       "      <td>0</td>\n",
       "      <td>2022_05_31-20_06_18</td>\n",
       "    </tr>\n",
       "  </tbody>\n",
       "</table>\n",
       "</div>"
      ],
      "text/plain": [
       "   roof_id                                  imageURL photos_folder  \\\n",
       "0        2  696d9474-17da-f9ff-c854-4a4ee9707153.png  small_photos   \n",
       "1       65  b8126876-4511-f5a3-fc2e-df219213fce3.png  small_photos   \n",
       "2       91  b592f575-c1d9-1e4c-4157-c9af24479231.png  small_photos   \n",
       "3      133  9bfcb9b7-e606-e5a7-ad20-0d77f3c2e0e0.png  small_photos   \n",
       "4      250  8a185d91-7b32-ba97-9dac-5146c6093ca0.png  small_photos   \n",
       "\n",
       "   annotation      annotation_time  \n",
       "0           0  2022_05_31-20_24_35  \n",
       "1           1  2022_05_31-20_28_21  \n",
       "2           0  2022_05_31-19_56_33  \n",
       "3           1  2022_05_31-20_09_18  \n",
       "4           0  2022_05_31-20_06_18  "
      ]
     },
     "execution_count": 16,
     "metadata": {},
     "output_type": "execute_result"
    }
   ],
   "source": [
    "dataset_with_duplicates.head()"
   ]
  },
  {
   "cell_type": "markdown",
   "id": "eac000d8-725b-4cdf-bf0b-9d54ac69f7ed",
   "metadata": {},
   "source": [
    "Per vedere quanti, usiamo la funzione `sort_values`, che ha come argomento la lista di colonne che vogliamo mettere in ordine:"
   ]
  },
  {
   "cell_type": "code",
   "execution_count": 17,
   "id": "97aad583-a091-43c2-9327-3f90f35611aa",
   "metadata": {},
   "outputs": [
    {
     "data": {
      "text/html": [
       "<div>\n",
       "<style scoped>\n",
       "    .dataframe tbody tr th:only-of-type {\n",
       "        vertical-align: middle;\n",
       "    }\n",
       "\n",
       "    .dataframe tbody tr th {\n",
       "        vertical-align: top;\n",
       "    }\n",
       "\n",
       "    .dataframe thead th {\n",
       "        text-align: right;\n",
       "    }\n",
       "</style>\n",
       "<table border=\"1\" class=\"dataframe\">\n",
       "  <thead>\n",
       "    <tr style=\"text-align: right;\">\n",
       "      <th></th>\n",
       "      <th>roof_id</th>\n",
       "      <th>imageURL</th>\n",
       "      <th>photos_folder</th>\n",
       "      <th>annotation</th>\n",
       "      <th>annotation_time</th>\n",
       "    </tr>\n",
       "  </thead>\n",
       "  <tbody>\n",
       "    <tr>\n",
       "      <th>0</th>\n",
       "      <td>1</td>\n",
       "      <td>2e69e5ad-53e9-daca-b4c4-b9ed9505858b.png</td>\n",
       "      <td>small_photos-api_upload</td>\n",
       "      <td>0</td>\n",
       "      <td>2022_05_24-17_15_18</td>\n",
       "    </tr>\n",
       "    <tr>\n",
       "      <th>0</th>\n",
       "      <td>1</td>\n",
       "      <td>2e69e5ad-53e9-daca-b4c4-b9ed9505858b.png</td>\n",
       "      <td>small_photos-api_upload</td>\n",
       "      <td>0</td>\n",
       "      <td>2022_05_24-17_15_18</td>\n",
       "    </tr>\n",
       "    <tr>\n",
       "      <th>0</th>\n",
       "      <td>1</td>\n",
       "      <td>2e69e5ad-53e9-daca-b4c4-b9ed9505858b.png</td>\n",
       "      <td>small_photos-api_upload</td>\n",
       "      <td>0</td>\n",
       "      <td>2022_05_24-17_15_18</td>\n",
       "    </tr>\n",
       "    <tr>\n",
       "      <th>0</th>\n",
       "      <td>1</td>\n",
       "      <td>2e69e5ad-53e9-daca-b4c4-b9ed9505858b.png</td>\n",
       "      <td>small_photos-api_upload</td>\n",
       "      <td>0</td>\n",
       "      <td>2022_05_24-17_15_18</td>\n",
       "    </tr>\n",
       "    <tr>\n",
       "      <th>0</th>\n",
       "      <td>2</td>\n",
       "      <td>696d9474-17da-f9ff-c854-4a4ee9707153.png</td>\n",
       "      <td>small_photos</td>\n",
       "      <td>0</td>\n",
       "      <td>2022_05_31-20_24_35</td>\n",
       "    </tr>\n",
       "    <tr>\n",
       "      <th>0</th>\n",
       "      <td>2</td>\n",
       "      <td>696d9474-17da-f9ff-c854-4a4ee9707153.png</td>\n",
       "      <td>small_photos</td>\n",
       "      <td>0</td>\n",
       "      <td>2022_05_31-20_24_35</td>\n",
       "    </tr>\n",
       "    <tr>\n",
       "      <th>0</th>\n",
       "      <td>2</td>\n",
       "      <td>696d9474-17da-f9ff-c854-4a4ee9707153.png</td>\n",
       "      <td>small_photos</td>\n",
       "      <td>0</td>\n",
       "      <td>2022_05_31-20_24_35</td>\n",
       "    </tr>\n",
       "    <tr>\n",
       "      <th>1</th>\n",
       "      <td>3</td>\n",
       "      <td>696d9474-17da-f9ff-c854-4a4ee9707153.png</td>\n",
       "      <td>small_photos-api_upload</td>\n",
       "      <td>0</td>\n",
       "      <td>2022_05_24-17_55_35</td>\n",
       "    </tr>\n",
       "    <tr>\n",
       "      <th>1</th>\n",
       "      <td>3</td>\n",
       "      <td>696d9474-17da-f9ff-c854-4a4ee9707153.png</td>\n",
       "      <td>small_photos-api_upload</td>\n",
       "      <td>0</td>\n",
       "      <td>2022_05_24-17_55_35</td>\n",
       "    </tr>\n",
       "    <tr>\n",
       "      <th>2</th>\n",
       "      <td>12</td>\n",
       "      <td>a4f311db-4697-f6fc-1157-f4880638ad53.png</td>\n",
       "      <td>small_photos-api_upload</td>\n",
       "      <td>1</td>\n",
       "      <td>2022_05_24-18_00_04</td>\n",
       "    </tr>\n",
       "  </tbody>\n",
       "</table>\n",
       "</div>"
      ],
      "text/plain": [
       "   roof_id                                  imageURL            photos_folder  \\\n",
       "0        1  2e69e5ad-53e9-daca-b4c4-b9ed9505858b.png  small_photos-api_upload   \n",
       "0        1  2e69e5ad-53e9-daca-b4c4-b9ed9505858b.png  small_photos-api_upload   \n",
       "0        1  2e69e5ad-53e9-daca-b4c4-b9ed9505858b.png  small_photos-api_upload   \n",
       "0        1  2e69e5ad-53e9-daca-b4c4-b9ed9505858b.png  small_photos-api_upload   \n",
       "0        2  696d9474-17da-f9ff-c854-4a4ee9707153.png             small_photos   \n",
       "0        2  696d9474-17da-f9ff-c854-4a4ee9707153.png             small_photos   \n",
       "0        2  696d9474-17da-f9ff-c854-4a4ee9707153.png             small_photos   \n",
       "1        3  696d9474-17da-f9ff-c854-4a4ee9707153.png  small_photos-api_upload   \n",
       "1        3  696d9474-17da-f9ff-c854-4a4ee9707153.png  small_photos-api_upload   \n",
       "2       12  a4f311db-4697-f6fc-1157-f4880638ad53.png  small_photos-api_upload   \n",
       "\n",
       "   annotation      annotation_time  \n",
       "0           0  2022_05_24-17_15_18  \n",
       "0           0  2022_05_24-17_15_18  \n",
       "0           0  2022_05_24-17_15_18  \n",
       "0           0  2022_05_24-17_15_18  \n",
       "0           0  2022_05_31-20_24_35  \n",
       "0           0  2022_05_31-20_24_35  \n",
       "0           0  2022_05_31-20_24_35  \n",
       "1           0  2022_05_24-17_55_35  \n",
       "1           0  2022_05_24-17_55_35  \n",
       "2           1  2022_05_24-18_00_04  "
      ]
     },
     "execution_count": 17,
     "metadata": {},
     "output_type": "execute_result"
    }
   ],
   "source": [
    "dataset_with_duplicates.sort_values([\"roof_id\", \"annotation_time\"]).head(10)"
   ]
  },
  {
   "cell_type": "markdown",
   "id": "5cb352b3-cdbc-40ab-b713-6b0eed9f5762",
   "metadata": {},
   "source": [
    "Per eliminare i duplicati basta una ricerca su Google: \"how to drop duplicates in pandas\". Tra i primissimi risultati ci sarà [questa pagina](https://pandas.pydata.org/pandas-docs/stable/reference/api/pandas.DataFrame.drop_duplicates.html) della documentazione ufficiale."
   ]
  },
  {
   "cell_type": "code",
   "execution_count": 18,
   "id": "ad0723bc-afb7-4512-be7b-6b189d54615a",
   "metadata": {},
   "outputs": [
    {
     "data": {
      "text/html": [
       "<div>\n",
       "<style scoped>\n",
       "    .dataframe tbody tr th:only-of-type {\n",
       "        vertical-align: middle;\n",
       "    }\n",
       "\n",
       "    .dataframe tbody tr th {\n",
       "        vertical-align: top;\n",
       "    }\n",
       "\n",
       "    .dataframe thead th {\n",
       "        text-align: right;\n",
       "    }\n",
       "</style>\n",
       "<table border=\"1\" class=\"dataframe\">\n",
       "  <thead>\n",
       "    <tr style=\"text-align: right;\">\n",
       "      <th></th>\n",
       "      <th>roof_id</th>\n",
       "      <th>imageURL</th>\n",
       "      <th>photos_folder</th>\n",
       "      <th>annotation</th>\n",
       "      <th>annotation_time</th>\n",
       "    </tr>\n",
       "  </thead>\n",
       "  <tbody>\n",
       "    <tr>\n",
       "      <th>0</th>\n",
       "      <td>1</td>\n",
       "      <td>2e69e5ad-53e9-daca-b4c4-b9ed9505858b.png</td>\n",
       "      <td>small_photos-api_upload</td>\n",
       "      <td>0</td>\n",
       "      <td>2022_05_24-17_15_18</td>\n",
       "    </tr>\n",
       "    <tr>\n",
       "      <th>0</th>\n",
       "      <td>2</td>\n",
       "      <td>696d9474-17da-f9ff-c854-4a4ee9707153.png</td>\n",
       "      <td>small_photos</td>\n",
       "      <td>0</td>\n",
       "      <td>2022_05_31-20_24_35</td>\n",
       "    </tr>\n",
       "    <tr>\n",
       "      <th>1</th>\n",
       "      <td>3</td>\n",
       "      <td>696d9474-17da-f9ff-c854-4a4ee9707153.png</td>\n",
       "      <td>small_photos-api_upload</td>\n",
       "      <td>0</td>\n",
       "      <td>2022_05_24-17_55_35</td>\n",
       "    </tr>\n",
       "    <tr>\n",
       "      <th>2</th>\n",
       "      <td>12</td>\n",
       "      <td>a4f311db-4697-f6fc-1157-f4880638ad53.png</td>\n",
       "      <td>small_photos-api_upload</td>\n",
       "      <td>1</td>\n",
       "      <td>2022_05_24-18_00_04</td>\n",
       "    </tr>\n",
       "    <tr>\n",
       "      <th>3</th>\n",
       "      <td>26</td>\n",
       "      <td>baa577f4-4518-9aad-9a25-dfd2b95afabb.png</td>\n",
       "      <td>small_photos-api_upload</td>\n",
       "      <td>0</td>\n",
       "      <td>2022_05_24-18_01_44</td>\n",
       "    </tr>\n",
       "  </tbody>\n",
       "</table>\n",
       "</div>"
      ],
      "text/plain": [
       "   roof_id                                  imageURL            photos_folder  \\\n",
       "0        1  2e69e5ad-53e9-daca-b4c4-b9ed9505858b.png  small_photos-api_upload   \n",
       "0        2  696d9474-17da-f9ff-c854-4a4ee9707153.png             small_photos   \n",
       "1        3  696d9474-17da-f9ff-c854-4a4ee9707153.png  small_photos-api_upload   \n",
       "2       12  a4f311db-4697-f6fc-1157-f4880638ad53.png  small_photos-api_upload   \n",
       "3       26  baa577f4-4518-9aad-9a25-dfd2b95afabb.png  small_photos-api_upload   \n",
       "\n",
       "   annotation      annotation_time  \n",
       "0           0  2022_05_24-17_15_18  \n",
       "0           0  2022_05_31-20_24_35  \n",
       "1           0  2022_05_24-17_55_35  \n",
       "2           1  2022_05_24-18_00_04  \n",
       "3           0  2022_05_24-18_01_44  "
      ]
     },
     "execution_count": 18,
     "metadata": {},
     "output_type": "execute_result"
    }
   ],
   "source": [
    "(\n",
    "    dataset_with_duplicates\n",
    "    .sort_values([\"roof_id\", \"annotation_time\"])\n",
    "    .drop_duplicates([\"roof_id\", \"annotation_time\"])\n",
    "    .head()\n",
    ")"
   ]
  },
  {
   "cell_type": "markdown",
   "id": "5a40a2ea-c8f6-4704-a777-ede94c88d8ef",
   "metadata": {},
   "source": [
    "Quando dovete concatenare più comandi di pandas è bene usare le parentesi tonde per racchiudere l'espressione e separare ogni metodo su una riga diversa."
   ]
  },
  {
   "cell_type": "markdown",
   "id": "147c0e67-8310-46c0-876f-4705b1a5fb26",
   "metadata": {},
   "source": [
    "# Riassunto\n",
    "\n",
    "Più semplicemente, quindi, il nostro problema si può risolvere cosi:"
   ]
  },
  {
   "cell_type": "code",
   "execution_count": 19,
   "id": "87f90cb6-cdac-4c65-a03e-765c8f4078ff",
   "metadata": {},
   "outputs": [
    {
     "data": {
      "text/html": [
       "<div>\n",
       "<style scoped>\n",
       "    .dataframe tbody tr th:only-of-type {\n",
       "        vertical-align: middle;\n",
       "    }\n",
       "\n",
       "    .dataframe tbody tr th {\n",
       "        vertical-align: top;\n",
       "    }\n",
       "\n",
       "    .dataframe thead th {\n",
       "        text-align: right;\n",
       "    }\n",
       "</style>\n",
       "<table border=\"1\" class=\"dataframe\">\n",
       "  <thead>\n",
       "    <tr style=\"text-align: right;\">\n",
       "      <th></th>\n",
       "      <th>roof_id</th>\n",
       "      <th>imageURL</th>\n",
       "      <th>photos_folder</th>\n",
       "      <th>annotation</th>\n",
       "      <th>annotation_time</th>\n",
       "    </tr>\n",
       "  </thead>\n",
       "  <tbody>\n",
       "    <tr>\n",
       "      <th>0</th>\n",
       "      <td>1</td>\n",
       "      <td>2e69e5ad-53e9-daca-b4c4-b9ed9505858b.png</td>\n",
       "      <td>small_photos-api_upload</td>\n",
       "      <td>0</td>\n",
       "      <td>2022_05_24-17_15_18</td>\n",
       "    </tr>\n",
       "    <tr>\n",
       "      <th>0</th>\n",
       "      <td>2</td>\n",
       "      <td>696d9474-17da-f9ff-c854-4a4ee9707153.png</td>\n",
       "      <td>small_photos</td>\n",
       "      <td>0</td>\n",
       "      <td>2022_05_31-20_24_35</td>\n",
       "    </tr>\n",
       "    <tr>\n",
       "      <th>1</th>\n",
       "      <td>3</td>\n",
       "      <td>696d9474-17da-f9ff-c854-4a4ee9707153.png</td>\n",
       "      <td>small_photos-api_upload</td>\n",
       "      <td>0</td>\n",
       "      <td>2022_05_24-17_55_35</td>\n",
       "    </tr>\n",
       "    <tr>\n",
       "      <th>2</th>\n",
       "      <td>12</td>\n",
       "      <td>a4f311db-4697-f6fc-1157-f4880638ad53.png</td>\n",
       "      <td>small_photos-api_upload</td>\n",
       "      <td>1</td>\n",
       "      <td>2022_05_24-18_00_04</td>\n",
       "    </tr>\n",
       "    <tr>\n",
       "      <th>3</th>\n",
       "      <td>26</td>\n",
       "      <td>baa577f4-4518-9aad-9a25-dfd2b95afabb.png</td>\n",
       "      <td>small_photos-api_upload</td>\n",
       "      <td>0</td>\n",
       "      <td>2022_05_24-18_01_44</td>\n",
       "    </tr>\n",
       "  </tbody>\n",
       "</table>\n",
       "</div>"
      ],
      "text/plain": [
       "   roof_id                                  imageURL            photos_folder  \\\n",
       "0        1  2e69e5ad-53e9-daca-b4c4-b9ed9505858b.png  small_photos-api_upload   \n",
       "0        2  696d9474-17da-f9ff-c854-4a4ee9707153.png             small_photos   \n",
       "1        3  696d9474-17da-f9ff-c854-4a4ee9707153.png  small_photos-api_upload   \n",
       "2       12  a4f311db-4697-f6fc-1157-f4880638ad53.png  small_photos-api_upload   \n",
       "3       26  baa577f4-4518-9aad-9a25-dfd2b95afabb.png  small_photos-api_upload   \n",
       "\n",
       "   annotation      annotation_time  \n",
       "0           0  2022_05_24-17_15_18  \n",
       "0           0  2022_05_31-20_24_35  \n",
       "1           0  2022_05_24-17_55_35  \n",
       "2           1  2022_05_24-18_00_04  \n",
       "3           0  2022_05_24-18_01_44  "
      ]
     },
     "execution_count": 19,
     "metadata": {},
     "output_type": "execute_result"
    }
   ],
   "source": [
    "data = (\n",
    "    pd.concat([\n",
    "        pd.read_csv(f\"./data/{file}\")\n",
    "        for file in os.listdir(\"./data\")\n",
    "        if file.endswith(\"checkpoint-labels_annotations.csv\")\n",
    "    ])\n",
    "    .sort_values([\"roof_id\", \"annotation_time\"])\n",
    "    .drop_duplicates([\"roof_id\", \"annotation_time\"])\n",
    ")\n",
    "\n",
    "data.head()"
   ]
  },
  {
   "cell_type": "markdown",
   "id": "61888df4-2dc9-4187-9090-9c397e082ece",
   "metadata": {},
   "source": [
    "# Ripasso: Group by\n",
    "\n",
    "Molto frequentemente dobbiamo calcolare delle misure aggregate. Lo abbiamo visto nel dataset dei pinguini, quando abbiamo cercato di calcolare la media della lunghezza del becco in base al sesso. Queste operazioni sono chiamate *group by*, perché il dataset viene \"raggruppato\" per i vari livelli di una variabile (nel caso dei pinguini, il sesso) e viene calcolata una *funzione di aggregazione* (in questo caso la media) su una o più variabili.\n",
    "\n",
    "Possiamo anche farlo nel nostro esercizio, calcolando ad esempio quante volte ogni `roof_id` compare nel dataset con i doppioni. Come per ogni cosa in Python, ci sono molti modi per fare le groupby:\n",
    "\n",
    "## 1. Velocemente con poche colonne"
   ]
  },
  {
   "cell_type": "code",
   "execution_count": 27,
   "id": "a974f15d-3517-47b3-84fd-859abe3c2d8f",
   "metadata": {},
   "outputs": [
    {
     "data": {
      "text/html": [
       "<div>\n",
       "<style scoped>\n",
       "    .dataframe tbody tr th:only-of-type {\n",
       "        vertical-align: middle;\n",
       "    }\n",
       "\n",
       "    .dataframe tbody tr th {\n",
       "        vertical-align: top;\n",
       "    }\n",
       "\n",
       "    .dataframe thead th {\n",
       "        text-align: right;\n",
       "    }\n",
       "</style>\n",
       "<table border=\"1\" class=\"dataframe\">\n",
       "  <thead>\n",
       "    <tr style=\"text-align: right;\">\n",
       "      <th></th>\n",
       "      <th>count</th>\n",
       "    </tr>\n",
       "    <tr>\n",
       "      <th>roof_id</th>\n",
       "      <th></th>\n",
       "    </tr>\n",
       "  </thead>\n",
       "  <tbody>\n",
       "    <tr>\n",
       "      <th>421</th>\n",
       "      <td>7</td>\n",
       "    </tr>\n",
       "    <tr>\n",
       "      <th>6018</th>\n",
       "      <td>6</td>\n",
       "    </tr>\n",
       "    <tr>\n",
       "      <th>7118</th>\n",
       "      <td>6</td>\n",
       "    </tr>\n",
       "    <tr>\n",
       "      <th>266389</th>\n",
       "      <td>6</td>\n",
       "    </tr>\n",
       "    <tr>\n",
       "      <th>9387</th>\n",
       "      <td>6</td>\n",
       "    </tr>\n",
       "    <tr>\n",
       "      <th>6237</th>\n",
       "      <td>6</td>\n",
       "    </tr>\n",
       "    <tr>\n",
       "      <th>56656</th>\n",
       "      <td>6</td>\n",
       "    </tr>\n",
       "    <tr>\n",
       "      <th>5418</th>\n",
       "      <td>6</td>\n",
       "    </tr>\n",
       "    <tr>\n",
       "      <th>10369</th>\n",
       "      <td>6</td>\n",
       "    </tr>\n",
       "    <tr>\n",
       "      <th>12484</th>\n",
       "      <td>6</td>\n",
       "    </tr>\n",
       "  </tbody>\n",
       "</table>\n",
       "</div>"
      ],
      "text/plain": [
       "         count\n",
       "roof_id       \n",
       "421          7\n",
       "6018         6\n",
       "7118         6\n",
       "266389       6\n",
       "9387         6\n",
       "6237         6\n",
       "56656        6\n",
       "5418         6\n",
       "10369        6\n",
       "12484        6"
      ]
     },
     "execution_count": 27,
     "metadata": {},
     "output_type": "execute_result"
    }
   ],
   "source": [
    "(\n",
    "    dataset_with_duplicates\n",
    "    .groupby([\"roof_id\"])                       # colonna da usare per la groupby\n",
    "    [[\"roof_id\"]]                               # colonna su cui calcolare la funzione\n",
    "    .count()                                    # funzione che applichiamo a ciascun livello della variabile\n",
    "    .rename(columns={\"roof_id\": \"count\"})       # rinominiamo la nuova colonna \"roof_id\" in \"count\"\n",
    "    .sort_values(by=\"count\", ascending=False)   # ordiniamo i valori in ordine decrescente\n",
    "    .head(10)\n",
    ")"
   ]
  },
  {
   "cell_type": "markdown",
   "id": "7410898e-9ed4-40f4-8682-241d16990503",
   "metadata": {},
   "source": [
    "Notate come diventa essenziale per scrivere del codice leggibile usare le parentesi e separare ciascun metodo su più righe.\n",
    "\n",
    "## 2. Con più colonne e più elegante\n",
    "\n",
    "Torniamo ai nostri pinguini:"
   ]
  },
  {
   "cell_type": "code",
   "execution_count": 20,
   "id": "00eef96f-b8e8-4bcf-8ff2-2687054c346b",
   "metadata": {},
   "outputs": [
    {
     "data": {
      "text/html": [
       "<div>\n",
       "<style scoped>\n",
       "    .dataframe tbody tr th:only-of-type {\n",
       "        vertical-align: middle;\n",
       "    }\n",
       "\n",
       "    .dataframe tbody tr th {\n",
       "        vertical-align: top;\n",
       "    }\n",
       "\n",
       "    .dataframe thead th {\n",
       "        text-align: right;\n",
       "    }\n",
       "</style>\n",
       "<table border=\"1\" class=\"dataframe\">\n",
       "  <thead>\n",
       "    <tr style=\"text-align: right;\">\n",
       "      <th></th>\n",
       "      <th>species</th>\n",
       "      <th>island</th>\n",
       "      <th>bill_length_mm</th>\n",
       "      <th>bill_depth_mm</th>\n",
       "      <th>flipper_length_mm</th>\n",
       "      <th>body_mass_g</th>\n",
       "      <th>sex</th>\n",
       "    </tr>\n",
       "  </thead>\n",
       "  <tbody>\n",
       "    <tr>\n",
       "      <th>0</th>\n",
       "      <td>Adelie</td>\n",
       "      <td>Torgersen</td>\n",
       "      <td>39.1</td>\n",
       "      <td>18.7</td>\n",
       "      <td>181.0</td>\n",
       "      <td>3750.0</td>\n",
       "      <td>Male</td>\n",
       "    </tr>\n",
       "    <tr>\n",
       "      <th>1</th>\n",
       "      <td>Adelie</td>\n",
       "      <td>Torgersen</td>\n",
       "      <td>39.5</td>\n",
       "      <td>17.4</td>\n",
       "      <td>186.0</td>\n",
       "      <td>3800.0</td>\n",
       "      <td>Female</td>\n",
       "    </tr>\n",
       "    <tr>\n",
       "      <th>2</th>\n",
       "      <td>Adelie</td>\n",
       "      <td>Torgersen</td>\n",
       "      <td>40.3</td>\n",
       "      <td>18.0</td>\n",
       "      <td>195.0</td>\n",
       "      <td>3250.0</td>\n",
       "      <td>Female</td>\n",
       "    </tr>\n",
       "    <tr>\n",
       "      <th>3</th>\n",
       "      <td>Adelie</td>\n",
       "      <td>Torgersen</td>\n",
       "      <td>NaN</td>\n",
       "      <td>NaN</td>\n",
       "      <td>NaN</td>\n",
       "      <td>NaN</td>\n",
       "      <td>NaN</td>\n",
       "    </tr>\n",
       "    <tr>\n",
       "      <th>4</th>\n",
       "      <td>Adelie</td>\n",
       "      <td>Torgersen</td>\n",
       "      <td>36.7</td>\n",
       "      <td>19.3</td>\n",
       "      <td>193.0</td>\n",
       "      <td>3450.0</td>\n",
       "      <td>Female</td>\n",
       "    </tr>\n",
       "  </tbody>\n",
       "</table>\n",
       "</div>"
      ],
      "text/plain": [
       "  species     island  bill_length_mm  bill_depth_mm  flipper_length_mm  \\\n",
       "0  Adelie  Torgersen            39.1           18.7              181.0   \n",
       "1  Adelie  Torgersen            39.5           17.4              186.0   \n",
       "2  Adelie  Torgersen            40.3           18.0              195.0   \n",
       "3  Adelie  Torgersen             NaN            NaN                NaN   \n",
       "4  Adelie  Torgersen            36.7           19.3              193.0   \n",
       "\n",
       "   body_mass_g     sex  \n",
       "0       3750.0    Male  \n",
       "1       3800.0  Female  \n",
       "2       3250.0  Female  \n",
       "3          NaN     NaN  \n",
       "4       3450.0  Female  "
      ]
     },
     "execution_count": 20,
     "metadata": {},
     "output_type": "execute_result"
    }
   ],
   "source": [
    "import seaborn as sns\n",
    "import numpy as np\n",
    "\n",
    "penguins = sns.load_dataset(\"penguins\")\n",
    "\n",
    "penguins.head()"
   ]
  },
  {
   "cell_type": "markdown",
   "id": "472a6d3e-264e-4647-ae1c-cae61cf81bdd",
   "metadata": {},
   "source": [
    "Possiamo raggruppare per più variabili:"
   ]
  },
  {
   "cell_type": "code",
   "execution_count": 22,
   "id": "bdabc4a2-d866-4628-bbdd-1ca139770f46",
   "metadata": {},
   "outputs": [
    {
     "data": {
      "text/html": [
       "<div>\n",
       "<style scoped>\n",
       "    .dataframe tbody tr th:only-of-type {\n",
       "        vertical-align: middle;\n",
       "    }\n",
       "\n",
       "    .dataframe tbody tr th {\n",
       "        vertical-align: top;\n",
       "    }\n",
       "\n",
       "    .dataframe thead th {\n",
       "        text-align: right;\n",
       "    }\n",
       "</style>\n",
       "<table border=\"1\" class=\"dataframe\">\n",
       "  <thead>\n",
       "    <tr style=\"text-align: right;\">\n",
       "      <th></th>\n",
       "      <th></th>\n",
       "      <th>bill_length_mm</th>\n",
       "    </tr>\n",
       "    <tr>\n",
       "      <th>species</th>\n",
       "      <th>sex</th>\n",
       "      <th></th>\n",
       "    </tr>\n",
       "  </thead>\n",
       "  <tbody>\n",
       "    <tr>\n",
       "      <th rowspan=\"2\" valign=\"top\">Adelie</th>\n",
       "      <th>Female</th>\n",
       "      <td>37.257534</td>\n",
       "    </tr>\n",
       "    <tr>\n",
       "      <th>Male</th>\n",
       "      <td>40.390411</td>\n",
       "    </tr>\n",
       "    <tr>\n",
       "      <th rowspan=\"2\" valign=\"top\">Chinstrap</th>\n",
       "      <th>Female</th>\n",
       "      <td>46.573529</td>\n",
       "    </tr>\n",
       "    <tr>\n",
       "      <th>Male</th>\n",
       "      <td>51.094118</td>\n",
       "    </tr>\n",
       "    <tr>\n",
       "      <th rowspan=\"2\" valign=\"top\">Gentoo</th>\n",
       "      <th>Female</th>\n",
       "      <td>45.563793</td>\n",
       "    </tr>\n",
       "    <tr>\n",
       "      <th>Male</th>\n",
       "      <td>49.473770</td>\n",
       "    </tr>\n",
       "  </tbody>\n",
       "</table>\n",
       "</div>"
      ],
      "text/plain": [
       "                  bill_length_mm\n",
       "species   sex                   \n",
       "Adelie    Female       37.257534\n",
       "          Male         40.390411\n",
       "Chinstrap Female       46.573529\n",
       "          Male         51.094118\n",
       "Gentoo    Female       45.563793\n",
       "          Male         49.473770"
      ]
     },
     "execution_count": 22,
     "metadata": {},
     "output_type": "execute_result"
    }
   ],
   "source": [
    "(\n",
    "    penguins\n",
    "    .groupby([\"species\", \"sex\"])          # raggruppiamo per specie e sesso\n",
    "    [[\"bill_length_mm\"]]                  # prendiamo la colonna bill_length\n",
    "    .mean()                               # e calcoliamone la media\n",
    ")"
   ]
  },
  {
   "cell_type": "markdown",
   "id": "d6ac4128-aa5b-456c-a43d-29301f73f882",
   "metadata": {},
   "source": [
    "In questo caso, potremmo passare direttamente una stringa e non una lista di colonne:"
   ]
  },
  {
   "cell_type": "code",
   "execution_count": 29,
   "id": "f0279cdd-9fce-4a2a-986b-531fe32d16c9",
   "metadata": {},
   "outputs": [
    {
     "data": {
      "text/plain": [
       "species    sex   \n",
       "Adelie     Female    37.257534\n",
       "           Male      40.390411\n",
       "Chinstrap  Female    46.573529\n",
       "           Male      51.094118\n",
       "Gentoo     Female    45.563793\n",
       "           Male      49.473770\n",
       "Name: bill_length_mm, dtype: float64"
      ]
     },
     "execution_count": 29,
     "metadata": {},
     "output_type": "execute_result"
    }
   ],
   "source": [
    "(\n",
    "    penguins\n",
    "    .groupby([\"species\", \"sex\"])\n",
    "    [\"bill_length_mm\"]                 # ! un solo gruppo di []\n",
    "    .mean()\n",
    ")"
   ]
  },
  {
   "cell_type": "markdown",
   "id": "70274b8b-66fd-4562-b5cf-14e2a740a2d6",
   "metadata": {},
   "source": [
    "Ma come vedete l'output non è molto elegante: in generale solo i DataFrame vengono resi con una tabella \"elegante\". Se specificate una sola colonna con una stringa, otterrete in automatico una Series (cioè un dataset di una sola colonna), mentre se passate una lista (anche di un solo elemento) otterrete un DataFrame.\n",
    "\n",
    "Ma possiamo addirittura calcolare la stessa funzione su più colonne:"
   ]
  },
  {
   "cell_type": "code",
   "execution_count": 28,
   "id": "4c109be6-019c-496a-a0b8-eafb4d087ba6",
   "metadata": {},
   "outputs": [
    {
     "data": {
      "text/html": [
       "<div>\n",
       "<style scoped>\n",
       "    .dataframe tbody tr th:only-of-type {\n",
       "        vertical-align: middle;\n",
       "    }\n",
       "\n",
       "    .dataframe tbody tr th {\n",
       "        vertical-align: top;\n",
       "    }\n",
       "\n",
       "    .dataframe thead th {\n",
       "        text-align: right;\n",
       "    }\n",
       "</style>\n",
       "<table border=\"1\" class=\"dataframe\">\n",
       "  <thead>\n",
       "    <tr style=\"text-align: right;\">\n",
       "      <th></th>\n",
       "      <th></th>\n",
       "      <th>bill_length_mm</th>\n",
       "      <th>bill_depth_mm</th>\n",
       "    </tr>\n",
       "    <tr>\n",
       "      <th>species</th>\n",
       "      <th>sex</th>\n",
       "      <th></th>\n",
       "      <th></th>\n",
       "    </tr>\n",
       "  </thead>\n",
       "  <tbody>\n",
       "    <tr>\n",
       "      <th rowspan=\"2\" valign=\"top\">Adelie</th>\n",
       "      <th>Female</th>\n",
       "      <td>37.257534</td>\n",
       "      <td>17.621918</td>\n",
       "    </tr>\n",
       "    <tr>\n",
       "      <th>Male</th>\n",
       "      <td>40.390411</td>\n",
       "      <td>19.072603</td>\n",
       "    </tr>\n",
       "    <tr>\n",
       "      <th rowspan=\"2\" valign=\"top\">Chinstrap</th>\n",
       "      <th>Female</th>\n",
       "      <td>46.573529</td>\n",
       "      <td>17.588235</td>\n",
       "    </tr>\n",
       "    <tr>\n",
       "      <th>Male</th>\n",
       "      <td>51.094118</td>\n",
       "      <td>19.252941</td>\n",
       "    </tr>\n",
       "    <tr>\n",
       "      <th rowspan=\"2\" valign=\"top\">Gentoo</th>\n",
       "      <th>Female</th>\n",
       "      <td>45.563793</td>\n",
       "      <td>14.237931</td>\n",
       "    </tr>\n",
       "    <tr>\n",
       "      <th>Male</th>\n",
       "      <td>49.473770</td>\n",
       "      <td>15.718033</td>\n",
       "    </tr>\n",
       "  </tbody>\n",
       "</table>\n",
       "</div>"
      ],
      "text/plain": [
       "                  bill_length_mm  bill_depth_mm\n",
       "species   sex                                  \n",
       "Adelie    Female       37.257534      17.621918\n",
       "          Male         40.390411      19.072603\n",
       "Chinstrap Female       46.573529      17.588235\n",
       "          Male         51.094118      19.252941\n",
       "Gentoo    Female       45.563793      14.237931\n",
       "          Male         49.473770      15.718033"
      ]
     },
     "execution_count": 28,
     "metadata": {},
     "output_type": "execute_result"
    }
   ],
   "source": [
    "(\n",
    "    penguins\n",
    "    .groupby([\"species\", \"sex\"])\n",
    "    [[\"bill_length_mm\", \"bill_depth_mm\"]]\n",
    "    .mean()\n",
    ")"
   ]
  },
  {
   "cell_type": "markdown",
   "id": "636c5c1d-73d9-452b-929d-c9dd47ddd25e",
   "metadata": {},
   "source": [
    "Se non indichiamo nessuna colonna su cui operare, la statistica verrà calcolata su tutte le colonne su cui può essere calcolata."
   ]
  },
  {
   "cell_type": "code",
   "execution_count": 34,
   "id": "c973b06c-e218-4fd6-a0e3-0ce5bafc4d15",
   "metadata": {},
   "outputs": [
    {
     "data": {
      "text/html": [
       "<div>\n",
       "<style scoped>\n",
       "    .dataframe tbody tr th:only-of-type {\n",
       "        vertical-align: middle;\n",
       "    }\n",
       "\n",
       "    .dataframe tbody tr th {\n",
       "        vertical-align: top;\n",
       "    }\n",
       "\n",
       "    .dataframe thead th {\n",
       "        text-align: right;\n",
       "    }\n",
       "</style>\n",
       "<table border=\"1\" class=\"dataframe\">\n",
       "  <thead>\n",
       "    <tr style=\"text-align: right;\">\n",
       "      <th></th>\n",
       "      <th></th>\n",
       "      <th>bill_length_mm</th>\n",
       "      <th>bill_depth_mm</th>\n",
       "      <th>flipper_length_mm</th>\n",
       "      <th>body_mass_g</th>\n",
       "    </tr>\n",
       "    <tr>\n",
       "      <th>species</th>\n",
       "      <th>sex</th>\n",
       "      <th></th>\n",
       "      <th></th>\n",
       "      <th></th>\n",
       "      <th></th>\n",
       "    </tr>\n",
       "  </thead>\n",
       "  <tbody>\n",
       "    <tr>\n",
       "      <th rowspan=\"2\" valign=\"top\">Adelie</th>\n",
       "      <th>Female</th>\n",
       "      <td>37.257534</td>\n",
       "      <td>17.621918</td>\n",
       "      <td>187.794521</td>\n",
       "      <td>3368.835616</td>\n",
       "    </tr>\n",
       "    <tr>\n",
       "      <th>Male</th>\n",
       "      <td>40.390411</td>\n",
       "      <td>19.072603</td>\n",
       "      <td>192.410959</td>\n",
       "      <td>4043.493151</td>\n",
       "    </tr>\n",
       "    <tr>\n",
       "      <th rowspan=\"2\" valign=\"top\">Chinstrap</th>\n",
       "      <th>Female</th>\n",
       "      <td>46.573529</td>\n",
       "      <td>17.588235</td>\n",
       "      <td>191.735294</td>\n",
       "      <td>3527.205882</td>\n",
       "    </tr>\n",
       "    <tr>\n",
       "      <th>Male</th>\n",
       "      <td>51.094118</td>\n",
       "      <td>19.252941</td>\n",
       "      <td>199.911765</td>\n",
       "      <td>3938.970588</td>\n",
       "    </tr>\n",
       "    <tr>\n",
       "      <th rowspan=\"2\" valign=\"top\">Gentoo</th>\n",
       "      <th>Female</th>\n",
       "      <td>45.563793</td>\n",
       "      <td>14.237931</td>\n",
       "      <td>212.706897</td>\n",
       "      <td>4679.741379</td>\n",
       "    </tr>\n",
       "    <tr>\n",
       "      <th>Male</th>\n",
       "      <td>49.473770</td>\n",
       "      <td>15.718033</td>\n",
       "      <td>221.540984</td>\n",
       "      <td>5484.836066</td>\n",
       "    </tr>\n",
       "  </tbody>\n",
       "</table>\n",
       "</div>"
      ],
      "text/plain": [
       "                  bill_length_mm  bill_depth_mm  flipper_length_mm  \\\n",
       "species   sex                                                        \n",
       "Adelie    Female       37.257534      17.621918         187.794521   \n",
       "          Male         40.390411      19.072603         192.410959   \n",
       "Chinstrap Female       46.573529      17.588235         191.735294   \n",
       "          Male         51.094118      19.252941         199.911765   \n",
       "Gentoo    Female       45.563793      14.237931         212.706897   \n",
       "          Male         49.473770      15.718033         221.540984   \n",
       "\n",
       "                  body_mass_g  \n",
       "species   sex                  \n",
       "Adelie    Female  3368.835616  \n",
       "          Male    4043.493151  \n",
       "Chinstrap Female  3527.205882  \n",
       "          Male    3938.970588  \n",
       "Gentoo    Female  4679.741379  \n",
       "          Male    5484.836066  "
      ]
     },
     "execution_count": 34,
     "metadata": {},
     "output_type": "execute_result"
    }
   ],
   "source": [
    "(\n",
    "    penguins\n",
    "    .groupby([\"species\", \"sex\"])\n",
    "    .mean()\n",
    ")"
   ]
  },
  {
   "cell_type": "markdown",
   "id": "c3ffaba1-8e38-4f76-a0fa-207191b9b7a2",
   "metadata": {},
   "source": [
    "Possiamo anche indicare più funzioni per colonne diverse usando `.agg` o `.aggregate`:"
   ]
  },
  {
   "cell_type": "code",
   "execution_count": 35,
   "id": "6bfc5755-97a0-4ba7-9bad-ea30c9ee3758",
   "metadata": {},
   "outputs": [
    {
     "data": {
      "text/html": [
       "<div>\n",
       "<style scoped>\n",
       "    .dataframe tbody tr th:only-of-type {\n",
       "        vertical-align: middle;\n",
       "    }\n",
       "\n",
       "    .dataframe tbody tr th {\n",
       "        vertical-align: top;\n",
       "    }\n",
       "\n",
       "    .dataframe thead tr th {\n",
       "        text-align: left;\n",
       "    }\n",
       "\n",
       "    .dataframe thead tr:last-of-type th {\n",
       "        text-align: right;\n",
       "    }\n",
       "</style>\n",
       "<table border=\"1\" class=\"dataframe\">\n",
       "  <thead>\n",
       "    <tr>\n",
       "      <th></th>\n",
       "      <th></th>\n",
       "      <th colspan=\"2\" halign=\"left\">bill_length_mm</th>\n",
       "      <th colspan=\"2\" halign=\"left\">bill_depth_mm</th>\n",
       "      <th>body_mass_g</th>\n",
       "    </tr>\n",
       "    <tr>\n",
       "      <th></th>\n",
       "      <th></th>\n",
       "      <th>mean</th>\n",
       "      <th>std</th>\n",
       "      <th>mean</th>\n",
       "      <th>std</th>\n",
       "      <th>max</th>\n",
       "    </tr>\n",
       "    <tr>\n",
       "      <th>species</th>\n",
       "      <th>sex</th>\n",
       "      <th></th>\n",
       "      <th></th>\n",
       "      <th></th>\n",
       "      <th></th>\n",
       "      <th></th>\n",
       "    </tr>\n",
       "  </thead>\n",
       "  <tbody>\n",
       "    <tr>\n",
       "      <th rowspan=\"2\" valign=\"top\">Adelie</th>\n",
       "      <th>Female</th>\n",
       "      <td>37.257534</td>\n",
       "      <td>2.028883</td>\n",
       "      <td>17.621918</td>\n",
       "      <td>0.942993</td>\n",
       "      <td>3900.0</td>\n",
       "    </tr>\n",
       "    <tr>\n",
       "      <th>Male</th>\n",
       "      <td>40.390411</td>\n",
       "      <td>2.277131</td>\n",
       "      <td>19.072603</td>\n",
       "      <td>1.018886</td>\n",
       "      <td>4775.0</td>\n",
       "    </tr>\n",
       "    <tr>\n",
       "      <th rowspan=\"2\" valign=\"top\">Chinstrap</th>\n",
       "      <th>Female</th>\n",
       "      <td>46.573529</td>\n",
       "      <td>3.108669</td>\n",
       "      <td>17.588235</td>\n",
       "      <td>0.781128</td>\n",
       "      <td>4150.0</td>\n",
       "    </tr>\n",
       "    <tr>\n",
       "      <th>Male</th>\n",
       "      <td>51.094118</td>\n",
       "      <td>1.564558</td>\n",
       "      <td>19.252941</td>\n",
       "      <td>0.761273</td>\n",
       "      <td>4800.0</td>\n",
       "    </tr>\n",
       "    <tr>\n",
       "      <th rowspan=\"2\" valign=\"top\">Gentoo</th>\n",
       "      <th>Female</th>\n",
       "      <td>45.563793</td>\n",
       "      <td>2.051247</td>\n",
       "      <td>14.237931</td>\n",
       "      <td>0.540249</td>\n",
       "      <td>5200.0</td>\n",
       "    </tr>\n",
       "    <tr>\n",
       "      <th>Male</th>\n",
       "      <td>49.473770</td>\n",
       "      <td>2.720594</td>\n",
       "      <td>15.718033</td>\n",
       "      <td>0.741060</td>\n",
       "      <td>6300.0</td>\n",
       "    </tr>\n",
       "  </tbody>\n",
       "</table>\n",
       "</div>"
      ],
      "text/plain": [
       "                 bill_length_mm           bill_depth_mm           body_mass_g\n",
       "                           mean       std          mean       std         max\n",
       "species   sex                                                                \n",
       "Adelie    Female      37.257534  2.028883     17.621918  0.942993      3900.0\n",
       "          Male        40.390411  2.277131     19.072603  1.018886      4775.0\n",
       "Chinstrap Female      46.573529  3.108669     17.588235  0.781128      4150.0\n",
       "          Male        51.094118  1.564558     19.252941  0.761273      4800.0\n",
       "Gentoo    Female      45.563793  2.051247     14.237931  0.540249      5200.0\n",
       "          Male        49.473770  2.720594     15.718033  0.741060      6300.0"
      ]
     },
     "execution_count": 35,
     "metadata": {},
     "output_type": "execute_result"
    }
   ],
   "source": [
    "(\n",
    "    penguins\n",
    "    .groupby([\"species\", \"sex\"])\n",
    "    .agg({\n",
    "        \"bill_length_mm\": [\"mean\", \"std\"],    # le funzioni più \"note\" si possono passare come stringhe\n",
    "        \"bill_depth_mm\": [np.mean, np.std],   # ma `.agg` accetta qualsiasi funzione, anche scritta da noi\n",
    "        \"body_mass_g\": \"max\"\n",
    "    })\n",
    ")"
   ]
  }
 ],
 "metadata": {
  "kernelspec": {
   "display_name": "K2 Dashboard (3.9)",
   "language": "python",
   "name": "k2-dashboard"
  },
  "language_info": {
   "codemirror_mode": {
    "name": "ipython",
    "version": 3
   },
   "file_extension": ".py",
   "mimetype": "text/x-python",
   "name": "python",
   "nbconvert_exporter": "python",
   "pygments_lexer": "ipython3",
   "version": "3.9.9"
  }
 },
 "nbformat": 4,
 "nbformat_minor": 5
}
