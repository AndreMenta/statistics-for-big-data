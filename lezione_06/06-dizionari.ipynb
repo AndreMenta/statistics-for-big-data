{
 "cells": [
  {
   "cell_type": "markdown",
   "id": "936b8237-582d-4230-8eb9-e7db1eb177e5",
   "metadata": {},
   "source": [
    "# Lezione 6: Ancora Sequenze\n",
    "\n",
    "## Argomenti\n",
    "\n",
    "* Revisione delle proprietà di liste e tuple\n",
    "* Operatore `in`\n",
    "* Set (o insiemi)\n",
    "* Dizionari\n",
    "* Esercizi\n",
    "\n",
    "## Link Utili\n",
    "\n",
    "### Riferimenti e tutorial\n",
    "\n",
    "* Liste e tuple: https://realpython.com/python-lists-tuples/\n",
    "* Set: https://realpython.com/python-sets/\n",
    "* Dizionari: https://realpython.com/python-dicts/\n",
    "* Documentazione ufficiale di Python: https://docs.python.org/3/library/stdtypes.html#sequence-types-list-tuple-range\n",
    "\n",
    "### Approfondimenti\n",
    "\n",
    "**calmcode.io** è un sito con degli ottimi brevi tutorial per svariati argomenti di Python (più per approfondimenti e argomenti della seconda parte del corso): tenetevelo nei bookmark.\n",
    "\n",
    "* Comprehensions: metodi più rapidi ed eleganti per creare sequenze: https://calmcode.io/comprehensions/introduction.html\n",
    "* Tuple unpacking: assegnare più di una variabile alla volta\n",
    "    * https://calmcode.io/comprehensions/introduction.html\n",
    "    * https://treyhunner.com/2018/03/tuple-unpacking-improves-python-code-readability/\n",
    "\n",
    "## Proprietà di Liste e Tuple\n",
    "\n",
    "* Liste e tuple sono **ordinate**, cioè l'ordine degli elementi è una parte importante della lista.\n",
    "* Le liste sono _mutabili_, le tuple no. In altre parole, in una lista si possono sovrascrivere gli elementi di una lista usando l'indicizzazione e l'assegnazione:"
   ]
  },
  {
   "cell_type": "code",
   "execution_count": 1,
   "id": "efc5bca8-86ba-4da9-a5c8-5a9ef3ed45e6",
   "metadata": {},
   "outputs": [
    {
     "name": "stdout",
     "output_type": "stream",
     "text": [
      "before: ['a', 'b', 'c', 'd', 'e', 'f', 'g', 'h', 'i', 'l', 'm']\n",
      "after: ['A', 'b', 'c', 'd', 'e', 'f', 'g', 'h', 'i', 'l', 'm']\n"
     ]
    }
   ],
   "source": [
    "# il metodo split separa le parole di una stringa in base a un separatore, di default lo spazio\n",
    "lista = \"a b c d e f g h i l m\".split()\n",
    "\n",
    "print(f\"before: {lista}\")\n",
    "\n",
    "lista[0] = \"A\"\n",
    "\n",
    "print(f\"after: {lista}\")"
   ]
  },
  {
   "cell_type": "markdown",
   "id": "1eab4dfa-23b9-4317-b671-6eee6618708c",
   "metadata": {},
   "source": [
    "Questo non è possibile con le tuple, perché sono _immutabili_ (cioè gli elementi non si possono cambiare):"
   ]
  },
  {
   "cell_type": "code",
   "execution_count": 2,
   "id": "eb0089da-cb43-448e-aeae-e01299461681",
   "metadata": {},
   "outputs": [
    {
     "name": "stdout",
     "output_type": "stream",
     "text": [
      "before: ('A', 'b', 'c', 'd', 'e', 'f', 'g', 'h', 'i', 'l', 'm')\n"
     ]
    },
    {
     "ename": "TypeError",
     "evalue": "'tuple' object does not support item assignment",
     "output_type": "error",
     "traceback": [
      "\u001b[0;31m---------------------------------------------------------------------------\u001b[0m",
      "\u001b[0;31mTypeError\u001b[0m                                 Traceback (most recent call last)",
      "Input \u001b[0;32mIn [2]\u001b[0m, in \u001b[0;36m<cell line: 5>\u001b[0;34m()\u001b[0m\n\u001b[1;32m      1\u001b[0m tupla \u001b[38;5;241m=\u001b[39m \u001b[38;5;28mtuple\u001b[39m(lista)\n\u001b[1;32m      3\u001b[0m \u001b[38;5;28mprint\u001b[39m(\u001b[38;5;124mf\u001b[39m\u001b[38;5;124m\"\u001b[39m\u001b[38;5;124mbefore: \u001b[39m\u001b[38;5;132;01m{\u001b[39;00mtupla\u001b[38;5;132;01m}\u001b[39;00m\u001b[38;5;124m\"\u001b[39m)\n\u001b[0;32m----> 5\u001b[0m tupla[\u001b[38;5;241m0\u001b[39m] \u001b[38;5;241m=\u001b[39m \u001b[38;5;124m\"\u001b[39m\u001b[38;5;124mA\u001b[39m\u001b[38;5;124m\"\u001b[39m\n",
      "\u001b[0;31mTypeError\u001b[0m: 'tuple' object does not support item assignment"
     ]
    }
   ],
   "source": [
    "tupla = tuple(lista)\n",
    "\n",
    "print(f\"before: {tupla}\")\n",
    "\n",
    "tupla[0] = \"A\""
   ]
  },
  {
   "cell_type": "markdown",
   "id": "8d29d7fd-ba83-4974-afb1-842583021e92",
   "metadata": {},
   "source": [
    "Generalmente creiamo liste con `[]` e tuple con `()`. Si può anche fare con i metodi `list()` e `tuple()`, che però è meno comune. Sono più usate per convertire tuple in liste e viceversa.\n",
    "\n",
    "Attenzione: `[]` e `()` non convertiranno una tupla in una lista, o viceversa:"
   ]
  },
  {
   "cell_type": "code",
   "execution_count": 3,
   "id": "e4fa68b9-a14d-48d4-bf39-6cdd7e126836",
   "metadata": {},
   "outputs": [
    {
     "name": "stdout",
     "output_type": "stream",
     "text": [
      "wrong way: ['ciao', 'a', 'tutti']\n",
      " right way: ('ciao', 'a', 'tutti')\n",
      "wrong way: [('ciao', 1, 2, 3)]\n",
      " right way: ['ciao', 1, 2, 3]\n"
     ]
    }
   ],
   "source": [
    "lista = \"ciao a tutti\".split()\n",
    "tupla = (\"ciao\", 1, 2, 3)\n",
    "\n",
    "test_tupla = (lista)\n",
    "test_tupla_2 = tuple(lista)\n",
    "print(\n",
    "    f\"wrong way: {test_tupla}\\n\",\n",
    "    f\"right way: {test_tupla_2}\"\n",
    ")\n",
    "\n",
    "test_lista = [tupla]\n",
    "test_lista_2 = list(tupla)\n",
    "print(\n",
    "    f\"wrong way: {test_lista}\\n\",\n",
    "    f\"right way: {test_lista_2}\"\n",
    ")"
   ]
  },
  {
   "cell_type": "markdown",
   "id": "964005c9-95f6-454f-814c-ab5c38189e98",
   "metadata": {},
   "source": [
    "## `in`\n",
    "\n",
    "`in` è usato nei `for` loop ma si usa anche per vedere se un elemento appartiene a una lista:"
   ]
  },
  {
   "cell_type": "code",
   "execution_count": 5,
   "id": "297089a0-cfbe-4be2-87c2-de812481e226",
   "metadata": {},
   "outputs": [
    {
     "name": "stdout",
     "output_type": "stream",
     "text": [
      "CIAO!\n"
     ]
    }
   ],
   "source": [
    "lista = \"ciao a tutti\"\n",
    "\n",
    "if \"tutti\" in lista:\n",
    "    print(\"CIAO!\")"
   ]
  },
  {
   "cell_type": "markdown",
   "id": "38555cb0-386c-49dd-8e3f-556510e4e38a",
   "metadata": {},
   "source": [
    "## `Set`\n",
    "\n",
    "Meno usati: sono delle liste che hanno elementi distinti (cioè non si ripetono). A differenza di tuple e liste, *non* sono ordinati (in inglese, *unordered*)."
   ]
  },
  {
   "cell_type": "code",
   "execution_count": 8,
   "id": "42ce09de-7b84-43f1-8d49-60dd1e506b96",
   "metadata": {},
   "outputs": [
    {
     "name": "stdout",
     "output_type": "stream",
     "text": [
      "{1, 2, 3, 4}\n"
     ]
    }
   ],
   "source": [
    "insieme = {1, 1, 2, 3, 4, 3, 2}\n",
    "print(insieme)"
   ]
  },
  {
   "cell_type": "markdown",
   "id": "025d55d0-8122-49b3-860f-b6a59b84b739",
   "metadata": {},
   "source": [
    "Si possono anche generare con la funzione `set()`."
   ]
  },
  {
   "cell_type": "markdown",
   "id": "df20dee1-58c9-458d-b1a0-863b62dd4e66",
   "metadata": {},
   "source": [
    "## Stringhe come sequenze\n",
    "\n",
    "Anche le stringhe sono delle sequenze _immutabili_ (come le tuple):"
   ]
  },
  {
   "cell_type": "code",
   "execution_count": 12,
   "id": "3d6e58c9-75db-42fb-8c54-bef58bbcc45a",
   "metadata": {},
   "outputs": [
    {
     "name": "stdout",
     "output_type": "stream",
     "text": [
      "! ao mo iomn\n"
     ]
    }
   ],
   "source": [
    "stringa = \"ciao mondo!\"\n",
    "\n",
    "print(stringa[-1], stringa[2:7], stringa[1:9:2])"
   ]
  },
  {
   "cell_type": "markdown",
   "id": "a7280460-473f-46e8-a307-5f1bc6cd1651",
   "metadata": {},
   "source": [
    "In altre parole, una stringa è una sequenza di caratteri. Possiamo vederlo meglio trasformando una stringa in lista:"
   ]
  },
  {
   "cell_type": "code",
   "execution_count": 15,
   "id": "ab0cdd80-0363-41c4-a7e2-ecee4b994273",
   "metadata": {},
   "outputs": [
    {
     "name": "stdout",
     "output_type": "stream",
     "text": [
      "da stringa a lista: ['c', 'i', 'a', 'o', ' ', 'm', 'o', 'n', 'd', 'o', '!']\n",
      " da stringa a tupla: ('c', 'i', 'a', 'o', ' ', 'm', 'o', 'n', 'd', 'o', '!')\n",
      " da stringa a insieme: {'!', 'd', 'a', 'm', 'n', ' ', 'i', 'o', 'c'}\n"
     ]
    }
   ],
   "source": [
    "print(\n",
    "    f\"da stringa a lista: {list(stringa)}\\n\",\n",
    "    f\"da stringa a tupla: {tuple(stringa)}\\n\",\n",
    "    f\"da stringa a insieme: {set(stringa)}\"\n",
    "    )"
   ]
  },
  {
   "cell_type": "markdown",
   "id": "080678ea-96f2-4eec-b10a-51af54f595f0",
   "metadata": {},
   "source": [
    "Si noti come nell'insieme compaiano in maniera _disordinata_ tutti gli elementi distinti."
   ]
  },
  {
   "cell_type": "markdown",
   "id": "a517c314-8613-451b-b795-909a3233d01d",
   "metadata": {},
   "source": [
    "## Dizionari \n",
    "\n",
    "I dizionari sono delle sequenze *mutabili*, come le liste. L'unica differenza è che sono indicizzate \"esplicitamente\" usando delle chiavi:"
   ]
  },
  {
   "cell_type": "code",
   "execution_count": 2,
   "id": "f4248a9c-43af-4cff-a066-6c2d69a47d49",
   "metadata": {},
   "outputs": [],
   "source": [
    "persona = {\"nome\": \"luca\", \"eta\": 25, \"professione\": [\"data scientist\", \"docente\"]}"
   ]
  },
  {
   "cell_type": "markdown",
   "id": "c78c35b5-8470-46a9-b756-28d1dba1e635",
   "metadata": {},
   "source": [
    "E quindi per accedere agli elementi si usa la medesima notazione con gli indici `dizionario[indice]` solo che anziché usare un numero si devono usare le **chiavi**:"
   ]
  },
  {
   "cell_type": "code",
   "execution_count": 3,
   "id": "bedf2565-572b-4125-980e-0b90816fdcc4",
   "metadata": {},
   "outputs": [
    {
     "data": {
      "text/plain": [
       "'luca'"
      ]
     },
     "execution_count": 3,
     "metadata": {},
     "output_type": "execute_result"
    }
   ],
   "source": [
    "persona[\"nome\"]"
   ]
  },
  {
   "cell_type": "markdown",
   "id": "cc61c853-770a-4f1e-8519-9cb0ac79bb60",
   "metadata": {},
   "source": [
    "E questi elementi si possono modificare come le liste:"
   ]
  },
  {
   "cell_type": "code",
   "execution_count": 4,
   "id": "04fa3e09-6884-4604-ad01-f12875bb6926",
   "metadata": {},
   "outputs": [],
   "source": [
    "persona[\"nome\"] = \"Luca\""
   ]
  },
  {
   "cell_type": "markdown",
   "id": "fa82f571-cb44-4e0e-b5dc-dcb779f3d8ca",
   "metadata": {},
   "source": [
    "E se ne possono aggiungere di nuovi:"
   ]
  },
  {
   "cell_type": "code",
   "execution_count": 5,
   "id": "7df5aa7e-84b1-4afc-a8f8-5f2bec646acc",
   "metadata": {},
   "outputs": [
    {
     "name": "stdout",
     "output_type": "stream",
     "text": [
      "{'nome': 'Luca', 'eta': 25, 'professione': ['data scientist', 'docente'], 'cognome': 'Baggi', 'email': 'luca.baggi@unimi.it'}\n"
     ]
    }
   ],
   "source": [
    "persona[\"cognome\"] = \"Baggi\"\n",
    "persona[\"email\"] = \"luca.baggi@unimi.it\"\n",
    "\n",
    "print(persona)"
   ]
  },
  {
   "cell_type": "markdown",
   "id": "9b85ab8c-5a51-4827-9414-1657ddc66660",
   "metadata": {},
   "source": [
    "### Le chiavi\n",
    "\n",
    "Le chiavi devono essere degli oggetti **immutabili**: cioè interi, decimali, stringhe, tuple... ma non liste, o altri dizionari, ad esempio."
   ]
  },
  {
   "cell_type": "markdown",
   "id": "cf77b90f-6efb-4ec5-9bd4-7b885d0dfe22",
   "metadata": {},
   "source": [
    "### Accedere agli elementi dei dizionari\n",
    "\n",
    "Per accedere alla lista delle chiavi:"
   ]
  },
  {
   "cell_type": "code",
   "execution_count": 6,
   "id": "4e03a23d-23b0-400c-966b-596c73087cce",
   "metadata": {},
   "outputs": [
    {
     "data": {
      "text/plain": [
       "dict_keys(['nome', 'eta', 'professione', 'cognome', 'email'])"
      ]
     },
     "execution_count": 6,
     "metadata": {},
     "output_type": "execute_result"
    }
   ],
   "source": [
    "persona.keys()"
   ]
  },
  {
   "cell_type": "markdown",
   "id": "1b3d8fe3-8c75-4a18-8c40-a2ff62eb3e52",
   "metadata": {},
   "source": [
    "Per accedere alla lista dei valori:"
   ]
  },
  {
   "cell_type": "code",
   "execution_count": 7,
   "id": "1f6ccc4d-d967-443b-b225-12b58febc70e",
   "metadata": {},
   "outputs": [
    {
     "data": {
      "text/plain": [
       "dict_values(['Luca', 25, ['data scientist', 'docente'], 'Baggi', 'luca.baggi@unimi.it'])"
      ]
     },
     "execution_count": 7,
     "metadata": {},
     "output_type": "execute_result"
    }
   ],
   "source": [
    "persona.values()"
   ]
  },
  {
   "cell_type": "markdown",
   "id": "8617e8fa-4d11-43ee-8156-38bd40fc383a",
   "metadata": {},
   "source": [
    "Per accedere alla lista di tuple degli elementi di una lista:"
   ]
  },
  {
   "cell_type": "code",
   "execution_count": 8,
   "id": "9eec7ede-2dd5-42c7-9f41-df697ee9e275",
   "metadata": {},
   "outputs": [
    {
     "data": {
      "text/plain": [
       "dict_items([('nome', 'Luca'), ('eta', 25), ('professione', ['data scientist', 'docente']), ('cognome', 'Baggi'), ('email', 'luca.baggi@unimi.it')])"
      ]
     },
     "execution_count": 8,
     "metadata": {},
     "output_type": "execute_result"
    }
   ],
   "source": [
    "persona.items()"
   ]
  },
  {
   "cell_type": "markdown",
   "id": "7781ac54-41db-44d4-a159-21e6e0585cf3",
   "metadata": {},
   "source": [
    "In questo modo, si possono fare loop sulle chiavi, valori o anche items di una lista:"
   ]
  },
  {
   "cell_type": "code",
   "execution_count": 12,
   "id": "eca6bb04-78b6-4dd4-b74f-abdbcc762823",
   "metadata": {},
   "outputs": [
    {
     "name": "stdout",
     "output_type": "stream",
     "text": [
      "nome\n",
      "eta\n",
      "professione\n",
      "cognome\n",
      "email\n"
     ]
    }
   ],
   "source": [
    "for key in persona.keys():\n",
    "    print(key)"
   ]
  },
  {
   "cell_type": "code",
   "execution_count": 13,
   "id": "11dabc91-907e-4aee-92fa-c84ff33f33dd",
   "metadata": {},
   "outputs": [
    {
     "name": "stdout",
     "output_type": "stream",
     "text": [
      "Luca\n",
      "25\n",
      "['data scientist', 'docente']\n",
      "Baggi\n",
      "luca.baggi@unimi.it\n"
     ]
    }
   ],
   "source": [
    "for value in persona.values():\n",
    "    print(value)"
   ]
  },
  {
   "cell_type": "code",
   "execution_count": 11,
   "id": "7a0280f0-671e-47f3-af37-a566e30f9ba7",
   "metadata": {},
   "outputs": [
    {
     "name": "stdout",
     "output_type": "stream",
     "text": [
      "nome  ->  Luca\n",
      "eta  ->  25\n",
      "professione  ->  ['data scientist', 'docente']\n",
      "cognome  ->  Baggi\n",
      "email  ->  luca.baggi@unimi.it\n"
     ]
    }
   ],
   "source": [
    "for key, value in persona.items():\n",
    "    print(key, \" -> \", value)"
   ]
  },
  {
   "cell_type": "markdown",
   "id": "6ce5aaca-2576-4c58-b00e-295358ebdd63",
   "metadata": {},
   "source": [
    "Quest'ultimo è un caso di assegnazione multipla (vedi gli approfondimenti)."
   ]
  },
  {
   "cell_type": "markdown",
   "id": "5f967bcc-afae-4e26-a73b-d00d4c0ee49a",
   "metadata": {},
   "source": [
    "## Esercizi "
   ]
  },
  {
   "cell_type": "code",
   "execution_count": 1,
   "id": "816290a7-4e64-48e6-9e01-961b1a9cfea4",
   "metadata": {},
   "outputs": [],
   "source": [
    "def calcola_rendimento(capitale_iniziale, interesse, anni):\n",
    "    \"\"\"Dato il capitale iniziale e l'interesse, calcola il rendimento dopo n anni\n",
    "    \n",
    "    Example\n",
    "    -------\n",
    "    >>> calcola_rendimento(100, 1, 1)\n",
    "    1\n",
    "    >>> calcola_rendimento(100, 5, 2)\n",
    "    10.25\n",
    "    \"\"\"\n",
    "    pass"
   ]
  },
  {
   "cell_type": "code",
   "execution_count": 2,
   "id": "30ffacc9-63e2-405c-aa95-8d06656f5d12",
   "metadata": {},
   "outputs": [],
   "source": [
    "def mostra_rendimenti(capitale_iniziale, interesse, anni):\n",
    "    \"\"\"Restituisce una lista i cui elementi sono i rendimenti anno per anno\n",
    "    \n",
    "    Example\n",
    "    -------\n",
    "    >>> mostra_rendimenti(100, 1, 1)\n",
    "    [1]\n",
    "    >>> mostra_rendimenti(100, 5, 2)\n",
    "    [5, 5.25]\n",
    "    \"\"\"\n",
    "    pass"
   ]
  },
  {
   "cell_type": "code",
   "execution_count": null,
   "id": "d8598015-5a93-4565-b22d-9c6cf029f4b1",
   "metadata": {},
   "outputs": [],
   "source": [
    "def annota_rendimenti(capitale_iniziale, interesse, anni):\n",
    "    \"\"\"Restituisce un dizionario che ha come chiavi il numero di anni e valori il rendimento per quell'anno\n",
    "    \n",
    "    Example\n",
    "    -------\n",
    "    >>> annota_rendimenti(100, 1, 1)\n",
    "    {1: 1}\n",
    "    >>> annota_rendimenti(100, 5, 2)\n",
    "    {1: 5, 2: 5.25}\n",
    "    \"\"\"\n",
    "    pass"
   ]
  },
  {
   "cell_type": "code",
   "execution_count": null,
   "id": "400e0052-0abd-4fff-bae8-eab900888bfc",
   "metadata": {},
   "outputs": [],
   "source": [
    "def pretty_annota_rendimenti(capitale_iniziale, interesse, anni):\n",
    "    \"\"\"Restituisce un dizionario che ha come chiavi il numero di anni e valori il rendimento per quell'anno,\n",
    "    annotato come stringa \"anno <anno>\".\n",
    "    \n",
    "    Suggerimento: usa le f-strings f'anno_{anno}'\n",
    "    \n",
    "    Example\n",
    "    -------\n",
    "    >>> pretty_annota_rendimenti(100, 1, 1)\n",
    "    {\"anno 1\": 1}\n",
    "    >>> pretty_annota_rendimenti(100, 5, 2)\n",
    "    {\"anno 1\": 5, \"anno 2\": 5.25}\n",
    "    \"\"\"\n",
    "    pass"
   ]
  }
 ],
 "metadata": {
  "kernelspec": {
   "display_name": "Python 3 (ipykernel)",
   "language": "python",
   "name": "python3"
  },
  "language_info": {
   "codemirror_mode": {
    "name": "ipython",
    "version": 3
   },
   "file_extension": ".py",
   "mimetype": "text/x-python",
   "name": "python",
   "nbconvert_exporter": "python",
   "pygments_lexer": "ipython3",
   "version": "3.10.4"
  }
 },
 "nbformat": 4,
 "nbformat_minor": 5
}
