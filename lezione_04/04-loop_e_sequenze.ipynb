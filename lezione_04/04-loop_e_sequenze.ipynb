{
 "cells": [
  {
   "cell_type": "markdown",
   "id": "cbc8bdce-dee8-4e50-8e6c-725ff70e17a1",
   "metadata": {},
   "source": [
    "# Loop e Sequenze\n",
    "\n",
    "## Piano della lezione\n",
    "\n",
    "* Tuple e Liste\n",
    "* For e while loop"
   ]
  },
  {
   "cell_type": "markdown",
   "id": "e786d895-f861-4a11-8287-695b75b17248",
   "metadata": {},
   "source": [
    "## Operatori matematici\n",
    "\n",
    "```\n",
    "+ - * / -> addizione, sottrazione, moltiplicazione e divisione\n",
    "** -> elevamento a potenza\n",
    "% -> \"modulo\" o se preferite \"resto (o parte decimale) di una divisione\" -> 91 % 3 = 1\n",
    "// -> \"quoziente (o parte intera) di una divisione\" -> 91 // 3 = 30\n",
    "```"
   ]
  },
  {
   "cell_type": "markdown",
   "id": "d6e048ce-5acf-4123-b1cb-3cfa65aa03db",
   "metadata": {},
   "source": [
    "## Sequenze: Liste, Tuple e Dizionari\n",
    "\n",
    "Liste, dizionari e tuple sono dei contenitori di più elementi:"
   ]
  },
  {
   "cell_type": "code",
   "execution_count": 17,
   "id": "3df0f972-c537-4033-9dd3-bc713ee3d52f",
   "metadata": {},
   "outputs": [],
   "source": [
    "# lista\n",
    "lista_con_numeri = [1, 2, 3, 4]\n",
    "\n",
    "# possono avere elementi di qualsiasi tipo al loro interno\n",
    "lista_mista = [\"a\", 1, 2, \"b\"]\n",
    "\n",
    "# comprese altre liste, tuple...\n",
    "nested_list = [\"a\", 1, (1, 2), [1, 2, 3, 4]]"
   ]
  },
  {
   "cell_type": "code",
   "execution_count": 8,
   "id": "87cb3de4-d694-4479-b328-9d8ed2dbd6bc",
   "metadata": {},
   "outputs": [
    {
     "name": "stdout",
     "output_type": "stream",
     "text": [
      "[1, 2, 3, 4, 5]\n"
     ]
    }
   ],
   "source": [
    "lista_con_numeri.append(5) # non modifica in place in Python 3.10\n",
    "print(lista_con_numeri)"
   ]
  },
  {
   "cell_type": "code",
   "execution_count": null,
   "id": "0f00ead6-c4fd-40e1-935c-0acf3ea28449",
   "metadata": {},
   "outputs": [],
   "source": [
    "lista_con_numeri.pop() # modifica in place -> modifica la lista stesssa"
   ]
  },
  {
   "cell_type": "markdown",
   "id": "0512290a-5574-46f4-ad4d-bff891933379",
   "metadata": {},
   "source": [
    "Accedere a una lista (accessore)"
   ]
  },
  {
   "cell_type": "code",
   "execution_count": 18,
   "id": "902a6816-92a2-41ef-a1fb-0600a7addfaf",
   "metadata": {},
   "outputs": [
    {
     "data": {
      "text/plain": [
       "3"
      ]
     },
     "execution_count": 18,
     "metadata": {},
     "output_type": "execute_result"
    }
   ],
   "source": [
    "lista_con_numeri[2]"
   ]
  },
  {
   "cell_type": "code",
   "execution_count": 20,
   "id": "2503f02d-a39d-452f-806d-df303a9f565d",
   "metadata": {},
   "outputs": [],
   "source": [
    "random_list = [1,2,3,4,5,6,76,7,8,34,5,2345,432,63,2,3524,6,235,43,25]"
   ]
  },
  {
   "cell_type": "markdown",
   "id": "f3ce3f07-ab69-4db6-a5a1-e0e5156c03ec",
   "metadata": {},
   "source": [
    "Ottenere un \"sottoinsieme\" della lista (*slice*)"
   ]
  },
  {
   "cell_type": "code",
   "execution_count": 25,
   "id": "f79113d6-af8b-49f2-8987-16706d397a6f",
   "metadata": {},
   "outputs": [
    {
     "data": {
      "text/plain": [
       "[3, 4, 5, 6, 76, 7, 8, 34]"
      ]
     },
     "execution_count": 25,
     "metadata": {},
     "output_type": "execute_result"
    }
   ],
   "source": [
    "random_list[2:10]"
   ]
  },
  {
   "cell_type": "code",
   "execution_count": 27,
   "id": "16aa2603-5877-4ca0-9688-832f2091017c",
   "metadata": {},
   "outputs": [
    {
     "data": {
      "text/plain": [
       "[3, 4, 5, 6, 76, 7, 8, 34, 5, 2345, 432, 63, 2, 3524, 6]"
      ]
     },
     "execution_count": 27,
     "metadata": {},
     "output_type": "execute_result"
    }
   ],
   "source": [
    "random_list[2:-3]"
   ]
  },
  {
   "cell_type": "markdown",
   "id": "418f8f55-42d6-435c-91f1-9e5f49ef48d5",
   "metadata": {},
   "source": [
    "`start:end:step`"
   ]
  },
  {
   "cell_type": "code",
   "execution_count": 39,
   "id": "b4aa1a9a-97a8-4507-a9c4-4f3c0501c55f",
   "metadata": {},
   "outputs": [
    {
     "data": {
      "text/plain": [
       "[2, 5]"
      ]
     },
     "execution_count": 39,
     "metadata": {},
     "output_type": "execute_result"
    }
   ],
   "source": [
    "test_list = [1,2,3,4,5,6,7,8,9,0]\n",
    "\n",
    "test_list[1:6:3]"
   ]
  },
  {
   "cell_type": "markdown",
   "id": "6eac2851-eacd-4ecc-b2bb-e24d9b883a33",
   "metadata": {
    "tags": []
   },
   "source": [
    "### approfondimento\n",
    "https://docs.python.org/3/tutorial/datastructures.html\n",
    "\n",
    "https://realpython.com/"
   ]
  },
  {
   "cell_type": "markdown",
   "id": "f7e398b1-80da-41ab-9e79-9ae753e5a656",
   "metadata": {},
   "source": [
    "Perché non ottengo 5? perché `lista_con_numeri.append(5)` **crea un nuovo oggetto**"
   ]
  },
  {
   "cell_type": "code",
   "execution_count": null,
   "id": "721b893a-6ecc-4f2c-9c91-12556ab323fa",
   "metadata": {},
   "outputs": [],
   "source": [
    "# tupla\n",
    "(1, 2, 3, 4)"
   ]
  },
  {
   "cell_type": "code",
   "execution_count": null,
   "id": "f71a5af7-907b-499e-b1f3-64b00d685e03",
   "metadata": {},
   "outputs": [],
   "source": [
    "# dizionario\n",
    "{\"key1\": \"value1\", \"key2\": \"value2\"}"
   ]
  },
  {
   "cell_type": "code",
   "execution_count": null,
   "id": "5fd28992-1c28-44e5-ac65-9490b64ae476",
   "metadata": {},
   "outputs": [],
   "source": [
    "# insiemi\n",
    "{1, 2, 3, 4, 5}"
   ]
  },
  {
   "cell_type": "markdown",
   "id": "2b13487f-b195-489d-adb5-ad88eefc26ab",
   "metadata": {},
   "source": [
    "* Gli elementi possono essere di qualsiasi tipo"
   ]
  },
  {
   "cell_type": "markdown",
   "id": "81d1d1d8-99f5-465a-b534-ca174333c801",
   "metadata": {},
   "source": [
    "## Loop (o cici)\n",
    "\n",
    "I loop sono un modo per *iterare* una funzione per ciascun elemento di una serie. In altre parole, applicano una funzione per ogni elemento dentro un contenitore che"
   ]
  },
  {
   "cell_type": "code",
   "execution_count": 41,
   "id": "b325b11a-1b1e-4474-b570-9eb4a252c7b5",
   "metadata": {},
   "outputs": [],
   "source": [
    "def fizz_buzz(number):\n",
    "\n",
    "    if number % 3 == 0 and number % 5 == 0:\n",
    "        return \"fizzbuzz\"\n",
    "    elif number % 3 == 0:\n",
    "        return \"fizz\"\n",
    "    elif number % 5 == 0:\n",
    "        return \"buzz\"\n",
    "    else:\n",
    "        return number"
   ]
  },
  {
   "cell_type": "code",
   "execution_count": 42,
   "id": "3e18b43d-1fb8-4cae-9cd8-dfe6d4612421",
   "metadata": {},
   "outputs": [
    {
     "name": "stdout",
     "output_type": "stream",
     "text": [
      "fizzbuzz\n",
      "1\n",
      "2\n",
      "fizz\n",
      "4\n",
      "buzz\n",
      "fizz\n",
      "7\n",
      "8\n",
      "fizz\n"
     ]
    }
   ],
   "source": [
    "for number in range(0, 10):\n",
    "    print(fizz_buzz(number))"
   ]
  },
  {
   "cell_type": "code",
   "execution_count": 2,
   "id": "842c2383-de06-47a1-876f-1b806fa00bec",
   "metadata": {},
   "outputs": [
    {
     "name": "stdout",
     "output_type": "stream",
     "text": [
      "1\n",
      "2\n",
      "3\n",
      "4\n",
      "5\n",
      "6\n",
      "7\n",
      "8\n",
      "9\n",
      "10\n"
     ]
    }
   ],
   "source": [
    "i = 0\n",
    "while i < 10:\n",
    "    i = i + 1\n",
    "    print(i)"
   ]
  },
  {
   "cell_type": "code",
   "execution_count": 6,
   "id": "fe1696ee-36d0-4832-8b83-aab1fe5c0122",
   "metadata": {},
   "outputs": [
    {
     "name": "stdout",
     "output_type": "stream",
     "text": [
      "1\n",
      "2\n",
      "3\n",
      "4\n",
      "5\n",
      "6\n",
      "7\n",
      "8\n",
      "9\n",
      "10\n"
     ]
    }
   ],
   "source": [
    "# molto più semplice\n",
    "for i in range(1, 11):\n",
    "    print(i)"
   ]
  }
 ],
 "metadata": {
  "kernelspec": {
   "display_name": "Python 3 (ipykernel)",
   "language": "python",
   "name": "python3"
  },
  "language_info": {
   "codemirror_mode": {
    "name": "ipython",
    "version": 3
   },
   "file_extension": ".py",
   "mimetype": "text/x-python",
   "name": "python",
   "nbconvert_exporter": "python",
   "pygments_lexer": "ipython3",
   "version": "3.10.4"
  }
 },
 "nbformat": 4,
 "nbformat_minor": 5
}
