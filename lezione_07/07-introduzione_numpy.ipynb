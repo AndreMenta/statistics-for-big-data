{
 "cells": [
  {
   "cell_type": "markdown",
   "id": "aca5066f-a3a6-4050-9bc6-32db885294dc",
   "metadata": {},
   "source": [
    "## Numpy\n",
    "\n",
    "Un po' hardcode, ma per i curiosi c'è [questa ottima talk](https://www.youtube.com/watch?v=DifMYH3iuFw) di Jake Van der Plas (Google) che spiega un po' la storia di Python e come è diventato il linguaggio di riferimento per la computazione scientifica.\n",
    "\n",
    "* Installare [numpy](https://numpy.org/)\n",
    "* Creare array e le differenze con le liste di Python\n",
    "* Alcuni metodi"
   ]
  },
  {
   "cell_type": "markdown",
   "id": "22032583-25e8-452c-896e-2470a6175c13",
   "metadata": {},
   "source": [
    "## Installare numpy e importare librerire"
   ]
  },
  {
   "cell_type": "markdown",
   "id": "5ccd1a17",
   "metadata": {},
   "source": [
    "Se non avete installato numpy, un-commentate la cella qui sotto ed eseguitela. Il `!` indica a Jupyter di eseguire un comando \"fuori\" da Python - in questo caso, un comando che da terminale chiede a `pip` di installare numpy."
   ]
  },
  {
   "cell_type": "code",
   "execution_count": 5,
   "id": "444efffe-a047-4646-9cc1-ae3d7b5c7507",
   "metadata": {},
   "outputs": [
    {
     "name": "stdout",
     "output_type": "stream",
     "text": [
      "Collecting numpy\n",
      "  Using cached numpy-1.22.3-cp310-cp310-macosx_10_14_x86_64.whl (17.6 MB)\n",
      "Installing collected packages: numpy\n",
      "Successfully installed numpy-1.22.3\n"
     ]
    }
   ],
   "source": [
    "# !pip install numpy"
   ]
  },
  {
   "cell_type": "markdown",
   "id": "2d8067f2",
   "metadata": {},
   "source": [
    "Questa è la sintassi che si usa per importare i moduli esterni. `as np` indica che useremo l'abbreviazione `np` anziché `numpy` quando dovremo usare una funzione, ma _in teoria_ potrebbe essere qualsiasi cosa. La regola che si segue è di usare l'abbreviazione specificata dalla documentazione della libreria - in questo caso, `np`."
   ]
  },
  {
   "cell_type": "code",
   "execution_count": 2,
   "id": "bbfec9d3-f294-41a2-ae01-bfde08899274",
   "metadata": {},
   "outputs": [],
   "source": [
    "import numpy as np"
   ]
  },
  {
   "cell_type": "markdown",
   "id": "085964f2",
   "metadata": {},
   "source": [
    "Un esempio di invocazione di un comando della libreria. In questo caso l'attributo `__version__` restituisce una stringa che riporta la versione che abbiamo installato della libreria:"
   ]
  },
  {
   "cell_type": "code",
   "execution_count": 2,
   "id": "035894a6-141d-4a48-9c9a-8fc131067024",
   "metadata": {},
   "outputs": [
    {
     "name": "stdout",
     "output_type": "stream",
     "text": [
      "1.22.3\n"
     ]
    }
   ],
   "source": [
    "print(np.__version__)"
   ]
  },
  {
   "cell_type": "markdown",
   "id": "78c4462a-d6ac-4f09-9af9-781238bd2810",
   "metadata": {},
   "source": [
    "## Gli array\n",
    "\n",
    "La struttura fondamentale di numpy è il `ndarray`, cioè un array (matrice) n-dimensionale."
   ]
  },
  {
   "cell_type": "code",
   "execution_count": 3,
   "id": "f6e74bf6",
   "metadata": {},
   "outputs": [
    {
     "name": "stdout",
     "output_type": "stream",
     "text": [
      "[1 2 3 4]\n"
     ]
    }
   ],
   "source": [
    "array = np.array([1,2,3,4])\n",
    "print(array)"
   ]
  },
  {
   "cell_type": "markdown",
   "id": "88859ee6",
   "metadata": {},
   "source": [
    "Un array è diverso da una lista:"
   ]
  },
  {
   "cell_type": "code",
   "execution_count": 4,
   "id": "b97222d2",
   "metadata": {},
   "outputs": [
    {
     "name": "stdout",
     "output_type": "stream",
     "text": [
      "[1, 2, 3, 4]\n"
     ]
    }
   ],
   "source": [
    "lista = [1,2,3,4]\n",
    "print(lista)"
   ]
  },
  {
   "cell_type": "code",
   "execution_count": 5,
   "id": "b800e8fa",
   "metadata": {
    "scrolled": true
   },
   "outputs": [
    {
     "name": "stdout",
     "output_type": "stream",
     "text": [
      "<class 'list'> \n",
      " <class 'numpy.ndarray'>\n"
     ]
    }
   ],
   "source": [
    "print(\n",
    "    type(lista),\n",
    "    \"\\n\", # <- crea una linea bianca\n",
    "    type(array)\n",
    ")"
   ]
  },
  {
   "cell_type": "markdown",
   "id": "b32f46bc",
   "metadata": {},
   "source": [
    "Innanzitutto, possiamo creare facilmente array in due o più dimensioni, contrariamente alle liste:"
   ]
  },
  {
   "cell_type": "code",
   "execution_count": 7,
   "id": "ab61f7b0-07a8-42a0-8878-1453a4f227c9",
   "metadata": {},
   "outputs": [
    {
     "name": "stdout",
     "output_type": "stream",
     "text": [
      "[[1, 2], [3, 4]]\n",
      "[[1 2]\n",
      " [3 4]]\n"
     ]
    }
   ],
   "source": [
    "lista_2d = [[1,2], [3,4]]\n",
    "print(lista_2d)\n",
    "\n",
    "array_2d = np.array([[1,2], [3,4]])\n",
    "print(array_2d)"
   ]
  },
  {
   "cell_type": "markdown",
   "id": "bfd1293c-167b-4d27-a095-d9597eee5991",
   "metadata": {},
   "source": [
    "### Alcuni attributi degli array"
   ]
  },
  {
   "cell_type": "markdown",
   "id": "dc745705",
   "metadata": {},
   "source": [
    "Possiamo vedere quanti elementi ha l'array, senza usare `len()`:"
   ]
  },
  {
   "cell_type": "code",
   "execution_count": 11,
   "id": "74b575cf",
   "metadata": {},
   "outputs": [
    {
     "data": {
      "text/plain": [
       "4"
      ]
     },
     "execution_count": 11,
     "metadata": {},
     "output_type": "execute_result"
    }
   ],
   "source": [
    "array_2d.size"
   ]
  },
  {
   "cell_type": "markdown",
   "id": "cbffb300",
   "metadata": {},
   "source": [
    "Ma anche il numero di dimensioni:"
   ]
  },
  {
   "cell_type": "code",
   "execution_count": 12,
   "id": "00bebf2f",
   "metadata": {},
   "outputs": [
    {
     "data": {
      "text/plain": [
       "(2, 2)"
      ]
     },
     "execution_count": 12,
     "metadata": {},
     "output_type": "execute_result"
    }
   ],
   "source": [
    "array_2d.shape"
   ]
  },
  {
   "cell_type": "markdown",
   "id": "2118c18e",
   "metadata": {},
   "source": [
    "In questo caso, `array_2d` ha due righe e due colonne.\n",
    "\n",
    "### Un metodo fondamentale: `reshape()`\n",
    "\n",
    "Creare array complessi è molto semplice usando il metodo `.reshape()`:"
   ]
  },
  {
   "cell_type": "code",
   "execution_count": 15,
   "id": "53a29f88",
   "metadata": {},
   "outputs": [
    {
     "data": {
      "text/plain": [
       "array([[1, 2, 3],\n",
       "       [4, 5, 6],\n",
       "       [7, 8, 9]])"
      ]
     },
     "execution_count": 15,
     "metadata": {},
     "output_type": "execute_result"
    }
   ],
   "source": [
    "matrice_3x3 = np.array([1, 2, 3, 4, 5, 6, 7, 8, 9]).reshape(3, -1)\n",
    "\n",
    "matrice_3x3"
   ]
  },
  {
   "cell_type": "code",
   "execution_count": 16,
   "id": "24b3a1ef",
   "metadata": {},
   "outputs": [
    {
     "data": {
      "text/plain": [
       "(3, 3)"
      ]
     },
     "execution_count": 16,
     "metadata": {},
     "output_type": "execute_result"
    }
   ],
   "source": [
    "matrice_3x3.shape"
   ]
  },
  {
   "cell_type": "markdown",
   "id": "862d5831",
   "metadata": {},
   "source": [
    "In questo caso, `reshape()` prende come argomento il numero di righe che vogliamo, 3. `-1` indica a numpy di calcolare automaticamente quanti elementi mettere nell'altra dimensione:"
   ]
  },
  {
   "cell_type": "code",
   "execution_count": 31,
   "id": "2aa7bf15",
   "metadata": {},
   "outputs": [
    {
     "data": {
      "text/plain": [
       "array([[[1, 2, 3],\n",
       "        [4, 5, 6],\n",
       "        [7, 8, 9]]])"
      ]
     },
     "execution_count": 31,
     "metadata": {},
     "output_type": "execute_result"
    }
   ],
   "source": [
    "array_3d = matrice_3x3.reshape(1, 3, -1)\n",
    "array_3d"
   ]
  },
  {
   "cell_type": "code",
   "execution_count": 36,
   "id": "e7e1106e",
   "metadata": {},
   "outputs": [
    {
     "data": {
      "text/plain": [
       "(1, 3, 3)"
      ]
     },
     "execution_count": 36,
     "metadata": {},
     "output_type": "execute_result"
    }
   ],
   "source": [
    "array_3d.shape"
   ]
  },
  {
   "cell_type": "markdown",
   "id": "6262bd36",
   "metadata": {},
   "source": [
    "Anche se si tratta di un array difficile da visualizzare perché ha tre dimensioni.\n",
    "\n",
    "Per creare un array possiamo usare qualsiasi `Iterable`:"
   ]
  },
  {
   "cell_type": "code",
   "execution_count": 3,
   "id": "5dd9e10b",
   "metadata": {},
   "outputs": [
    {
     "data": {
      "text/plain": [
       "array([[[ 0,  1,  2],\n",
       "        [ 3,  4,  5],\n",
       "        [ 6,  7,  8]],\n",
       "\n",
       "       [[ 9, 10, 11],\n",
       "        [12, 13, 14],\n",
       "        [15, 16, 17]]])"
      ]
     },
     "execution_count": 3,
     "metadata": {},
     "output_type": "execute_result"
    }
   ],
   "source": [
    "threed_array = np.array(range(18)).reshape(2, 3, -1)\n",
    "threed_array"
   ]
  },
  {
   "cell_type": "code",
   "execution_count": 4,
   "id": "088277f9-ad2e-47c3-8c93-962e3fb8c015",
   "metadata": {},
   "outputs": [
    {
     "data": {
      "text/plain": [
       "(2, 3, 3)"
      ]
     },
     "execution_count": 4,
     "metadata": {},
     "output_type": "execute_result"
    }
   ],
   "source": [
    "threed_array.shape"
   ]
  },
  {
   "cell_type": "markdown",
   "id": "fd10249f-fddb-40a3-81bb-8719cf4e7294",
   "metadata": {},
   "source": [
    "In questo caso, l'array ha due elementi nella direzione x (le righe), e tre nelle altre due (y e z)\n",
    "\n",
    "Possiamo anche traspore array velocemente:"
   ]
  },
  {
   "cell_type": "code",
   "execution_count": 43,
   "id": "4c856d72",
   "metadata": {},
   "outputs": [
    {
     "data": {
      "text/plain": [
       "array([[1, 4, 7],\n",
       "       [2, 5, 8],\n",
       "       [3, 6, 9]])"
      ]
     },
     "execution_count": 43,
     "metadata": {},
     "output_type": "execute_result"
    }
   ],
   "source": [
    "matrice_3x3.T"
   ]
  },
  {
   "cell_type": "markdown",
   "id": "6babd73e",
   "metadata": {},
   "source": [
    "Per farlo con Python avremmo dovuto usare due for loop \"nestati\":"
   ]
  },
  {
   "cell_type": "code",
   "execution_count": 53,
   "id": "58d4a9e4",
   "metadata": {},
   "outputs": [
    {
     "name": "stdout",
     "output_type": "stream",
     "text": [
      "[[1, 4, 7], [2, 5, 8], [3, 6, 9]]\n"
     ]
    }
   ],
   "source": [
    "lista_3x3 = [\n",
    "    [1,2,3],\n",
    "    [4,5,6],\n",
    "    [7,8,9]\n",
    "]\n",
    "\n",
    "lista_trasposta = [[None, None, None], [None, None, None], [None, None, None]]\n",
    "\n",
    "for i in range(3):\n",
    "    for j in range(3):\n",
    "        lista_trasposta[i][j] = lista_3x3[j][i]\n",
    "        \n",
    "print(lista_trasposta)"
   ]
  },
  {
   "cell_type": "markdown",
   "id": "c2d5b5ad",
   "metadata": {},
   "source": [
    "E questa operazione diventa estremamente più lenta e laboriosa più la matrice diventa grande."
   ]
  },
  {
   "cell_type": "markdown",
   "id": "1de844d8-aa0d-4021-a576-6128988a6acc",
   "metadata": {},
   "source": [
    "## I tipi degli array\n",
    "\n",
    "numpy è una libreria che si scrive in Python, ma che è scritta in C e Fortran. Quando eseguiamo il codice, viene eseguito in realtà del codice compilato in C, che è molto più veloce.\n",
    "Per questo i \"comandi\" di numpy che usiamo in Python sono anche detti Python-API, cioè un'\"interfaccia di accesso\" (Application Program Interface) scritta in Python per eseguire codice in C.\n",
    "\n",
    "Questo è il centro del discorso di Python come linguaggio di calcolo numerico: ha una grandissima espressività e semplicità e con librerie come numpy diventa possibile raggiungere livelli di velocità paragonabili a C - ottenendo il meglio dei due mondi.\n",
    "\n",
    "La prima differenza che comporta questa interazione tra C e Python è che in numpy i tipi degli oggetti sono diversi (e più efficienti). Possiamo vedere i tipi di un array con l'attributo `dtype`, cioè datatype:"
   ]
  },
  {
   "cell_type": "code",
   "execution_count": 15,
   "id": "4726a66d-f873-42b4-9265-f4f9a2b79618",
   "metadata": {},
   "outputs": [
    {
     "data": {
      "text/plain": [
       "dtype('int64')"
      ]
     },
     "execution_count": 15,
     "metadata": {},
     "output_type": "execute_result"
    }
   ],
   "source": [
    "array_2d.dtype"
   ]
  },
  {
   "cell_type": "code",
   "execution_count": 5,
   "id": "77c29674-78c5-426b-8cf6-64bc286b7dcc",
   "metadata": {},
   "outputs": [
    {
     "data": {
      "text/plain": [
       "array(['ciao', '1'], dtype='<U21')"
      ]
     },
     "execution_count": 5,
     "metadata": {},
     "output_type": "execute_result"
    }
   ],
   "source": [
    "mixed_array = np.array([\"ciao\", 1])\n",
    "mixed_array"
   ]
  },
  {
   "cell_type": "code",
   "execution_count": 6,
   "id": "e8327348-0383-4153-b26f-dae77afaa87e",
   "metadata": {},
   "outputs": [
    {
     "data": {
      "text/plain": [
       "dtype('<U21')"
      ]
     },
     "execution_count": 6,
     "metadata": {},
     "output_type": "execute_result"
    }
   ],
   "source": [
    "mixed_array.dtype"
   ]
  },
  {
   "cell_type": "markdown",
   "id": "f8c4861c-3d52-4833-bbe4-3897781bdcf4",
   "metadata": {},
   "source": [
    "Ci sono molti altri [tipi in numpy](https://numpy.org/doc/stable/reference/arrays.dtypes.html) e possiamo effettuare conversioni tra tipi con il metodo `astype`."
   ]
  },
  {
   "cell_type": "code",
   "execution_count": 11,
   "id": "ebd71f71-8f38-4180-bf55-3addbed8baf7",
   "metadata": {},
   "outputs": [
    {
     "data": {
      "text/plain": [
       "array([  1,   2,   3,   4,   5,   6,   7,   8,   9,  10,  11,  12,  13,\n",
       "        14,  15,  16,  17,  18,  19,  20,  21,  22,  23,  24,  25,  26,\n",
       "        27,  28,  29,  30,  31,  32,  33,  34,  35,  36,  37,  38,  39,\n",
       "        40,  41,  42,  43,  44,  45,  46,  47,  48,  49,  50,  51,  52,\n",
       "        53,  54,  55,  56,  57,  58,  59,  60,  61,  62,  63,  64,  65,\n",
       "        66,  67,  68,  69,  70,  71,  72,  73,  74,  75,  76,  77,  78,\n",
       "        79,  80,  81,  82,  83,  84,  85,  86,  87,  88,  89,  90,  91,\n",
       "        92,  93,  94,  95,  96,  97,  98,  99, 100])"
      ]
     },
     "execution_count": 11,
     "metadata": {},
     "output_type": "execute_result"
    }
   ],
   "source": [
    "lungo_array = np.linspace(1, 100, 100).astype(int)\n",
    "lungo_array"
   ]
  },
  {
   "cell_type": "markdown",
   "id": "fc91801f-2a76-46dc-bb94-cad4941db014",
   "metadata": {},
   "source": [
    "Anche se abbiamo detto di creare un `int`, non si tratta dello stesso `int` di python:"
   ]
  },
  {
   "cell_type": "code",
   "execution_count": 12,
   "id": "ab565309-48a4-4f42-bfa0-9cbd50dccb13",
   "metadata": {},
   "outputs": [
    {
     "data": {
      "text/plain": [
       "dtype('int64')"
      ]
     },
     "execution_count": 12,
     "metadata": {},
     "output_type": "execute_result"
    }
   ],
   "source": [
    "lungo_array.dtype"
   ]
  },
  {
   "cell_type": "markdown",
   "id": "006680ea-9670-42da-ace9-2681e2af7179",
   "metadata": {},
   "source": [
    "Vediamo se i due oggetti sono identici con `is` (che è l'operatore per confermare l'identità di due oggetti):"
   ]
  },
  {
   "cell_type": "code",
   "execution_count": 13,
   "id": "f62b2ea1-546e-456e-b56e-0ee2fdf890f4",
   "metadata": {},
   "outputs": [
    {
     "data": {
      "text/plain": [
       "False"
      ]
     },
     "execution_count": 13,
     "metadata": {},
     "output_type": "execute_result"
    }
   ],
   "source": [
    "lungo_array.dtype is int"
   ]
  },
  {
   "cell_type": "markdown",
   "id": "f07f9e96-f53a-43bc-9d42-32295b0036f0",
   "metadata": {},
   "source": [
    "Questo succede perché l'`int64` di numpy è un oggetto di C e non di Python.\n",
    "\n",
    "## Accedere agli elementi di un array\n",
    "\n",
    "È come con le liste di Python:"
   ]
  },
  {
   "cell_type": "code",
   "execution_count": 14,
   "id": "d591c36b-fd40-4346-b33f-26068f1f8a42",
   "metadata": {},
   "outputs": [
    {
     "data": {
      "text/plain": [
       "array([ 2,  3,  4,  5,  6,  7,  8,  9, 10])"
      ]
     },
     "execution_count": 14,
     "metadata": {},
     "output_type": "execute_result"
    }
   ],
   "source": [
    "lungo_array[1:10]"
   ]
  },
  {
   "cell_type": "code",
   "execution_count": 15,
   "id": "2036d643-2bf4-4c44-b8bc-4e149a302cf0",
   "metadata": {},
   "outputs": [
    {
     "data": {
      "text/plain": [
       "array([100,  98,  96,  94,  92,  90,  88,  86,  84,  82,  80,  78,  76,\n",
       "        74,  72,  70,  68,  66,  64,  62,  60,  58,  56,  54,  52,  50,\n",
       "        48,  46,  44,  42,  40,  38,  36,  34,  32,  30,  28,  26,  24,\n",
       "        22,  20,  18,  16,  14,  12,  10,   8,   6,   4,   2])"
      ]
     },
     "execution_count": 15,
     "metadata": {},
     "output_type": "execute_result"
    }
   ],
   "source": [
    "lungo_array[::-2] # solo i numeri pari, in ordine decrescente"
   ]
  },
  {
   "cell_type": "markdown",
   "id": "c0530fa6-1ff1-4be3-a298-6d3847796a95",
   "metadata": {},
   "source": [
    "Si possono convertire gli array in liste:"
   ]
  },
  {
   "cell_type": "code",
   "execution_count": 19,
   "id": "588c0d6d-62b8-4130-8d49-67d2fa2af079",
   "metadata": {},
   "outputs": [
    {
     "data": {
      "text/plain": [
       "[1, 2, 3, 4, 5]"
      ]
     },
     "execution_count": 19,
     "metadata": {},
     "output_type": "execute_result"
    }
   ],
   "source": [
    "lungo_array.tolist()[:5] # solo per vedere i primi 5 elementi"
   ]
  },
  {
   "cell_type": "markdown",
   "id": "e654401e-fcaf-45d0-90b3-e5211ee43be9",
   "metadata": {},
   "source": [
    "## Differenze con le Liste di Python\n",
    "\n",
    "Un array è molto più maneggevole e veloce da usare perché in numpy possiamo direttamente chiamare dei metodi sugli array che eseguono le operazioni usando C e in modo \"vettorializzato\" - cioè su tutta la colonna, e quindi velocemente."
   ]
  },
  {
   "cell_type": "code",
   "execution_count": 20,
   "id": "198986ed-3f9c-45b0-aa16-08da51b497f3",
   "metadata": {},
   "outputs": [
    {
     "data": {
      "text/plain": [
       "50.5"
      ]
     },
     "execution_count": 20,
     "metadata": {},
     "output_type": "execute_result"
    }
   ],
   "source": [
    "lungo_array.mean()"
   ]
  },
  {
   "cell_type": "code",
   "execution_count": 21,
   "id": "ec990ee6-a443-4ac0-a15d-4d54c37b3a0f",
   "metadata": {},
   "outputs": [
    {
     "data": {
      "text/plain": [
       "28.86607004772212"
      ]
     },
     "execution_count": 21,
     "metadata": {},
     "output_type": "execute_result"
    }
   ],
   "source": [
    "lungo_array.std()"
   ]
  },
  {
   "cell_type": "markdown",
   "id": "88dd6363-110f-4755-96b9-d88fd80f8c5c",
   "metadata": {},
   "source": [
    "Le operazioni disponibili sono moltissime e più veloci. Immaginiamo di voler aumentare di 1 il valore di tutti gli elementi di una lista di Python:"
   ]
  },
  {
   "cell_type": "code",
   "execution_count": 16,
   "id": "e6459626-0335-4875-9c31-7f0b07e4bc9d",
   "metadata": {},
   "outputs": [
    {
     "name": "stdout",
     "output_type": "stream",
     "text": [
      "10000\n"
     ]
    }
   ],
   "source": [
    "grossa_lista = [1] * 100_000\n",
    "print(len(grossa_lista))"
   ]
  },
  {
   "cell_type": "code",
   "execution_count": 21,
   "id": "0968d27b-5ef5-41e4-b3d7-c8d39109b3b4",
   "metadata": {},
   "outputs": [
    {
     "name": "stdout",
     "output_type": "stream",
     "text": [
      "[0, 1, 2, 3, 4]\n"
     ]
    }
   ],
   "source": [
    "grossa_lista = list(range(1_000_000))\n",
    "print(grossa_lista[:5])"
   ]
  },
  {
   "cell_type": "code",
   "execution_count": 28,
   "id": "f32cdb9d-ecf3-46df-8235-070a96485aa4",
   "metadata": {},
   "outputs": [
    {
     "name": "stdout",
     "output_type": "stream",
     "text": [
      "64.3 ms ± 5.35 ms per loop (mean ± std. dev. of 7 runs, 10 loops each)\n"
     ]
    }
   ],
   "source": [
    "%%timeit\n",
    "for element in grossa_lista:\n",
    "    element += 1"
   ]
  },
  {
   "cell_type": "markdown",
   "id": "5e83b0ce-b623-4f13-983d-8bfa369302cc",
   "metadata": {},
   "source": [
    "E facciamo lo stesso con numpy:"
   ]
  },
  {
   "cell_type": "code",
   "execution_count": 38,
   "id": "20327d46-c071-4a43-b77e-e378039c9e54",
   "metadata": {},
   "outputs": [
    {
     "data": {
      "text/plain": [
       "(1000000,)"
      ]
     },
     "execution_count": 38,
     "metadata": {},
     "output_type": "execute_result"
    }
   ],
   "source": [
    "grosso_array = np.linspace(1, 1_000_000, 1_000_000)\n",
    "grosso_array.shape"
   ]
  },
  {
   "cell_type": "code",
   "execution_count": 42,
   "id": "1f08993a-8386-404e-922d-9726b8120277",
   "metadata": {},
   "outputs": [
    {
     "name": "stdout",
     "output_type": "stream",
     "text": [
      "2.15 ms ± 228 µs per loop (mean ± std. dev. of 7 runs, 100 loops each)\n"
     ]
    }
   ],
   "source": [
    "%timeit grosso_array + 1"
   ]
  },
  {
   "cell_type": "markdown",
   "id": "6d53ac3a-c0b6-48df-9c8e-c8110cee0ab8",
   "metadata": {},
   "source": [
    "L'operazione è **trenta** volte più veloce!"
   ]
  }
 ],
 "metadata": {
  "kernelspec": {
   "display_name": "K2 Dashboard (3.9)",
   "language": "python",
   "name": "k2-dashboard"
  },
  "language_info": {
   "codemirror_mode": {
    "name": "ipython",
    "version": 3
   },
   "file_extension": ".py",
   "mimetype": "text/x-python",
   "name": "python",
   "nbconvert_exporter": "python",
   "pygments_lexer": "ipython3",
   "version": "3.9.9"
  }
 },
 "nbformat": 4,
 "nbformat_minor": 5
}
