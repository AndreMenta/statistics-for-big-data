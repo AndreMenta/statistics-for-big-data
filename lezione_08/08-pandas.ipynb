{
 "cells": [
  {
   "cell_type": "markdown",
   "id": "a01ff7ab",
   "metadata": {},
   "source": [
    "Come abbiamo visto con numpy:\n",
    "- Togliere il # per chi non ha pandas\n",
    "- Importare pandas"
   ]
  },
  {
   "cell_type": "code",
   "execution_count": 1,
   "id": "2b366bef",
   "metadata": {},
   "outputs": [
    {
     "name": "stdout",
     "output_type": "stream",
     "text": [
      "1.4.2\n"
     ]
    }
   ],
   "source": [
    "# !pip install pandas\n",
    "import pandas as pd\n",
    "\n",
    "print(pd.__version__)"
   ]
  },
  {
   "cell_type": "markdown",
   "id": "c8e19418-24b9-4e62-b3ac-0d6ea94f8e84",
   "metadata": {},
   "source": [
    "Caricare un dataset"
   ]
  },
  {
   "cell_type": "code",
   "execution_count": 2,
   "id": "b3ef4377-a3f1-422c-8965-c11b327278d0",
   "metadata": {},
   "outputs": [],
   "source": [
    "iris_dataset = pd.read_csv(\"https://raw.githubusercontent.com/baggiponte/statistics-for-big-data/main/lezione_08/iris.csv\")"
   ]
  },
  {
   "cell_type": "markdown",
   "id": "709a5c96-5039-4d03-a837-bfa71871ac90",
   "metadata": {},
   "source": [
    "Visualizzare un dataset:"
   ]
  },
  {
   "cell_type": "code",
   "execution_count": 3,
   "id": "89a652ab-5d41-436c-9892-f12890ba98dd",
   "metadata": {},
   "outputs": [
    {
     "data": {
      "text/html": [
       "<div>\n",
       "<style scoped>\n",
       "    .dataframe tbody tr th:only-of-type {\n",
       "        vertical-align: middle;\n",
       "    }\n",
       "\n",
       "    .dataframe tbody tr th {\n",
       "        vertical-align: top;\n",
       "    }\n",
       "\n",
       "    .dataframe thead th {\n",
       "        text-align: right;\n",
       "    }\n",
       "</style>\n",
       "<table border=\"1\" class=\"dataframe\">\n",
       "  <thead>\n",
       "    <tr style=\"text-align: right;\">\n",
       "      <th></th>\n",
       "      <th>sepal_length</th>\n",
       "      <th>sepal_width</th>\n",
       "      <th>petal_length</th>\n",
       "      <th>petal_width</th>\n",
       "      <th>species</th>\n",
       "    </tr>\n",
       "  </thead>\n",
       "  <tbody>\n",
       "    <tr>\n",
       "      <th>0</th>\n",
       "      <td>5.1</td>\n",
       "      <td>3.5</td>\n",
       "      <td>1.4</td>\n",
       "      <td>0.2</td>\n",
       "      <td>Iris-setosa</td>\n",
       "    </tr>\n",
       "    <tr>\n",
       "      <th>1</th>\n",
       "      <td>4.9</td>\n",
       "      <td>3.0</td>\n",
       "      <td>1.4</td>\n",
       "      <td>0.2</td>\n",
       "      <td>Iris-setosa</td>\n",
       "    </tr>\n",
       "    <tr>\n",
       "      <th>2</th>\n",
       "      <td>4.7</td>\n",
       "      <td>3.2</td>\n",
       "      <td>1.3</td>\n",
       "      <td>0.2</td>\n",
       "      <td>Iris-setosa</td>\n",
       "    </tr>\n",
       "    <tr>\n",
       "      <th>3</th>\n",
       "      <td>4.6</td>\n",
       "      <td>3.1</td>\n",
       "      <td>1.5</td>\n",
       "      <td>0.2</td>\n",
       "      <td>Iris-setosa</td>\n",
       "    </tr>\n",
       "    <tr>\n",
       "      <th>4</th>\n",
       "      <td>5.0</td>\n",
       "      <td>3.6</td>\n",
       "      <td>1.4</td>\n",
       "      <td>0.2</td>\n",
       "      <td>Iris-setosa</td>\n",
       "    </tr>\n",
       "  </tbody>\n",
       "</table>\n",
       "</div>"
      ],
      "text/plain": [
       "   sepal_length  sepal_width  petal_length  petal_width      species\n",
       "0           5.1          3.5           1.4          0.2  Iris-setosa\n",
       "1           4.9          3.0           1.4          0.2  Iris-setosa\n",
       "2           4.7          3.2           1.3          0.2  Iris-setosa\n",
       "3           4.6          3.1           1.5          0.2  Iris-setosa\n",
       "4           5.0          3.6           1.4          0.2  Iris-setosa"
      ]
     },
     "execution_count": 3,
     "metadata": {},
     "output_type": "execute_result"
    }
   ],
   "source": [
    "iris_dataset.head(2 + 3)"
   ]
  },
  {
   "cell_type": "code",
   "execution_count": 4,
   "id": "71ab3c28-f687-4a98-a7e3-cd30076cf0ac",
   "metadata": {},
   "outputs": [
    {
     "data": {
      "text/html": [
       "<div>\n",
       "<style scoped>\n",
       "    .dataframe tbody tr th:only-of-type {\n",
       "        vertical-align: middle;\n",
       "    }\n",
       "\n",
       "    .dataframe tbody tr th {\n",
       "        vertical-align: top;\n",
       "    }\n",
       "\n",
       "    .dataframe thead th {\n",
       "        text-align: right;\n",
       "    }\n",
       "</style>\n",
       "<table border=\"1\" class=\"dataframe\">\n",
       "  <thead>\n",
       "    <tr style=\"text-align: right;\">\n",
       "      <th></th>\n",
       "      <th>sepal_length</th>\n",
       "      <th>sepal_width</th>\n",
       "      <th>petal_length</th>\n",
       "      <th>petal_width</th>\n",
       "      <th>species</th>\n",
       "    </tr>\n",
       "  </thead>\n",
       "  <tbody>\n",
       "    <tr>\n",
       "      <th>140</th>\n",
       "      <td>6.7</td>\n",
       "      <td>3.1</td>\n",
       "      <td>5.6</td>\n",
       "      <td>2.4</td>\n",
       "      <td>Iris-virginica</td>\n",
       "    </tr>\n",
       "    <tr>\n",
       "      <th>141</th>\n",
       "      <td>6.9</td>\n",
       "      <td>3.1</td>\n",
       "      <td>5.1</td>\n",
       "      <td>2.3</td>\n",
       "      <td>Iris-virginica</td>\n",
       "    </tr>\n",
       "    <tr>\n",
       "      <th>142</th>\n",
       "      <td>5.8</td>\n",
       "      <td>2.7</td>\n",
       "      <td>5.1</td>\n",
       "      <td>1.9</td>\n",
       "      <td>Iris-virginica</td>\n",
       "    </tr>\n",
       "    <tr>\n",
       "      <th>143</th>\n",
       "      <td>6.8</td>\n",
       "      <td>3.2</td>\n",
       "      <td>5.9</td>\n",
       "      <td>2.3</td>\n",
       "      <td>Iris-virginica</td>\n",
       "    </tr>\n",
       "    <tr>\n",
       "      <th>144</th>\n",
       "      <td>6.7</td>\n",
       "      <td>3.3</td>\n",
       "      <td>5.7</td>\n",
       "      <td>2.5</td>\n",
       "      <td>Iris-virginica</td>\n",
       "    </tr>\n",
       "    <tr>\n",
       "      <th>145</th>\n",
       "      <td>6.7</td>\n",
       "      <td>3.0</td>\n",
       "      <td>5.2</td>\n",
       "      <td>2.3</td>\n",
       "      <td>Iris-virginica</td>\n",
       "    </tr>\n",
       "    <tr>\n",
       "      <th>146</th>\n",
       "      <td>6.3</td>\n",
       "      <td>2.5</td>\n",
       "      <td>5.0</td>\n",
       "      <td>1.9</td>\n",
       "      <td>Iris-virginica</td>\n",
       "    </tr>\n",
       "    <tr>\n",
       "      <th>147</th>\n",
       "      <td>6.5</td>\n",
       "      <td>3.0</td>\n",
       "      <td>5.2</td>\n",
       "      <td>2.0</td>\n",
       "      <td>Iris-virginica</td>\n",
       "    </tr>\n",
       "    <tr>\n",
       "      <th>148</th>\n",
       "      <td>6.2</td>\n",
       "      <td>3.4</td>\n",
       "      <td>5.4</td>\n",
       "      <td>2.3</td>\n",
       "      <td>Iris-virginica</td>\n",
       "    </tr>\n",
       "    <tr>\n",
       "      <th>149</th>\n",
       "      <td>5.9</td>\n",
       "      <td>3.0</td>\n",
       "      <td>5.1</td>\n",
       "      <td>1.8</td>\n",
       "      <td>Iris-virginica</td>\n",
       "    </tr>\n",
       "  </tbody>\n",
       "</table>\n",
       "</div>"
      ],
      "text/plain": [
       "     sepal_length  sepal_width  petal_length  petal_width         species\n",
       "140           6.7          3.1           5.6          2.4  Iris-virginica\n",
       "141           6.9          3.1           5.1          2.3  Iris-virginica\n",
       "142           5.8          2.7           5.1          1.9  Iris-virginica\n",
       "143           6.8          3.2           5.9          2.3  Iris-virginica\n",
       "144           6.7          3.3           5.7          2.5  Iris-virginica\n",
       "145           6.7          3.0           5.2          2.3  Iris-virginica\n",
       "146           6.3          2.5           5.0          1.9  Iris-virginica\n",
       "147           6.5          3.0           5.2          2.0  Iris-virginica\n",
       "148           6.2          3.4           5.4          2.3  Iris-virginica\n",
       "149           5.9          3.0           5.1          1.8  Iris-virginica"
      ]
     },
     "execution_count": 4,
     "metadata": {},
     "output_type": "execute_result"
    }
   ],
   "source": [
    "iris_dataset.tail(10)"
   ]
  },
  {
   "cell_type": "markdown",
   "id": "7f52d0cb-7f3f-4add-ab66-fcc4dfa2c4d9",
   "metadata": {},
   "source": [
    "Modificare indici e nomi delle colonne:"
   ]
  },
  {
   "cell_type": "code",
   "execution_count": 5,
   "id": "0017606c-6d30-4112-9739-574a1ea37120",
   "metadata": {},
   "outputs": [
    {
     "data": {
      "text/plain": [
       "Index(['sepal_length', 'sepal_width', 'petal_length', 'petal_width',\n",
       "       'species'],\n",
       "      dtype='object')"
      ]
     },
     "execution_count": 5,
     "metadata": {},
     "output_type": "execute_result"
    }
   ],
   "source": [
    "iris_dataset.columns"
   ]
  },
  {
   "cell_type": "code",
   "execution_count": 6,
   "id": "c97c81ec-a13c-461b-a660-71beea875a99",
   "metadata": {},
   "outputs": [
    {
     "data": {
      "text/plain": [
       "(5,)"
      ]
     },
     "execution_count": 6,
     "metadata": {},
     "output_type": "execute_result"
    }
   ],
   "source": [
    "iris_dataset.columns.shape"
   ]
  },
  {
   "cell_type": "code",
   "execution_count": 7,
   "id": "4b496ead-9d06-49bd-a3da-6c556559c160",
   "metadata": {},
   "outputs": [],
   "source": [
    "iris_dataset.columns = [\"lunghezza_sepale\", \"larghezza_sepale\", \"lunghezza_petalo\", \"larghezza_petalo\", \"specie\"]"
   ]
  },
  {
   "cell_type": "code",
   "execution_count": 8,
   "id": "5a26bb63-641b-4282-a977-59586e7e3db3",
   "metadata": {},
   "outputs": [
    {
     "data": {
      "text/html": [
       "<div>\n",
       "<style scoped>\n",
       "    .dataframe tbody tr th:only-of-type {\n",
       "        vertical-align: middle;\n",
       "    }\n",
       "\n",
       "    .dataframe tbody tr th {\n",
       "        vertical-align: top;\n",
       "    }\n",
       "\n",
       "    .dataframe thead th {\n",
       "        text-align: right;\n",
       "    }\n",
       "</style>\n",
       "<table border=\"1\" class=\"dataframe\">\n",
       "  <thead>\n",
       "    <tr style=\"text-align: right;\">\n",
       "      <th></th>\n",
       "      <th>lunghezza_sepale</th>\n",
       "      <th>larghezza_sepale</th>\n",
       "      <th>lunghezza_petalo</th>\n",
       "      <th>larghezza_petalo</th>\n",
       "      <th>specie</th>\n",
       "    </tr>\n",
       "  </thead>\n",
       "  <tbody>\n",
       "    <tr>\n",
       "      <th>0</th>\n",
       "      <td>5.1</td>\n",
       "      <td>3.5</td>\n",
       "      <td>1.4</td>\n",
       "      <td>0.2</td>\n",
       "      <td>Iris-setosa</td>\n",
       "    </tr>\n",
       "    <tr>\n",
       "      <th>1</th>\n",
       "      <td>4.9</td>\n",
       "      <td>3.0</td>\n",
       "      <td>1.4</td>\n",
       "      <td>0.2</td>\n",
       "      <td>Iris-setosa</td>\n",
       "    </tr>\n",
       "    <tr>\n",
       "      <th>2</th>\n",
       "      <td>4.7</td>\n",
       "      <td>3.2</td>\n",
       "      <td>1.3</td>\n",
       "      <td>0.2</td>\n",
       "      <td>Iris-setosa</td>\n",
       "    </tr>\n",
       "    <tr>\n",
       "      <th>3</th>\n",
       "      <td>4.6</td>\n",
       "      <td>3.1</td>\n",
       "      <td>1.5</td>\n",
       "      <td>0.2</td>\n",
       "      <td>Iris-setosa</td>\n",
       "    </tr>\n",
       "    <tr>\n",
       "      <th>4</th>\n",
       "      <td>5.0</td>\n",
       "      <td>3.6</td>\n",
       "      <td>1.4</td>\n",
       "      <td>0.2</td>\n",
       "      <td>Iris-setosa</td>\n",
       "    </tr>\n",
       "  </tbody>\n",
       "</table>\n",
       "</div>"
      ],
      "text/plain": [
       "   lunghezza_sepale  larghezza_sepale  lunghezza_petalo  larghezza_petalo  \\\n",
       "0               5.1               3.5               1.4               0.2   \n",
       "1               4.9               3.0               1.4               0.2   \n",
       "2               4.7               3.2               1.3               0.2   \n",
       "3               4.6               3.1               1.5               0.2   \n",
       "4               5.0               3.6               1.4               0.2   \n",
       "\n",
       "        specie  \n",
       "0  Iris-setosa  \n",
       "1  Iris-setosa  \n",
       "2  Iris-setosa  \n",
       "3  Iris-setosa  \n",
       "4  Iris-setosa  "
      ]
     },
     "execution_count": 8,
     "metadata": {},
     "output_type": "execute_result"
    }
   ],
   "source": [
    "iris_dataset.head()"
   ]
  },
  {
   "cell_type": "code",
   "execution_count": 9,
   "id": "9dd6b82e-951d-4776-ac00-19198909ae6c",
   "metadata": {},
   "outputs": [],
   "source": [
    "iris_dataset.index.name = \"numero_osservazione\""
   ]
  },
  {
   "cell_type": "code",
   "execution_count": 10,
   "id": "2c37a601-2777-40d4-802e-f07a6d1b6b19",
   "metadata": {},
   "outputs": [
    {
     "data": {
      "text/html": [
       "<div>\n",
       "<style scoped>\n",
       "    .dataframe tbody tr th:only-of-type {\n",
       "        vertical-align: middle;\n",
       "    }\n",
       "\n",
       "    .dataframe tbody tr th {\n",
       "        vertical-align: top;\n",
       "    }\n",
       "\n",
       "    .dataframe thead th {\n",
       "        text-align: right;\n",
       "    }\n",
       "</style>\n",
       "<table border=\"1\" class=\"dataframe\">\n",
       "  <thead>\n",
       "    <tr style=\"text-align: right;\">\n",
       "      <th></th>\n",
       "      <th>lunghezza_sepale</th>\n",
       "      <th>larghezza_sepale</th>\n",
       "      <th>lunghezza_petalo</th>\n",
       "      <th>larghezza_petalo</th>\n",
       "      <th>specie</th>\n",
       "    </tr>\n",
       "    <tr>\n",
       "      <th>numero_osservazione</th>\n",
       "      <th></th>\n",
       "      <th></th>\n",
       "      <th></th>\n",
       "      <th></th>\n",
       "      <th></th>\n",
       "    </tr>\n",
       "  </thead>\n",
       "  <tbody>\n",
       "    <tr>\n",
       "      <th>0</th>\n",
       "      <td>5.1</td>\n",
       "      <td>3.5</td>\n",
       "      <td>1.4</td>\n",
       "      <td>0.2</td>\n",
       "      <td>Iris-setosa</td>\n",
       "    </tr>\n",
       "    <tr>\n",
       "      <th>1</th>\n",
       "      <td>4.9</td>\n",
       "      <td>3.0</td>\n",
       "      <td>1.4</td>\n",
       "      <td>0.2</td>\n",
       "      <td>Iris-setosa</td>\n",
       "    </tr>\n",
       "    <tr>\n",
       "      <th>2</th>\n",
       "      <td>4.7</td>\n",
       "      <td>3.2</td>\n",
       "      <td>1.3</td>\n",
       "      <td>0.2</td>\n",
       "      <td>Iris-setosa</td>\n",
       "    </tr>\n",
       "    <tr>\n",
       "      <th>3</th>\n",
       "      <td>4.6</td>\n",
       "      <td>3.1</td>\n",
       "      <td>1.5</td>\n",
       "      <td>0.2</td>\n",
       "      <td>Iris-setosa</td>\n",
       "    </tr>\n",
       "    <tr>\n",
       "      <th>4</th>\n",
       "      <td>5.0</td>\n",
       "      <td>3.6</td>\n",
       "      <td>1.4</td>\n",
       "      <td>0.2</td>\n",
       "      <td>Iris-setosa</td>\n",
       "    </tr>\n",
       "  </tbody>\n",
       "</table>\n",
       "</div>"
      ],
      "text/plain": [
       "                     lunghezza_sepale  larghezza_sepale  lunghezza_petalo  \\\n",
       "numero_osservazione                                                         \n",
       "0                                 5.1               3.5               1.4   \n",
       "1                                 4.9               3.0               1.4   \n",
       "2                                 4.7               3.2               1.3   \n",
       "3                                 4.6               3.1               1.5   \n",
       "4                                 5.0               3.6               1.4   \n",
       "\n",
       "                     larghezza_petalo       specie  \n",
       "numero_osservazione                                 \n",
       "0                                 0.2  Iris-setosa  \n",
       "1                                 0.2  Iris-setosa  \n",
       "2                                 0.2  Iris-setosa  \n",
       "3                                 0.2  Iris-setosa  \n",
       "4                                 0.2  Iris-setosa  "
      ]
     },
     "execution_count": 10,
     "metadata": {},
     "output_type": "execute_result"
    }
   ],
   "source": [
    "iris_dataset.head()"
   ]
  },
  {
   "cell_type": "code",
   "execution_count": 42,
   "id": "6e50838a-4b47-40da-af00-eab9ec3636c1",
   "metadata": {},
   "outputs": [
    {
     "data": {
      "text/html": [
       "<div>\n",
       "<style scoped>\n",
       "    .dataframe tbody tr th:only-of-type {\n",
       "        vertical-align: middle;\n",
       "    }\n",
       "\n",
       "    .dataframe tbody tr th {\n",
       "        vertical-align: top;\n",
       "    }\n",
       "\n",
       "    .dataframe thead th {\n",
       "        text-align: right;\n",
       "    }\n",
       "</style>\n",
       "<table border=\"1\" class=\"dataframe\">\n",
       "  <thead>\n",
       "    <tr style=\"text-align: right;\">\n",
       "      <th></th>\n",
       "      <th>lunghezza_sepale</th>\n",
       "      <th>larghezza_sepale</th>\n",
       "      <th>lunghezza_petalo</th>\n",
       "      <th>larghezza_petalo</th>\n",
       "      <th>area_petalo</th>\n",
       "    </tr>\n",
       "    <tr>\n",
       "      <th>specie</th>\n",
       "      <th></th>\n",
       "      <th></th>\n",
       "      <th></th>\n",
       "      <th></th>\n",
       "      <th></th>\n",
       "    </tr>\n",
       "  </thead>\n",
       "  <tbody>\n",
       "    <tr>\n",
       "      <th>Iris-setosa</th>\n",
       "      <td>5.1</td>\n",
       "      <td>3.5</td>\n",
       "      <td>1.4</td>\n",
       "      <td>0.2</td>\n",
       "      <td>0.28</td>\n",
       "    </tr>\n",
       "    <tr>\n",
       "      <th>Iris-setosa</th>\n",
       "      <td>4.9</td>\n",
       "      <td>3.0</td>\n",
       "      <td>1.4</td>\n",
       "      <td>0.2</td>\n",
       "      <td>0.28</td>\n",
       "    </tr>\n",
       "    <tr>\n",
       "      <th>Iris-setosa</th>\n",
       "      <td>4.7</td>\n",
       "      <td>3.2</td>\n",
       "      <td>1.3</td>\n",
       "      <td>0.2</td>\n",
       "      <td>0.26</td>\n",
       "    </tr>\n",
       "    <tr>\n",
       "      <th>Iris-setosa</th>\n",
       "      <td>4.6</td>\n",
       "      <td>3.1</td>\n",
       "      <td>1.5</td>\n",
       "      <td>0.2</td>\n",
       "      <td>0.30</td>\n",
       "    </tr>\n",
       "    <tr>\n",
       "      <th>Iris-setosa</th>\n",
       "      <td>5.0</td>\n",
       "      <td>3.6</td>\n",
       "      <td>1.4</td>\n",
       "      <td>0.2</td>\n",
       "      <td>0.28</td>\n",
       "    </tr>\n",
       "    <tr>\n",
       "      <th>...</th>\n",
       "      <td>...</td>\n",
       "      <td>...</td>\n",
       "      <td>...</td>\n",
       "      <td>...</td>\n",
       "      <td>...</td>\n",
       "    </tr>\n",
       "    <tr>\n",
       "      <th>Iris-virginica</th>\n",
       "      <td>6.7</td>\n",
       "      <td>3.0</td>\n",
       "      <td>5.2</td>\n",
       "      <td>2.3</td>\n",
       "      <td>11.96</td>\n",
       "    </tr>\n",
       "    <tr>\n",
       "      <th>Iris-virginica</th>\n",
       "      <td>6.3</td>\n",
       "      <td>2.5</td>\n",
       "      <td>5.0</td>\n",
       "      <td>1.9</td>\n",
       "      <td>9.50</td>\n",
       "    </tr>\n",
       "    <tr>\n",
       "      <th>Iris-virginica</th>\n",
       "      <td>6.5</td>\n",
       "      <td>3.0</td>\n",
       "      <td>5.2</td>\n",
       "      <td>2.0</td>\n",
       "      <td>10.40</td>\n",
       "    </tr>\n",
       "    <tr>\n",
       "      <th>Iris-virginica</th>\n",
       "      <td>6.2</td>\n",
       "      <td>3.4</td>\n",
       "      <td>5.4</td>\n",
       "      <td>2.3</td>\n",
       "      <td>12.42</td>\n",
       "    </tr>\n",
       "    <tr>\n",
       "      <th>Iris-virginica</th>\n",
       "      <td>5.9</td>\n",
       "      <td>3.0</td>\n",
       "      <td>5.1</td>\n",
       "      <td>1.8</td>\n",
       "      <td>9.18</td>\n",
       "    </tr>\n",
       "  </tbody>\n",
       "</table>\n",
       "<p>150 rows × 5 columns</p>\n",
       "</div>"
      ],
      "text/plain": [
       "                lunghezza_sepale  larghezza_sepale  lunghezza_petalo  \\\n",
       "specie                                                                 \n",
       "Iris-setosa                  5.1               3.5               1.4   \n",
       "Iris-setosa                  4.9               3.0               1.4   \n",
       "Iris-setosa                  4.7               3.2               1.3   \n",
       "Iris-setosa                  4.6               3.1               1.5   \n",
       "Iris-setosa                  5.0               3.6               1.4   \n",
       "...                          ...               ...               ...   \n",
       "Iris-virginica               6.7               3.0               5.2   \n",
       "Iris-virginica               6.3               2.5               5.0   \n",
       "Iris-virginica               6.5               3.0               5.2   \n",
       "Iris-virginica               6.2               3.4               5.4   \n",
       "Iris-virginica               5.9               3.0               5.1   \n",
       "\n",
       "                larghezza_petalo  area_petalo  \n",
       "specie                                         \n",
       "Iris-setosa                  0.2         0.28  \n",
       "Iris-setosa                  0.2         0.28  \n",
       "Iris-setosa                  0.2         0.26  \n",
       "Iris-setosa                  0.2         0.30  \n",
       "Iris-setosa                  0.2         0.28  \n",
       "...                          ...          ...  \n",
       "Iris-virginica               2.3        11.96  \n",
       "Iris-virginica               1.9         9.50  \n",
       "Iris-virginica               2.0        10.40  \n",
       "Iris-virginica               2.3        12.42  \n",
       "Iris-virginica               1.8         9.18  \n",
       "\n",
       "[150 rows x 5 columns]"
      ]
     },
     "execution_count": 42,
     "metadata": {},
     "output_type": "execute_result"
    }
   ],
   "source": [
    "iris_dataset.set_index(\"specie\")"
   ]
  },
  {
   "cell_type": "markdown",
   "id": "b8c7a06d-0057-4717-8cb6-392362ac149c",
   "metadata": {},
   "source": [
    "## Accedere agli elementi usando l'indicizzazione (come per le liste):"
   ]
  },
  {
   "cell_type": "code",
   "execution_count": 11,
   "id": "4d57a6d5-f6c0-4908-b6f1-424952c8ecda",
   "metadata": {},
   "outputs": [
    {
     "data": {
      "text/plain": [
       "[2, 3, 4, 5, 6]"
      ]
     },
     "execution_count": 11,
     "metadata": {},
     "output_type": "execute_result"
    }
   ],
   "source": [
    "lista = [1,2,3,4,5,6,7,8,5,223,423,53,346]\n",
    "lista[1:6]"
   ]
  },
  {
   "cell_type": "code",
   "execution_count": 12,
   "id": "272ef733-6328-4b21-bc3c-4715d4f94321",
   "metadata": {},
   "outputs": [
    {
     "data": {
      "text/html": [
       "<div>\n",
       "<style scoped>\n",
       "    .dataframe tbody tr th:only-of-type {\n",
       "        vertical-align: middle;\n",
       "    }\n",
       "\n",
       "    .dataframe tbody tr th {\n",
       "        vertical-align: top;\n",
       "    }\n",
       "\n",
       "    .dataframe thead th {\n",
       "        text-align: right;\n",
       "    }\n",
       "</style>\n",
       "<table border=\"1\" class=\"dataframe\">\n",
       "  <thead>\n",
       "    <tr style=\"text-align: right;\">\n",
       "      <th></th>\n",
       "      <th>lunghezza_sepale</th>\n",
       "      <th>larghezza_sepale</th>\n",
       "      <th>lunghezza_petalo</th>\n",
       "      <th>larghezza_petalo</th>\n",
       "      <th>specie</th>\n",
       "    </tr>\n",
       "    <tr>\n",
       "      <th>numero_osservazione</th>\n",
       "      <th></th>\n",
       "      <th></th>\n",
       "      <th></th>\n",
       "      <th></th>\n",
       "      <th></th>\n",
       "    </tr>\n",
       "  </thead>\n",
       "  <tbody>\n",
       "    <tr>\n",
       "      <th>100</th>\n",
       "      <td>6.3</td>\n",
       "      <td>3.3</td>\n",
       "      <td>6.0</td>\n",
       "      <td>2.5</td>\n",
       "      <td>Iris-virginica</td>\n",
       "    </tr>\n",
       "    <tr>\n",
       "      <th>101</th>\n",
       "      <td>5.8</td>\n",
       "      <td>2.7</td>\n",
       "      <td>5.1</td>\n",
       "      <td>1.9</td>\n",
       "      <td>Iris-virginica</td>\n",
       "    </tr>\n",
       "    <tr>\n",
       "      <th>102</th>\n",
       "      <td>7.1</td>\n",
       "      <td>3.0</td>\n",
       "      <td>5.9</td>\n",
       "      <td>2.1</td>\n",
       "      <td>Iris-virginica</td>\n",
       "    </tr>\n",
       "    <tr>\n",
       "      <th>103</th>\n",
       "      <td>6.3</td>\n",
       "      <td>2.9</td>\n",
       "      <td>5.6</td>\n",
       "      <td>1.8</td>\n",
       "      <td>Iris-virginica</td>\n",
       "    </tr>\n",
       "    <tr>\n",
       "      <th>104</th>\n",
       "      <td>6.5</td>\n",
       "      <td>3.0</td>\n",
       "      <td>5.8</td>\n",
       "      <td>2.2</td>\n",
       "      <td>Iris-virginica</td>\n",
       "    </tr>\n",
       "  </tbody>\n",
       "</table>\n",
       "</div>"
      ],
      "text/plain": [
       "                     lunghezza_sepale  larghezza_sepale  lunghezza_petalo  \\\n",
       "numero_osservazione                                                         \n",
       "100                               6.3               3.3               6.0   \n",
       "101                               5.8               2.7               5.1   \n",
       "102                               7.1               3.0               5.9   \n",
       "103                               6.3               2.9               5.6   \n",
       "104                               6.5               3.0               5.8   \n",
       "\n",
       "                     larghezza_petalo          specie  \n",
       "numero_osservazione                                    \n",
       "100                               2.5  Iris-virginica  \n",
       "101                               1.9  Iris-virginica  \n",
       "102                               2.1  Iris-virginica  \n",
       "103                               1.8  Iris-virginica  \n",
       "104                               2.2  Iris-virginica  "
      ]
     },
     "execution_count": 12,
     "metadata": {},
     "output_type": "execute_result"
    }
   ],
   "source": [
    "iris_dataset[100:105]"
   ]
  },
  {
   "cell_type": "markdown",
   "id": "db5c2f36-e397-42a2-9bc1-46ba194d644a",
   "metadata": {},
   "source": [
    "questa cosa non si può fare: iris_dataset[100:105, \"specie\"]. Vediamo le alternative migliori:"
   ]
  },
  {
   "cell_type": "markdown",
   "id": "0e402772-fd2b-4b99-bf07-d9d3a7bc150e",
   "metadata": {},
   "source": [
    "## Accedere alle colonne"
   ]
  },
  {
   "cell_type": "markdown",
   "id": "ec950680-bc05-494a-8433-5fedd646a644",
   "metadata": {},
   "source": [
    "Modificare le colonne o aggiungere nuovi valori:"
   ]
  },
  {
   "cell_type": "code",
   "execution_count": 14,
   "id": "bb17f323-4494-467f-9a96-887b8fe05465",
   "metadata": {},
   "outputs": [
    {
     "data": {
      "text/plain": [
       "numero_osservazione\n",
       "0         Iris-setosa\n",
       "1         Iris-setosa\n",
       "2         Iris-setosa\n",
       "3         Iris-setosa\n",
       "4         Iris-setosa\n",
       "            ...      \n",
       "145    Iris-virginica\n",
       "146    Iris-virginica\n",
       "147    Iris-virginica\n",
       "148    Iris-virginica\n",
       "149    Iris-virginica\n",
       "Name: specie, Length: 150, dtype: object"
      ]
     },
     "execution_count": 14,
     "metadata": {},
     "output_type": "execute_result"
    }
   ],
   "source": [
    "iris_dataset[\"specie\"]"
   ]
  },
  {
   "cell_type": "markdown",
   "id": "d8baeb5f-4168-498a-aedc-49ca28f0726f",
   "metadata": {},
   "source": [
    "Possiamo usare la notazione degli attributi (e.g. `iris_dataset.columns`):"
   ]
  },
  {
   "cell_type": "code",
   "execution_count": 43,
   "id": "b133f718-c3c4-47bd-bff2-d2e8dd62bbc1",
   "metadata": {},
   "outputs": [
    {
     "data": {
      "text/plain": [
       "numero_osservazione\n",
       "0         Iris-setosa\n",
       "1         Iris-setosa\n",
       "2         Iris-setosa\n",
       "3         Iris-setosa\n",
       "4         Iris-setosa\n",
       "            ...      \n",
       "145    Iris-virginica\n",
       "146    Iris-virginica\n",
       "147    Iris-virginica\n",
       "148    Iris-virginica\n",
       "149    Iris-virginica\n",
       "Name: specie, Length: 150, dtype: object"
      ]
     },
     "execution_count": 43,
     "metadata": {},
     "output_type": "execute_result"
    }
   ],
   "source": [
    "iris_dataset.specie # <- solo una alla volta"
   ]
  },
  {
   "cell_type": "code",
   "execution_count": 16,
   "id": "887df483-75e1-411f-a87c-21355ddbfb3c",
   "metadata": {},
   "outputs": [
    {
     "data": {
      "text/html": [
       "<div>\n",
       "<style scoped>\n",
       "    .dataframe tbody tr th:only-of-type {\n",
       "        vertical-align: middle;\n",
       "    }\n",
       "\n",
       "    .dataframe tbody tr th {\n",
       "        vertical-align: top;\n",
       "    }\n",
       "\n",
       "    .dataframe thead th {\n",
       "        text-align: right;\n",
       "    }\n",
       "</style>\n",
       "<table border=\"1\" class=\"dataframe\">\n",
       "  <thead>\n",
       "    <tr style=\"text-align: right;\">\n",
       "      <th></th>\n",
       "      <th>lunghezza_petalo</th>\n",
       "      <th>lunghezza_sepale</th>\n",
       "    </tr>\n",
       "    <tr>\n",
       "      <th>numero_osservazione</th>\n",
       "      <th></th>\n",
       "      <th></th>\n",
       "    </tr>\n",
       "  </thead>\n",
       "  <tbody>\n",
       "    <tr>\n",
       "      <th>0</th>\n",
       "      <td>1.4</td>\n",
       "      <td>5.1</td>\n",
       "    </tr>\n",
       "    <tr>\n",
       "      <th>1</th>\n",
       "      <td>1.4</td>\n",
       "      <td>4.9</td>\n",
       "    </tr>\n",
       "    <tr>\n",
       "      <th>2</th>\n",
       "      <td>1.3</td>\n",
       "      <td>4.7</td>\n",
       "    </tr>\n",
       "    <tr>\n",
       "      <th>3</th>\n",
       "      <td>1.5</td>\n",
       "      <td>4.6</td>\n",
       "    </tr>\n",
       "    <tr>\n",
       "      <th>4</th>\n",
       "      <td>1.4</td>\n",
       "      <td>5.0</td>\n",
       "    </tr>\n",
       "    <tr>\n",
       "      <th>...</th>\n",
       "      <td>...</td>\n",
       "      <td>...</td>\n",
       "    </tr>\n",
       "    <tr>\n",
       "      <th>145</th>\n",
       "      <td>5.2</td>\n",
       "      <td>6.7</td>\n",
       "    </tr>\n",
       "    <tr>\n",
       "      <th>146</th>\n",
       "      <td>5.0</td>\n",
       "      <td>6.3</td>\n",
       "    </tr>\n",
       "    <tr>\n",
       "      <th>147</th>\n",
       "      <td>5.2</td>\n",
       "      <td>6.5</td>\n",
       "    </tr>\n",
       "    <tr>\n",
       "      <th>148</th>\n",
       "      <td>5.4</td>\n",
       "      <td>6.2</td>\n",
       "    </tr>\n",
       "    <tr>\n",
       "      <th>149</th>\n",
       "      <td>5.1</td>\n",
       "      <td>5.9</td>\n",
       "    </tr>\n",
       "  </tbody>\n",
       "</table>\n",
       "<p>150 rows × 2 columns</p>\n",
       "</div>"
      ],
      "text/plain": [
       "                     lunghezza_petalo  lunghezza_sepale\n",
       "numero_osservazione                                    \n",
       "0                                 1.4               5.1\n",
       "1                                 1.4               4.9\n",
       "2                                 1.3               4.7\n",
       "3                                 1.5               4.6\n",
       "4                                 1.4               5.0\n",
       "...                               ...               ...\n",
       "145                               5.2               6.7\n",
       "146                               5.0               6.3\n",
       "147                               5.2               6.5\n",
       "148                               5.4               6.2\n",
       "149                               5.1               5.9\n",
       "\n",
       "[150 rows x 2 columns]"
      ]
     },
     "execution_count": 16,
     "metadata": {},
     "output_type": "execute_result"
    }
   ],
   "source": [
    "iris_dataset[[\"lunghezza_petalo\", \"lunghezza_sepale\"]] # <- anche più di una"
   ]
  },
  {
   "cell_type": "markdown",
   "id": "7da03f10-ba86-49b6-8020-86c792d67945",
   "metadata": {},
   "source": [
    "## Accedere sia a righe che a colonne"
   ]
  },
  {
   "cell_type": "code",
   "execution_count": 17,
   "id": "fcbc7fba-e581-4705-a56e-c46cc75985c4",
   "metadata": {},
   "outputs": [
    {
     "data": {
      "text/plain": [
       "lunghezza_sepale            5.0\n",
       "larghezza_sepale            3.6\n",
       "lunghezza_petalo            1.4\n",
       "larghezza_petalo            0.2\n",
       "specie              Iris-setosa\n",
       "Name: 4, dtype: object"
      ]
     },
     "execution_count": 17,
     "metadata": {},
     "output_type": "execute_result"
    }
   ],
   "source": [
    "iris_dataset.loc[4]"
   ]
  },
  {
   "cell_type": "code",
   "execution_count": 18,
   "id": "9ee04b2a-4ced-4c42-b525-0ab578a12392",
   "metadata": {},
   "outputs": [
    {
     "data": {
      "text/plain": [
       "'Iris-setosa'"
      ]
     },
     "execution_count": 18,
     "metadata": {},
     "output_type": "execute_result"
    }
   ],
   "source": [
    "iris_dataset.loc[4, \"specie\"]"
   ]
  },
  {
   "cell_type": "code",
   "execution_count": 19,
   "id": "292a64f6-76a8-4435-951e-a1e77dd2aba2",
   "metadata": {},
   "outputs": [
    {
     "data": {
      "text/plain": [
       "lunghezza_petalo    1.4\n",
       "larghezza_petalo    0.2\n",
       "Name: 4, dtype: object"
      ]
     },
     "execution_count": 19,
     "metadata": {},
     "output_type": "execute_result"
    }
   ],
   "source": [
    "iris_dataset.loc[4, [\"lunghezza_petalo\", \"larghezza_petalo\"]]"
   ]
  },
  {
   "cell_type": "code",
   "execution_count": 20,
   "id": "d51b1e26-671d-4c06-af0b-17a7f5537456",
   "metadata": {},
   "outputs": [
    {
     "data": {
      "text/plain": [
       "numero_osservazione\n",
       "2    Iris-setosa\n",
       "4    Iris-setosa\n",
       "Name: specie, dtype: object"
      ]
     },
     "execution_count": 20,
     "metadata": {},
     "output_type": "execute_result"
    }
   ],
   "source": [
    "iris_dataset.loc[[2,4], \"specie\"]"
   ]
  },
  {
   "cell_type": "code",
   "execution_count": 21,
   "id": "5fd2687f-3558-413b-9627-092a5b684b7c",
   "metadata": {},
   "outputs": [
    {
     "data": {
      "text/plain": [
       "numero_osservazione\n",
       "0    Iris-setosa\n",
       "1    Iris-setosa\n",
       "2    Iris-setosa\n",
       "3    Iris-setosa\n",
       "4    Iris-setosa\n",
       "5    Iris-setosa\n",
       "6    Iris-setosa\n",
       "7    Iris-setosa\n",
       "8    Iris-setosa\n",
       "9    Iris-setosa\n",
       "Name: specie, dtype: object"
      ]
     },
     "execution_count": 21,
     "metadata": {},
     "output_type": "execute_result"
    }
   ],
   "source": [
    "iris_dataset.loc[range(10), \"specie\"]"
   ]
  },
  {
   "cell_type": "markdown",
   "id": "23b1b9f9-2d47-430a-964a-b35c83e8ce49",
   "metadata": {},
   "source": [
    "## Operazioni sulle colonne "
   ]
  },
  {
   "cell_type": "code",
   "execution_count": 22,
   "id": "b7be7304-3b97-4935-91fd-14ad5b105973",
   "metadata": {},
   "outputs": [],
   "source": [
    "iris_dataset[\"area_petalo\"] = iris_dataset[\"lunghezza_petalo\"] * iris_dataset[\"larghezza_petalo\"]"
   ]
  },
  {
   "cell_type": "code",
   "execution_count": 44,
   "id": "9b232328-8448-425d-9803-09e55c82d30c",
   "metadata": {},
   "outputs": [],
   "source": [
    "iris_dataset[\"lunghezza_petalo_per_due\"] = iris_dataset[\"lunghezza_petalo\"] * 2"
   ]
  },
  {
   "cell_type": "code",
   "execution_count": 45,
   "id": "2c1ff199-cfab-4d50-b30d-f55eaef67ba2",
   "metadata": {},
   "outputs": [
    {
     "data": {
      "text/html": [
       "<div>\n",
       "<style scoped>\n",
       "    .dataframe tbody tr th:only-of-type {\n",
       "        vertical-align: middle;\n",
       "    }\n",
       "\n",
       "    .dataframe tbody tr th {\n",
       "        vertical-align: top;\n",
       "    }\n",
       "\n",
       "    .dataframe thead th {\n",
       "        text-align: right;\n",
       "    }\n",
       "</style>\n",
       "<table border=\"1\" class=\"dataframe\">\n",
       "  <thead>\n",
       "    <tr style=\"text-align: right;\">\n",
       "      <th></th>\n",
       "      <th>lunghezza_sepale</th>\n",
       "      <th>larghezza_sepale</th>\n",
       "      <th>lunghezza_petalo</th>\n",
       "      <th>larghezza_petalo</th>\n",
       "      <th>specie</th>\n",
       "      <th>area_petalo</th>\n",
       "      <th>lunghezza_petalo_per_due</th>\n",
       "    </tr>\n",
       "    <tr>\n",
       "      <th>numero_osservazione</th>\n",
       "      <th></th>\n",
       "      <th></th>\n",
       "      <th></th>\n",
       "      <th></th>\n",
       "      <th></th>\n",
       "      <th></th>\n",
       "      <th></th>\n",
       "    </tr>\n",
       "  </thead>\n",
       "  <tbody>\n",
       "    <tr>\n",
       "      <th>0</th>\n",
       "      <td>5.1</td>\n",
       "      <td>3.5</td>\n",
       "      <td>1.4</td>\n",
       "      <td>0.2</td>\n",
       "      <td>Iris-setosa</td>\n",
       "      <td>0.28</td>\n",
       "      <td>2.8</td>\n",
       "    </tr>\n",
       "    <tr>\n",
       "      <th>1</th>\n",
       "      <td>4.9</td>\n",
       "      <td>3.0</td>\n",
       "      <td>1.4</td>\n",
       "      <td>0.2</td>\n",
       "      <td>Iris-setosa</td>\n",
       "      <td>0.28</td>\n",
       "      <td>2.8</td>\n",
       "    </tr>\n",
       "    <tr>\n",
       "      <th>2</th>\n",
       "      <td>4.7</td>\n",
       "      <td>3.2</td>\n",
       "      <td>1.3</td>\n",
       "      <td>0.2</td>\n",
       "      <td>Iris-setosa</td>\n",
       "      <td>0.26</td>\n",
       "      <td>2.6</td>\n",
       "    </tr>\n",
       "    <tr>\n",
       "      <th>3</th>\n",
       "      <td>4.6</td>\n",
       "      <td>3.1</td>\n",
       "      <td>1.5</td>\n",
       "      <td>0.2</td>\n",
       "      <td>Iris-setosa</td>\n",
       "      <td>0.30</td>\n",
       "      <td>3.0</td>\n",
       "    </tr>\n",
       "    <tr>\n",
       "      <th>4</th>\n",
       "      <td>5.0</td>\n",
       "      <td>3.6</td>\n",
       "      <td>1.4</td>\n",
       "      <td>0.2</td>\n",
       "      <td>Iris-setosa</td>\n",
       "      <td>0.28</td>\n",
       "      <td>2.8</td>\n",
       "    </tr>\n",
       "  </tbody>\n",
       "</table>\n",
       "</div>"
      ],
      "text/plain": [
       "                     lunghezza_sepale  larghezza_sepale  lunghezza_petalo  \\\n",
       "numero_osservazione                                                         \n",
       "0                                 5.1               3.5               1.4   \n",
       "1                                 4.9               3.0               1.4   \n",
       "2                                 4.7               3.2               1.3   \n",
       "3                                 4.6               3.1               1.5   \n",
       "4                                 5.0               3.6               1.4   \n",
       "\n",
       "                     larghezza_petalo       specie  area_petalo  \\\n",
       "numero_osservazione                                               \n",
       "0                                 0.2  Iris-setosa         0.28   \n",
       "1                                 0.2  Iris-setosa         0.28   \n",
       "2                                 0.2  Iris-setosa         0.26   \n",
       "3                                 0.2  Iris-setosa         0.30   \n",
       "4                                 0.2  Iris-setosa         0.28   \n",
       "\n",
       "                     lunghezza_petalo_per_due  \n",
       "numero_osservazione                            \n",
       "0                                         2.8  \n",
       "1                                         2.8  \n",
       "2                                         2.6  \n",
       "3                                         3.0  \n",
       "4                                         2.8  "
      ]
     },
     "execution_count": 45,
     "metadata": {},
     "output_type": "execute_result"
    }
   ],
   "source": [
    "iris_dataset.head()"
   ]
  },
  {
   "cell_type": "code",
   "execution_count": 51,
   "id": "60b678c8-bbfb-487e-892d-2553bc93c21c",
   "metadata": {},
   "outputs": [],
   "source": [
    "# iris_dataset.drop([\"area_petalo\", \"lunghezza_petalo_per_due\"], axis=1)\n",
    "iris_dataset.drop(columns=[\"area_petalo\", \"lunghezza_petalo_per_due\"], inplace=True)"
   ]
  },
  {
   "cell_type": "markdown",
   "id": "9cf57bb4-caa9-4f1b-b3b6-c4af2e187512",
   "metadata": {},
   "source": [
    "## Informazioni sul dataset"
   ]
  },
  {
   "cell_type": "code",
   "execution_count": 52,
   "id": "b06e29f2-086b-4fc4-931c-367b2ab977f3",
   "metadata": {},
   "outputs": [
    {
     "name": "stdout",
     "output_type": "stream",
     "text": [
      "<class 'pandas.core.frame.DataFrame'>\n",
      "RangeIndex: 150 entries, 0 to 149\n",
      "Data columns (total 5 columns):\n",
      " #   Column            Non-Null Count  Dtype  \n",
      "---  ------            --------------  -----  \n",
      " 0   lunghezza_sepale  150 non-null    float64\n",
      " 1   larghezza_sepale  150 non-null    float64\n",
      " 2   lunghezza_petalo  150 non-null    float64\n",
      " 3   larghezza_petalo  150 non-null    float64\n",
      " 4   specie            150 non-null    object \n",
      "dtypes: float64(4), object(1)\n",
      "memory usage: 6.0+ KB\n"
     ]
    }
   ],
   "source": [
    "iris_dataset.info()"
   ]
  },
  {
   "cell_type": "code",
   "execution_count": 53,
   "id": "c25b2bcf-03de-47bb-a680-ebcd2df18bc6",
   "metadata": {},
   "outputs": [],
   "source": [
    "descrizione_iris = iris_dataset.describe()"
   ]
  },
  {
   "cell_type": "code",
   "execution_count": 54,
   "id": "5b3eda29-cb47-49f0-aa09-737841ba4dae",
   "metadata": {},
   "outputs": [
    {
     "data": {
      "text/html": [
       "<div>\n",
       "<style scoped>\n",
       "    .dataframe tbody tr th:only-of-type {\n",
       "        vertical-align: middle;\n",
       "    }\n",
       "\n",
       "    .dataframe tbody tr th {\n",
       "        vertical-align: top;\n",
       "    }\n",
       "\n",
       "    .dataframe thead th {\n",
       "        text-align: right;\n",
       "    }\n",
       "</style>\n",
       "<table border=\"1\" class=\"dataframe\">\n",
       "  <thead>\n",
       "    <tr style=\"text-align: right;\">\n",
       "      <th></th>\n",
       "      <th>lunghezza_sepale</th>\n",
       "      <th>larghezza_sepale</th>\n",
       "      <th>lunghezza_petalo</th>\n",
       "      <th>larghezza_petalo</th>\n",
       "    </tr>\n",
       "  </thead>\n",
       "  <tbody>\n",
       "    <tr>\n",
       "      <th>count</th>\n",
       "      <td>150.000000</td>\n",
       "      <td>150.000000</td>\n",
       "      <td>150.000000</td>\n",
       "      <td>150.000000</td>\n",
       "    </tr>\n",
       "    <tr>\n",
       "      <th>mean</th>\n",
       "      <td>5.843333</td>\n",
       "      <td>3.054000</td>\n",
       "      <td>3.758667</td>\n",
       "      <td>1.198667</td>\n",
       "    </tr>\n",
       "    <tr>\n",
       "      <th>std</th>\n",
       "      <td>0.828066</td>\n",
       "      <td>0.433594</td>\n",
       "      <td>1.764420</td>\n",
       "      <td>0.763161</td>\n",
       "    </tr>\n",
       "    <tr>\n",
       "      <th>min</th>\n",
       "      <td>4.300000</td>\n",
       "      <td>2.000000</td>\n",
       "      <td>1.000000</td>\n",
       "      <td>0.100000</td>\n",
       "    </tr>\n",
       "    <tr>\n",
       "      <th>25%</th>\n",
       "      <td>5.100000</td>\n",
       "      <td>2.800000</td>\n",
       "      <td>1.600000</td>\n",
       "      <td>0.300000</td>\n",
       "    </tr>\n",
       "    <tr>\n",
       "      <th>50%</th>\n",
       "      <td>5.800000</td>\n",
       "      <td>3.000000</td>\n",
       "      <td>4.350000</td>\n",
       "      <td>1.300000</td>\n",
       "    </tr>\n",
       "    <tr>\n",
       "      <th>75%</th>\n",
       "      <td>6.400000</td>\n",
       "      <td>3.300000</td>\n",
       "      <td>5.100000</td>\n",
       "      <td>1.800000</td>\n",
       "    </tr>\n",
       "    <tr>\n",
       "      <th>max</th>\n",
       "      <td>7.900000</td>\n",
       "      <td>4.400000</td>\n",
       "      <td>6.900000</td>\n",
       "      <td>2.500000</td>\n",
       "    </tr>\n",
       "  </tbody>\n",
       "</table>\n",
       "</div>"
      ],
      "text/plain": [
       "       lunghezza_sepale  larghezza_sepale  lunghezza_petalo  larghezza_petalo\n",
       "count        150.000000        150.000000        150.000000        150.000000\n",
       "mean           5.843333          3.054000          3.758667          1.198667\n",
       "std            0.828066          0.433594          1.764420          0.763161\n",
       "min            4.300000          2.000000          1.000000          0.100000\n",
       "25%            5.100000          2.800000          1.600000          0.300000\n",
       "50%            5.800000          3.000000          4.350000          1.300000\n",
       "75%            6.400000          3.300000          5.100000          1.800000\n",
       "max            7.900000          4.400000          6.900000          2.500000"
      ]
     },
     "execution_count": 54,
     "metadata": {},
     "output_type": "execute_result"
    }
   ],
   "source": [
    "descrizione_iris"
   ]
  },
  {
   "cell_type": "code",
   "execution_count": 58,
   "id": "6d1b9e18-5a64-4e0d-9cde-c23574df01da",
   "metadata": {},
   "outputs": [
    {
     "data": {
      "text/html": [
       "<div>\n",
       "<style scoped>\n",
       "    .dataframe tbody tr th:only-of-type {\n",
       "        vertical-align: middle;\n",
       "    }\n",
       "\n",
       "    .dataframe tbody tr th {\n",
       "        vertical-align: top;\n",
       "    }\n",
       "\n",
       "    .dataframe thead th {\n",
       "        text-align: right;\n",
       "    }\n",
       "</style>\n",
       "<table border=\"1\" class=\"dataframe\">\n",
       "  <thead>\n",
       "    <tr style=\"text-align: right;\">\n",
       "      <th></th>\n",
       "      <th>lunghezza_sepale</th>\n",
       "      <th>larghezza_sepale</th>\n",
       "      <th>lunghezza_petalo</th>\n",
       "      <th>larghezza_petalo</th>\n",
       "    </tr>\n",
       "  </thead>\n",
       "  <tbody>\n",
       "    <tr>\n",
       "      <th>mean</th>\n",
       "      <td>5.843333</td>\n",
       "      <td>3.054000</td>\n",
       "      <td>3.758667</td>\n",
       "      <td>1.198667</td>\n",
       "    </tr>\n",
       "    <tr>\n",
       "      <th>std</th>\n",
       "      <td>0.828066</td>\n",
       "      <td>0.433594</td>\n",
       "      <td>1.764420</td>\n",
       "      <td>0.763161</td>\n",
       "    </tr>\n",
       "    <tr>\n",
       "      <th>min</th>\n",
       "      <td>4.300000</td>\n",
       "      <td>2.000000</td>\n",
       "      <td>1.000000</td>\n",
       "      <td>0.100000</td>\n",
       "    </tr>\n",
       "    <tr>\n",
       "      <th>25%</th>\n",
       "      <td>5.100000</td>\n",
       "      <td>2.800000</td>\n",
       "      <td>1.600000</td>\n",
       "      <td>0.300000</td>\n",
       "    </tr>\n",
       "    <tr>\n",
       "      <th>50%</th>\n",
       "      <td>5.800000</td>\n",
       "      <td>3.000000</td>\n",
       "      <td>4.350000</td>\n",
       "      <td>1.300000</td>\n",
       "    </tr>\n",
       "    <tr>\n",
       "      <th>75%</th>\n",
       "      <td>6.400000</td>\n",
       "      <td>3.300000</td>\n",
       "      <td>5.100000</td>\n",
       "      <td>1.800000</td>\n",
       "    </tr>\n",
       "    <tr>\n",
       "      <th>max</th>\n",
       "      <td>7.900000</td>\n",
       "      <td>4.400000</td>\n",
       "      <td>6.900000</td>\n",
       "      <td>2.500000</td>\n",
       "    </tr>\n",
       "  </tbody>\n",
       "</table>\n",
       "</div>"
      ],
      "text/plain": [
       "      lunghezza_sepale  larghezza_sepale  lunghezza_petalo  larghezza_petalo\n",
       "mean          5.843333          3.054000          3.758667          1.198667\n",
       "std           0.828066          0.433594          1.764420          0.763161\n",
       "min           4.300000          2.000000          1.000000          0.100000\n",
       "25%           5.100000          2.800000          1.600000          0.300000\n",
       "50%           5.800000          3.000000          4.350000          1.300000\n",
       "75%           6.400000          3.300000          5.100000          1.800000\n",
       "max           7.900000          4.400000          6.900000          2.500000"
      ]
     },
     "execution_count": 58,
     "metadata": {},
     "output_type": "execute_result"
    }
   ],
   "source": [
    "descrizione_iris.drop(index=\"count\") # esempio di drop delle righe"
   ]
  },
  {
   "cell_type": "code",
   "execution_count": 27,
   "id": "0f4c2f1a-c5df-4aae-9c80-86adbd5a115a",
   "metadata": {},
   "outputs": [
    {
     "data": {
      "text/html": [
       "<div>\n",
       "<style scoped>\n",
       "    .dataframe tbody tr th:only-of-type {\n",
       "        vertical-align: middle;\n",
       "    }\n",
       "\n",
       "    .dataframe tbody tr th {\n",
       "        vertical-align: top;\n",
       "    }\n",
       "\n",
       "    .dataframe thead th {\n",
       "        text-align: right;\n",
       "    }\n",
       "</style>\n",
       "<table border=\"1\" class=\"dataframe\">\n",
       "  <thead>\n",
       "    <tr style=\"text-align: right;\">\n",
       "      <th></th>\n",
       "      <th>lunghezza_sepale</th>\n",
       "      <th>larghezza_sepale</th>\n",
       "      <th>lunghezza_petalo</th>\n",
       "      <th>larghezza_petalo</th>\n",
       "      <th>area_petalo</th>\n",
       "    </tr>\n",
       "  </thead>\n",
       "  <tbody>\n",
       "    <tr>\n",
       "      <th>count</th>\n",
       "      <td>150.0</td>\n",
       "      <td>150.0</td>\n",
       "      <td>150.0</td>\n",
       "      <td>150.0</td>\n",
       "      <td>150.0</td>\n",
       "    </tr>\n",
       "  </tbody>\n",
       "</table>\n",
       "</div>"
      ],
      "text/plain": [
       "       lunghezza_sepale  larghezza_sepale  lunghezza_petalo  larghezza_petalo  \\\n",
       "count             150.0             150.0             150.0             150.0   \n",
       "\n",
       "       area_petalo  \n",
       "count        150.0  "
      ]
     },
     "execution_count": 27,
     "metadata": {},
     "output_type": "execute_result"
    }
   ],
   "source": [
    "descrizione_iris[0:1]"
   ]
  },
  {
   "cell_type": "code",
   "execution_count": 28,
   "id": "dc1cb50a-785a-4fdf-a9b8-09292da9887d",
   "metadata": {},
   "outputs": [
    {
     "data": {
      "text/plain": [
       "count    150.000000\n",
       "mean       3.758667\n",
       "std        1.764420\n",
       "min        1.000000\n",
       "25%        1.600000\n",
       "50%        4.350000\n",
       "75%        5.100000\n",
       "max        6.900000\n",
       "Name: lunghezza_petalo, dtype: float64"
      ]
     },
     "execution_count": 28,
     "metadata": {},
     "output_type": "execute_result"
    }
   ],
   "source": [
    "descrizione_iris.lunghezza_petalo"
   ]
  },
  {
   "cell_type": "code",
   "execution_count": 29,
   "id": "939e007c-4f77-4e30-9320-31ae5e625b59",
   "metadata": {},
   "outputs": [
    {
     "data": {
      "text/plain": [
       "count    150.000000\n",
       "mean       3.758667\n",
       "std        1.764420\n",
       "min        1.000000\n",
       "25%        1.600000\n",
       "50%        4.350000\n",
       "75%        5.100000\n",
       "max        6.900000\n",
       "Name: lunghezza_petalo, dtype: float64"
      ]
     },
     "execution_count": 29,
     "metadata": {},
     "output_type": "execute_result"
    }
   ],
   "source": [
    "descrizione_iris[\"lunghezza_petalo\"]"
   ]
  },
  {
   "cell_type": "code",
   "execution_count": 30,
   "id": "6a2e2daf-d5bd-49d2-ade4-b86f35425944",
   "metadata": {},
   "outputs": [
    {
     "data": {
      "text/plain": [
       "lunghezza_petalo    3.758667\n",
       "larghezza_petalo    1.198667\n",
       "Name: mean, dtype: float64"
      ]
     },
     "execution_count": 30,
     "metadata": {},
     "output_type": "execute_result"
    }
   ],
   "source": [
    "descrizione_iris.loc[\"mean\", [\"lunghezza_petalo\", \"larghezza_petalo\"]]"
   ]
  },
  {
   "cell_type": "markdown",
   "id": "b17f9485-7b6d-4f08-8082-589e1e6ef2df",
   "metadata": {},
   "source": [
    "### Tre modi equivalenti"
   ]
  },
  {
   "cell_type": "code",
   "execution_count": 31,
   "id": "8301619a-ce4d-4d01-92df-c74762562385",
   "metadata": {},
   "outputs": [
    {
     "data": {
      "text/plain": [
       "3.758666666666666"
      ]
     },
     "execution_count": 31,
     "metadata": {},
     "output_type": "execute_result"
    }
   ],
   "source": [
    "descrizione_iris.loc[\"mean\", \"lunghezza_petalo\"]"
   ]
  },
  {
   "cell_type": "code",
   "execution_count": 32,
   "id": "4a033f13-328b-4334-aa1d-763991c0b013",
   "metadata": {},
   "outputs": [
    {
     "data": {
      "text/plain": [
       "3.758666666666666"
      ]
     },
     "execution_count": 32,
     "metadata": {},
     "output_type": "execute_result"
    }
   ],
   "source": [
    "descrizione_iris[\"lunghezza_petalo\"].loc[\"mean\"]"
   ]
  },
  {
   "cell_type": "code",
   "execution_count": 33,
   "id": "31c5f4f9-0356-42f7-a9b9-450196c09adc",
   "metadata": {},
   "outputs": [
    {
     "data": {
      "text/plain": [
       "3.758666666666666"
      ]
     },
     "execution_count": 33,
     "metadata": {},
     "output_type": "execute_result"
    }
   ],
   "source": [
    "descrizione_iris.lunghezza_petalo.loc[\"mean\"]"
   ]
  },
  {
   "cell_type": "markdown",
   "id": "09a6e7d4-95c3-47b0-a614-c5b33e548125",
   "metadata": {},
   "source": [
    "## Indicizzazione più \"granulare\""
   ]
  },
  {
   "cell_type": "code",
   "execution_count": 34,
   "id": "5d8fe4c9-7562-497e-a925-7e296ed7d3b6",
   "metadata": {},
   "outputs": [
    {
     "data": {
      "text/html": [
       "<div>\n",
       "<style scoped>\n",
       "    .dataframe tbody tr th:only-of-type {\n",
       "        vertical-align: middle;\n",
       "    }\n",
       "\n",
       "    .dataframe tbody tr th {\n",
       "        vertical-align: top;\n",
       "    }\n",
       "\n",
       "    .dataframe thead th {\n",
       "        text-align: right;\n",
       "    }\n",
       "</style>\n",
       "<table border=\"1\" class=\"dataframe\">\n",
       "  <thead>\n",
       "    <tr style=\"text-align: right;\">\n",
       "      <th></th>\n",
       "      <th>lunghezza_sepale</th>\n",
       "      <th>larghezza_sepale</th>\n",
       "      <th>lunghezza_petalo</th>\n",
       "      <th>larghezza_petalo</th>\n",
       "      <th>specie</th>\n",
       "      <th>area_petalo</th>\n",
       "    </tr>\n",
       "    <tr>\n",
       "      <th>numero_osservazione</th>\n",
       "      <th></th>\n",
       "      <th></th>\n",
       "      <th></th>\n",
       "      <th></th>\n",
       "      <th></th>\n",
       "      <th></th>\n",
       "    </tr>\n",
       "  </thead>\n",
       "  <tbody>\n",
       "    <tr>\n",
       "      <th>50</th>\n",
       "      <td>7.0</td>\n",
       "      <td>3.2</td>\n",
       "      <td>4.7</td>\n",
       "      <td>1.4</td>\n",
       "      <td>Iris-versicolor</td>\n",
       "      <td>6.58</td>\n",
       "    </tr>\n",
       "    <tr>\n",
       "      <th>51</th>\n",
       "      <td>6.4</td>\n",
       "      <td>3.2</td>\n",
       "      <td>4.5</td>\n",
       "      <td>1.5</td>\n",
       "      <td>Iris-versicolor</td>\n",
       "      <td>6.75</td>\n",
       "    </tr>\n",
       "    <tr>\n",
       "      <th>52</th>\n",
       "      <td>6.9</td>\n",
       "      <td>3.1</td>\n",
       "      <td>4.9</td>\n",
       "      <td>1.5</td>\n",
       "      <td>Iris-versicolor</td>\n",
       "      <td>7.35</td>\n",
       "    </tr>\n",
       "    <tr>\n",
       "      <th>53</th>\n",
       "      <td>5.5</td>\n",
       "      <td>2.3</td>\n",
       "      <td>4.0</td>\n",
       "      <td>1.3</td>\n",
       "      <td>Iris-versicolor</td>\n",
       "      <td>5.20</td>\n",
       "    </tr>\n",
       "    <tr>\n",
       "      <th>54</th>\n",
       "      <td>6.5</td>\n",
       "      <td>2.8</td>\n",
       "      <td>4.6</td>\n",
       "      <td>1.5</td>\n",
       "      <td>Iris-versicolor</td>\n",
       "      <td>6.90</td>\n",
       "    </tr>\n",
       "    <tr>\n",
       "      <th>...</th>\n",
       "      <td>...</td>\n",
       "      <td>...</td>\n",
       "      <td>...</td>\n",
       "      <td>...</td>\n",
       "      <td>...</td>\n",
       "      <td>...</td>\n",
       "    </tr>\n",
       "    <tr>\n",
       "      <th>145</th>\n",
       "      <td>6.7</td>\n",
       "      <td>3.0</td>\n",
       "      <td>5.2</td>\n",
       "      <td>2.3</td>\n",
       "      <td>Iris-virginica</td>\n",
       "      <td>11.96</td>\n",
       "    </tr>\n",
       "    <tr>\n",
       "      <th>146</th>\n",
       "      <td>6.3</td>\n",
       "      <td>2.5</td>\n",
       "      <td>5.0</td>\n",
       "      <td>1.9</td>\n",
       "      <td>Iris-virginica</td>\n",
       "      <td>9.50</td>\n",
       "    </tr>\n",
       "    <tr>\n",
       "      <th>147</th>\n",
       "      <td>6.5</td>\n",
       "      <td>3.0</td>\n",
       "      <td>5.2</td>\n",
       "      <td>2.0</td>\n",
       "      <td>Iris-virginica</td>\n",
       "      <td>10.40</td>\n",
       "    </tr>\n",
       "    <tr>\n",
       "      <th>148</th>\n",
       "      <td>6.2</td>\n",
       "      <td>3.4</td>\n",
       "      <td>5.4</td>\n",
       "      <td>2.3</td>\n",
       "      <td>Iris-virginica</td>\n",
       "      <td>12.42</td>\n",
       "    </tr>\n",
       "    <tr>\n",
       "      <th>149</th>\n",
       "      <td>5.9</td>\n",
       "      <td>3.0</td>\n",
       "      <td>5.1</td>\n",
       "      <td>1.8</td>\n",
       "      <td>Iris-virginica</td>\n",
       "      <td>9.18</td>\n",
       "    </tr>\n",
       "  </tbody>\n",
       "</table>\n",
       "<p>93 rows × 6 columns</p>\n",
       "</div>"
      ],
      "text/plain": [
       "                     lunghezza_sepale  larghezza_sepale  lunghezza_petalo  \\\n",
       "numero_osservazione                                                         \n",
       "50                                7.0               3.2               4.7   \n",
       "51                                6.4               3.2               4.5   \n",
       "52                                6.9               3.1               4.9   \n",
       "53                                5.5               2.3               4.0   \n",
       "54                                6.5               2.8               4.6   \n",
       "...                               ...               ...               ...   \n",
       "145                               6.7               3.0               5.2   \n",
       "146                               6.3               2.5               5.0   \n",
       "147                               6.5               3.0               5.2   \n",
       "148                               6.2               3.4               5.4   \n",
       "149                               5.9               3.0               5.1   \n",
       "\n",
       "                     larghezza_petalo           specie  area_petalo  \n",
       "numero_osservazione                                                  \n",
       "50                                1.4  Iris-versicolor         6.58  \n",
       "51                                1.5  Iris-versicolor         6.75  \n",
       "52                                1.5  Iris-versicolor         7.35  \n",
       "53                                1.3  Iris-versicolor         5.20  \n",
       "54                                1.5  Iris-versicolor         6.90  \n",
       "...                               ...              ...          ...  \n",
       "145                               2.3   Iris-virginica        11.96  \n",
       "146                               1.9   Iris-virginica         9.50  \n",
       "147                               2.0   Iris-virginica        10.40  \n",
       "148                               2.3   Iris-virginica        12.42  \n",
       "149                               1.8   Iris-virginica         9.18  \n",
       "\n",
       "[93 rows x 6 columns]"
      ]
     },
     "execution_count": 34,
     "metadata": {},
     "output_type": "execute_result"
    }
   ],
   "source": [
    "iris_dataset.loc[iris_dataset[\"lunghezza_petalo\"] > 3.758666666666666]"
   ]
  },
  {
   "cell_type": "code",
   "execution_count": 35,
   "id": "3f2faa7f-969d-4052-8741-9e28147b911b",
   "metadata": {},
   "outputs": [
    {
     "data": {
      "text/plain": [
       "3.758666666666666"
      ]
     },
     "execution_count": 35,
     "metadata": {},
     "output_type": "execute_result"
    }
   ],
   "source": [
    "lunghezza_media_petalo = iris_dataset[\"lunghezza_petalo\"].mean()\n",
    "lunghezza_media_petalo"
   ]
  },
  {
   "cell_type": "code",
   "execution_count": 36,
   "id": "4585e7e7-f8e7-4a8a-94ea-13678c36e1c4",
   "metadata": {},
   "outputs": [
    {
     "data": {
      "text/html": [
       "<div>\n",
       "<style scoped>\n",
       "    .dataframe tbody tr th:only-of-type {\n",
       "        vertical-align: middle;\n",
       "    }\n",
       "\n",
       "    .dataframe tbody tr th {\n",
       "        vertical-align: top;\n",
       "    }\n",
       "\n",
       "    .dataframe thead th {\n",
       "        text-align: right;\n",
       "    }\n",
       "</style>\n",
       "<table border=\"1\" class=\"dataframe\">\n",
       "  <thead>\n",
       "    <tr style=\"text-align: right;\">\n",
       "      <th></th>\n",
       "      <th>lunghezza_sepale</th>\n",
       "      <th>larghezza_sepale</th>\n",
       "      <th>lunghezza_petalo</th>\n",
       "      <th>larghezza_petalo</th>\n",
       "      <th>specie</th>\n",
       "      <th>area_petalo</th>\n",
       "    </tr>\n",
       "    <tr>\n",
       "      <th>numero_osservazione</th>\n",
       "      <th></th>\n",
       "      <th></th>\n",
       "      <th></th>\n",
       "      <th></th>\n",
       "      <th></th>\n",
       "      <th></th>\n",
       "    </tr>\n",
       "  </thead>\n",
       "  <tbody>\n",
       "    <tr>\n",
       "      <th>50</th>\n",
       "      <td>7.0</td>\n",
       "      <td>3.2</td>\n",
       "      <td>4.7</td>\n",
       "      <td>1.4</td>\n",
       "      <td>Iris-versicolor</td>\n",
       "      <td>6.58</td>\n",
       "    </tr>\n",
       "    <tr>\n",
       "      <th>51</th>\n",
       "      <td>6.4</td>\n",
       "      <td>3.2</td>\n",
       "      <td>4.5</td>\n",
       "      <td>1.5</td>\n",
       "      <td>Iris-versicolor</td>\n",
       "      <td>6.75</td>\n",
       "    </tr>\n",
       "    <tr>\n",
       "      <th>52</th>\n",
       "      <td>6.9</td>\n",
       "      <td>3.1</td>\n",
       "      <td>4.9</td>\n",
       "      <td>1.5</td>\n",
       "      <td>Iris-versicolor</td>\n",
       "      <td>7.35</td>\n",
       "    </tr>\n",
       "    <tr>\n",
       "      <th>53</th>\n",
       "      <td>5.5</td>\n",
       "      <td>2.3</td>\n",
       "      <td>4.0</td>\n",
       "      <td>1.3</td>\n",
       "      <td>Iris-versicolor</td>\n",
       "      <td>5.20</td>\n",
       "    </tr>\n",
       "    <tr>\n",
       "      <th>54</th>\n",
       "      <td>6.5</td>\n",
       "      <td>2.8</td>\n",
       "      <td>4.6</td>\n",
       "      <td>1.5</td>\n",
       "      <td>Iris-versicolor</td>\n",
       "      <td>6.90</td>\n",
       "    </tr>\n",
       "    <tr>\n",
       "      <th>...</th>\n",
       "      <td>...</td>\n",
       "      <td>...</td>\n",
       "      <td>...</td>\n",
       "      <td>...</td>\n",
       "      <td>...</td>\n",
       "      <td>...</td>\n",
       "    </tr>\n",
       "    <tr>\n",
       "      <th>145</th>\n",
       "      <td>6.7</td>\n",
       "      <td>3.0</td>\n",
       "      <td>5.2</td>\n",
       "      <td>2.3</td>\n",
       "      <td>Iris-virginica</td>\n",
       "      <td>11.96</td>\n",
       "    </tr>\n",
       "    <tr>\n",
       "      <th>146</th>\n",
       "      <td>6.3</td>\n",
       "      <td>2.5</td>\n",
       "      <td>5.0</td>\n",
       "      <td>1.9</td>\n",
       "      <td>Iris-virginica</td>\n",
       "      <td>9.50</td>\n",
       "    </tr>\n",
       "    <tr>\n",
       "      <th>147</th>\n",
       "      <td>6.5</td>\n",
       "      <td>3.0</td>\n",
       "      <td>5.2</td>\n",
       "      <td>2.0</td>\n",
       "      <td>Iris-virginica</td>\n",
       "      <td>10.40</td>\n",
       "    </tr>\n",
       "    <tr>\n",
       "      <th>148</th>\n",
       "      <td>6.2</td>\n",
       "      <td>3.4</td>\n",
       "      <td>5.4</td>\n",
       "      <td>2.3</td>\n",
       "      <td>Iris-virginica</td>\n",
       "      <td>12.42</td>\n",
       "    </tr>\n",
       "    <tr>\n",
       "      <th>149</th>\n",
       "      <td>5.9</td>\n",
       "      <td>3.0</td>\n",
       "      <td>5.1</td>\n",
       "      <td>1.8</td>\n",
       "      <td>Iris-virginica</td>\n",
       "      <td>9.18</td>\n",
       "    </tr>\n",
       "  </tbody>\n",
       "</table>\n",
       "<p>93 rows × 6 columns</p>\n",
       "</div>"
      ],
      "text/plain": [
       "                     lunghezza_sepale  larghezza_sepale  lunghezza_petalo  \\\n",
       "numero_osservazione                                                         \n",
       "50                                7.0               3.2               4.7   \n",
       "51                                6.4               3.2               4.5   \n",
       "52                                6.9               3.1               4.9   \n",
       "53                                5.5               2.3               4.0   \n",
       "54                                6.5               2.8               4.6   \n",
       "...                               ...               ...               ...   \n",
       "145                               6.7               3.0               5.2   \n",
       "146                               6.3               2.5               5.0   \n",
       "147                               6.5               3.0               5.2   \n",
       "148                               6.2               3.4               5.4   \n",
       "149                               5.9               3.0               5.1   \n",
       "\n",
       "                     larghezza_petalo           specie  area_petalo  \n",
       "numero_osservazione                                                  \n",
       "50                                1.4  Iris-versicolor         6.58  \n",
       "51                                1.5  Iris-versicolor         6.75  \n",
       "52                                1.5  Iris-versicolor         7.35  \n",
       "53                                1.3  Iris-versicolor         5.20  \n",
       "54                                1.5  Iris-versicolor         6.90  \n",
       "...                               ...              ...          ...  \n",
       "145                               2.3   Iris-virginica        11.96  \n",
       "146                               1.9   Iris-virginica         9.50  \n",
       "147                               2.0   Iris-virginica        10.40  \n",
       "148                               2.3   Iris-virginica        12.42  \n",
       "149                               1.8   Iris-virginica         9.18  \n",
       "\n",
       "[93 rows x 6 columns]"
      ]
     },
     "execution_count": 36,
     "metadata": {},
     "output_type": "execute_result"
    }
   ],
   "source": [
    "iris_dataset.loc[iris_dataset[\"lunghezza_petalo\"] > lunghezza_media_petalo]"
   ]
  },
  {
   "cell_type": "code",
   "execution_count": 59,
   "id": "c9fedf6a-f154-4101-8be7-d1d0f0862e7f",
   "metadata": {},
   "outputs": [],
   "source": [
    "versicolor_above_average = (\n",
    "    iris_dataset\n",
    "    .loc[iris_dataset[\"specie\"] == \"Iris-versicolor\"]\n",
    "    .loc[iris_dataset[\"lunghezza_petalo\"] > lunghezza_media_petalo]\n",
    ")"
   ]
  },
  {
   "cell_type": "code",
   "execution_count": 60,
   "id": "7fe927ae-962a-4443-9fef-c12d43eaa3cc",
   "metadata": {},
   "outputs": [
    {
     "data": {
      "text/html": [
       "<div>\n",
       "<style scoped>\n",
       "    .dataframe tbody tr th:only-of-type {\n",
       "        vertical-align: middle;\n",
       "    }\n",
       "\n",
       "    .dataframe tbody tr th {\n",
       "        vertical-align: top;\n",
       "    }\n",
       "\n",
       "    .dataframe thead th {\n",
       "        text-align: right;\n",
       "    }\n",
       "</style>\n",
       "<table border=\"1\" class=\"dataframe\">\n",
       "  <thead>\n",
       "    <tr style=\"text-align: right;\">\n",
       "      <th></th>\n",
       "      <th>lunghezza_sepale</th>\n",
       "      <th>larghezza_sepale</th>\n",
       "      <th>lunghezza_petalo</th>\n",
       "      <th>larghezza_petalo</th>\n",
       "      <th>specie</th>\n",
       "    </tr>\n",
       "    <tr>\n",
       "      <th>numero_osservazione</th>\n",
       "      <th></th>\n",
       "      <th></th>\n",
       "      <th></th>\n",
       "      <th></th>\n",
       "      <th></th>\n",
       "    </tr>\n",
       "  </thead>\n",
       "  <tbody>\n",
       "    <tr>\n",
       "      <th>50</th>\n",
       "      <td>7.0</td>\n",
       "      <td>3.2</td>\n",
       "      <td>4.7</td>\n",
       "      <td>1.4</td>\n",
       "      <td>Iris-versicolor</td>\n",
       "    </tr>\n",
       "    <tr>\n",
       "      <th>51</th>\n",
       "      <td>6.4</td>\n",
       "      <td>3.2</td>\n",
       "      <td>4.5</td>\n",
       "      <td>1.5</td>\n",
       "      <td>Iris-versicolor</td>\n",
       "    </tr>\n",
       "    <tr>\n",
       "      <th>52</th>\n",
       "      <td>6.9</td>\n",
       "      <td>3.1</td>\n",
       "      <td>4.9</td>\n",
       "      <td>1.5</td>\n",
       "      <td>Iris-versicolor</td>\n",
       "    </tr>\n",
       "    <tr>\n",
       "      <th>53</th>\n",
       "      <td>5.5</td>\n",
       "      <td>2.3</td>\n",
       "      <td>4.0</td>\n",
       "      <td>1.3</td>\n",
       "      <td>Iris-versicolor</td>\n",
       "    </tr>\n",
       "    <tr>\n",
       "      <th>54</th>\n",
       "      <td>6.5</td>\n",
       "      <td>2.8</td>\n",
       "      <td>4.6</td>\n",
       "      <td>1.5</td>\n",
       "      <td>Iris-versicolor</td>\n",
       "    </tr>\n",
       "  </tbody>\n",
       "</table>\n",
       "</div>"
      ],
      "text/plain": [
       "                     lunghezza_sepale  larghezza_sepale  lunghezza_petalo  \\\n",
       "numero_osservazione                                                         \n",
       "50                                7.0               3.2               4.7   \n",
       "51                                6.4               3.2               4.5   \n",
       "52                                6.9               3.1               4.9   \n",
       "53                                5.5               2.3               4.0   \n",
       "54                                6.5               2.8               4.6   \n",
       "\n",
       "                     larghezza_petalo           specie  \n",
       "numero_osservazione                                     \n",
       "50                                1.4  Iris-versicolor  \n",
       "51                                1.5  Iris-versicolor  \n",
       "52                                1.5  Iris-versicolor  \n",
       "53                                1.3  Iris-versicolor  \n",
       "54                                1.5  Iris-versicolor  "
      ]
     },
     "execution_count": 60,
     "metadata": {},
     "output_type": "execute_result"
    }
   ],
   "source": [
    "versicolor_above_average.head()"
   ]
  },
  {
   "cell_type": "markdown",
   "id": "c39bbe52-e307-48a1-aec0-d2d7a919c657",
   "metadata": {},
   "source": [
    "## Aggregazione / GroupBy"
   ]
  },
  {
   "cell_type": "code",
   "execution_count": 66,
   "id": "e0de8b4b-81d2-4537-9887-dfb8345fd3a2",
   "metadata": {},
   "outputs": [
    {
     "data": {
      "text/html": [
       "<div>\n",
       "<style scoped>\n",
       "    .dataframe tbody tr th:only-of-type {\n",
       "        vertical-align: middle;\n",
       "    }\n",
       "\n",
       "    .dataframe tbody tr th {\n",
       "        vertical-align: top;\n",
       "    }\n",
       "\n",
       "    .dataframe thead th {\n",
       "        text-align: right;\n",
       "    }\n",
       "</style>\n",
       "<table border=\"1\" class=\"dataframe\">\n",
       "  <thead>\n",
       "    <tr style=\"text-align: right;\">\n",
       "      <th></th>\n",
       "      <th>lunghezza_sepale</th>\n",
       "      <th>larghezza_sepale</th>\n",
       "      <th>lunghezza_petalo</th>\n",
       "      <th>larghezza_petalo</th>\n",
       "    </tr>\n",
       "    <tr>\n",
       "      <th>specie</th>\n",
       "      <th></th>\n",
       "      <th></th>\n",
       "      <th></th>\n",
       "      <th></th>\n",
       "    </tr>\n",
       "  </thead>\n",
       "  <tbody>\n",
       "    <tr>\n",
       "      <th>Iris-setosa</th>\n",
       "      <td>5.006</td>\n",
       "      <td>3.418</td>\n",
       "      <td>1.464</td>\n",
       "      <td>0.244</td>\n",
       "    </tr>\n",
       "    <tr>\n",
       "      <th>Iris-versicolor</th>\n",
       "      <td>5.936</td>\n",
       "      <td>2.770</td>\n",
       "      <td>4.260</td>\n",
       "      <td>1.326</td>\n",
       "    </tr>\n",
       "    <tr>\n",
       "      <th>Iris-virginica</th>\n",
       "      <td>6.588</td>\n",
       "      <td>2.974</td>\n",
       "      <td>5.552</td>\n",
       "      <td>2.026</td>\n",
       "    </tr>\n",
       "  </tbody>\n",
       "</table>\n",
       "</div>"
      ],
      "text/plain": [
       "                 lunghezza_sepale  larghezza_sepale  lunghezza_petalo  \\\n",
       "specie                                                                  \n",
       "Iris-setosa                 5.006             3.418             1.464   \n",
       "Iris-versicolor             5.936             2.770             4.260   \n",
       "Iris-virginica              6.588             2.974             5.552   \n",
       "\n",
       "                 larghezza_petalo  \n",
       "specie                             \n",
       "Iris-setosa                 0.244  \n",
       "Iris-versicolor             1.326  \n",
       "Iris-virginica              2.026  "
      ]
     },
     "execution_count": 66,
     "metadata": {},
     "output_type": "execute_result"
    }
   ],
   "source": [
    "iris_mean_by_species = iris_dataset.groupby(\"specie\").mean()\n",
    "iris_mean_by_species"
   ]
  },
  {
   "cell_type": "code",
   "execution_count": 67,
   "id": "e6862bd8-1595-4b0d-aa4f-f7305df28d8b",
   "metadata": {},
   "outputs": [
    {
     "data": {
      "text/html": [
       "<div>\n",
       "<style scoped>\n",
       "    .dataframe tbody tr th:only-of-type {\n",
       "        vertical-align: middle;\n",
       "    }\n",
       "\n",
       "    .dataframe tbody tr th {\n",
       "        vertical-align: top;\n",
       "    }\n",
       "\n",
       "    .dataframe thead th {\n",
       "        text-align: right;\n",
       "    }\n",
       "</style>\n",
       "<table border=\"1\" class=\"dataframe\">\n",
       "  <thead>\n",
       "    <tr style=\"text-align: right;\">\n",
       "      <th></th>\n",
       "      <th>lunghezza_sepale</th>\n",
       "      <th>larghezza_sepale</th>\n",
       "      <th>lunghezza_petalo</th>\n",
       "      <th>larghezza_petalo</th>\n",
       "    </tr>\n",
       "    <tr>\n",
       "      <th>specie</th>\n",
       "      <th></th>\n",
       "      <th></th>\n",
       "      <th></th>\n",
       "      <th></th>\n",
       "    </tr>\n",
       "  </thead>\n",
       "  <tbody>\n",
       "    <tr>\n",
       "      <th>Iris-setosa</th>\n",
       "      <td>0.352490</td>\n",
       "      <td>0.381024</td>\n",
       "      <td>0.173511</td>\n",
       "      <td>0.107210</td>\n",
       "    </tr>\n",
       "    <tr>\n",
       "      <th>Iris-versicolor</th>\n",
       "      <td>0.516171</td>\n",
       "      <td>0.313798</td>\n",
       "      <td>0.469911</td>\n",
       "      <td>0.197753</td>\n",
       "    </tr>\n",
       "    <tr>\n",
       "      <th>Iris-virginica</th>\n",
       "      <td>0.635880</td>\n",
       "      <td>0.322497</td>\n",
       "      <td>0.551895</td>\n",
       "      <td>0.274650</td>\n",
       "    </tr>\n",
       "  </tbody>\n",
       "</table>\n",
       "</div>"
      ],
      "text/plain": [
       "                 lunghezza_sepale  larghezza_sepale  lunghezza_petalo  \\\n",
       "specie                                                                  \n",
       "Iris-setosa              0.352490          0.381024          0.173511   \n",
       "Iris-versicolor          0.516171          0.313798          0.469911   \n",
       "Iris-virginica           0.635880          0.322497          0.551895   \n",
       "\n",
       "                 larghezza_petalo  \n",
       "specie                             \n",
       "Iris-setosa              0.107210  \n",
       "Iris-versicolor          0.197753  \n",
       "Iris-virginica           0.274650  "
      ]
     },
     "execution_count": 67,
     "metadata": {},
     "output_type": "execute_result"
    }
   ],
   "source": [
    "iris_std_by_species = iris_dataset.groupby(\"specie\").std()\n",
    "iris_std_by_species"
   ]
  },
  {
   "cell_type": "markdown",
   "id": "d49ca6d1-6621-4f04-8516-ea7a4ced3ad7",
   "metadata": {},
   "source": [
    "## Join"
   ]
  },
  {
   "cell_type": "code",
   "execution_count": 71,
   "id": "3984ab58-20a3-436d-a597-aa6c052b9283",
   "metadata": {},
   "outputs": [
    {
     "data": {
      "text/html": [
       "<div>\n",
       "<style scoped>\n",
       "    .dataframe tbody tr th:only-of-type {\n",
       "        vertical-align: middle;\n",
       "    }\n",
       "\n",
       "    .dataframe tbody tr th {\n",
       "        vertical-align: top;\n",
       "    }\n",
       "\n",
       "    .dataframe thead th {\n",
       "        text-align: right;\n",
       "    }\n",
       "</style>\n",
       "<table border=\"1\" class=\"dataframe\">\n",
       "  <thead>\n",
       "    <tr style=\"text-align: right;\">\n",
       "      <th></th>\n",
       "      <th>lunghezza_sepale_mean</th>\n",
       "      <th>lunghezza_sepale_std</th>\n",
       "    </tr>\n",
       "    <tr>\n",
       "      <th>specie</th>\n",
       "      <th></th>\n",
       "      <th></th>\n",
       "    </tr>\n",
       "  </thead>\n",
       "  <tbody>\n",
       "    <tr>\n",
       "      <th>Iris-setosa</th>\n",
       "      <td>5.006</td>\n",
       "      <td>0.352490</td>\n",
       "    </tr>\n",
       "    <tr>\n",
       "      <th>Iris-versicolor</th>\n",
       "      <td>5.936</td>\n",
       "      <td>0.516171</td>\n",
       "    </tr>\n",
       "    <tr>\n",
       "      <th>Iris-virginica</th>\n",
       "      <td>6.588</td>\n",
       "      <td>0.635880</td>\n",
       "    </tr>\n",
       "  </tbody>\n",
       "</table>\n",
       "</div>"
      ],
      "text/plain": [
       "                 lunghezza_sepale_mean  lunghezza_sepale_std\n",
       "specie                                                      \n",
       "Iris-setosa                      5.006              0.352490\n",
       "Iris-versicolor                  5.936              0.516171\n",
       "Iris-virginica                   6.588              0.635880"
      ]
     },
     "execution_count": 71,
     "metadata": {},
     "output_type": "execute_result"
    }
   ],
   "source": [
    "iris_mean_by_species.join(iris_std_by_species, lsuffix=\"_mean\", rsuffix=\"_std\")[[\"lunghezza_sepale_mean\", \"lunghezza_sepale_std\"]]"
   ]
  }
 ],
 "metadata": {
  "kernelspec": {
   "display_name": "K2 Dashboard (3.9)",
   "language": "python",
   "name": "k2-dashboard"
  },
  "language_info": {
   "codemirror_mode": {
    "name": "ipython",
    "version": 3
   },
   "file_extension": ".py",
   "mimetype": "text/x-python",
   "name": "python",
   "nbconvert_exporter": "python",
   "pygments_lexer": "ipython3",
   "version": "3.9.9"
  }
 },
 "nbformat": 4,
 "nbformat_minor": 5
}
