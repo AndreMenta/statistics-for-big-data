{
 "cells": [
  {
   "cell_type": "markdown",
   "id": "a01ff7ab",
   "metadata": {},
   "source": [
    "Come abbiamo visto con numpy:\n",
    "- Togliere il # per chi non ha pandas\n",
    "- Importare pandas"
   ]
  },
  {
   "cell_type": "code",
   "execution_count": 1,
   "id": "2b366bef",
   "metadata": {},
   "outputs": [
    {
     "data": {
      "text/plain": [
       "'1.4.2'"
      ]
     },
     "execution_count": 1,
     "metadata": {},
     "output_type": "execute_result"
    }
   ],
   "source": [
    "# !pip install pandas\n",
    "import pandas as pd\n",
    "\n",
    "pd.__version__"
   ]
  }
 ],
 "metadata": {
  "kernelspec": {
   "display_name": "K2 Dashboard (3.9)",
   "language": "python",
   "name": "k2-dashboard"
  },
  "language_info": {
   "codemirror_mode": {
    "name": "ipython",
    "version": 3
   },
   "file_extension": ".py",
   "mimetype": "text/x-python",
   "name": "python",
   "nbconvert_exporter": "python",
   "pygments_lexer": "ipython3",
   "version": "3.9.9"
  }
 },
 "nbformat": 4,
 "nbformat_minor": 5
}
