{
 "cells": [
  {
   "cell_type": "code",
   "execution_count": 33,
   "id": "cf06f931-18a7-44fc-ba32-4593d645af34",
   "metadata": {},
   "outputs": [
    {
     "name": "stdin",
     "output_type": "stream",
     "text": [
      "Scrivi il nome della persona che vuoi salutare:  dsafs\n"
     ]
    },
    {
     "name": "stdout",
     "output_type": "stream",
     "text": [
      "Ciao Dsafs!\n"
     ]
    }
   ],
   "source": [
    "\"\"\"\n",
    "Scrivere una funzione che prenda come input il nome di una persona e la saluti\n",
    "\"\"\"\n",
    "\n",
    "def greet_user(user = \"stranger\"):\n",
    "    print(f\"Ciao {user}!\")\n",
    "    \n",
    "\n",
    "def greet_user_capitalised(user):\n",
    "    print(f\"Ciao {user.capitalize()}!\")\n",
    "    \n",
    "username = input(\"Scrivi il nome della persona che vuoi salutare: \")\n",
    "\n",
    "greet_user_capitalised(username)"
   ]
  },
  {
   "cell_type": "code",
   "execution_count": 3,
   "id": "fa894c6c-7c2a-42e2-9e33-064ea85d942f",
   "metadata": {},
   "outputs": [
    {
     "name": "stdin",
     "output_type": "stream",
     "text": [
      "Scrivi il nome della persona che vuoi urlare:  sedano\n"
     ]
    },
    {
     "name": "stdout",
     "output_type": "stream",
     "text": [
      "CIAO SEDANO!\n"
     ]
    }
   ],
   "source": [
    "\"\"\"\n",
    "Definire una funzione che chiameremo urla,\n",
    "che prende come input un nome e lo stampa tutto maiuscolo\n",
    "\"\"\"\n",
    "\n",
    "def shout(user):\n",
    "    print(f\"CIAO {user.upper()}!\")\n",
    "    \n",
    "username = input(\"Scrivi il nome della persona che vuoi urlare: \")\n",
    "\n",
    "shout(username)"
   ]
  },
  {
   "cell_type": "code",
   "execution_count": 20,
   "id": "031bcd73-ee62-45ed-bfad-98970239019d",
   "metadata": {},
   "outputs": [
    {
     "name": "stdin",
     "output_type": "stream",
     "text": [
      "Scrivi un nome:  CaRlO\n"
     ]
    },
    {
     "name": "stdout",
     "output_type": "stream",
     "text": [
      "cARLO!\n"
     ]
    }
   ],
   "source": [
    "def random_greet(user):\n",
    "    \"\"\"Definire una funzione che chiameremo urla,\n",
    "    che prende come input un nome e lo stampa tutto maiuscolo,\n",
    "    tranne la prima lettera\n",
    "\n",
    "    esempio:\n",
    "    giorgio -> gIORGIO\n",
    "    gIORGIO -> gIORGIO\n",
    "    GIORGIO -> gIORGIO\n",
    "    \"\"\"\n",
    "\n",
    "    new_username = user.capitalize().swapcase()\n",
    "    \n",
    "    print(f\"{new_username}!\")\n",
    "    \n",
    "username = input(\"Scrivi un nome: \")\n",
    "\n",
    "random_greet(username)"
   ]
  },
  {
   "cell_type": "code",
   "execution_count": 19,
   "id": "9bdc72e7-0eae-4cb5-bdba-d01a7bbf4736",
   "metadata": {},
   "outputs": [],
   "source": [
    "def is_positive(number):\n",
    "    \"\"\"Verifica che il numero sia positivo\"\"\"\n",
    "    "
   ]
  }
 ],
 "metadata": {
  "kernelspec": {
   "display_name": "Python 3 (ipykernel)",
   "language": "python",
   "name": "python3"
  },
  "language_info": {
   "codemirror_mode": {
    "name": "ipython",
    "version": 3
   },
   "file_extension": ".py",
   "mimetype": "text/x-python",
   "name": "python",
   "nbconvert_exporter": "python",
   "pygments_lexer": "ipython3",
   "version": "3.10.2"
  }
 },
 "nbformat": 4,
 "nbformat_minor": 5
}
