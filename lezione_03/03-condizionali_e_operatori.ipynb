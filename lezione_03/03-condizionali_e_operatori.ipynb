{
 "cells": [
  {
   "cell_type": "markdown",
   "id": "b57f9097-5a0b-4be6-8546-5b3e5043a5ad",
   "metadata": {},
   "source": [
    "# Numeri e condizionali\n",
    "\n",
    "## Piano della lezione\n",
    "\n",
    "Gli argomenti che vedremo saranno:\n",
    "\n",
    "* conditional statements / if clauses\n",
    "* numeri (interi e float)\n",
    "* ancora su funzioni: return statements\n",
    "\n",
    "## Condizionali \n",
    "\n",
    "### Blueprint dei condizionali \n",
    "\n",
    "Gli `if statements` sono costituiti da una `clause` (la parte che viene dopo l'`if`) e un corpo, o `body`.\n",
    "Attenzione: il corpo **deve** essere indentato (con un `tab`, di quattro spazi), altrimenti Python \"solleverà\" (in inglese, `raise`)\n",
    "un `SyntaxError`. Altra nota: dopo la clause vanno i `:`.\n",
    "\n",
    "Se la condizione è vera, il corpo viene eseguito. Altrimenti niente, e l'interprete esegue il codice che viene dopo.\n",
    "\n",
    "Se la condizione è falsa, si può specificare un corpo alternativo con `else:`. Se ci sono più condizioni alternative, si elencano con `elif [condizione]:`.\n",
    "\n",
    "In ogni caso, bisogna pensare a ogni blocco di `if-else` come a un \"fiume\" o un \"ramo di un albero\": si può percorrere una sola strada,\n",
    "nel senso che **viene eseguita la prima condizione che risulta vera, e viene eseguita sempre e comunque il corpo di un solo \"ramo\" dell'if statement**.\n",
    "\n",
    "```\n",
    "if [condizione]:\n",
    "    fai_qualcosa()\n",
    "\n",
    "if [condizione_1]:\n",
    "    fai_qualcosa()\n",
    "else:\n",
    "    fai_altro()\n",
    "\n",
    "if [condizione_1]:\n",
    "    fai_qualcosa()\n",
    "elif [condizione_2]  # else if\n",
    "    fai_altro()\n",
    "... # as many as you want\n",
    "else:\n",
    "    fai_altro_ancora()\n",
    "```"
   ]
  },
  {
   "cell_type": "markdown",
   "id": "b872c391-3e6f-44c2-87e8-df6205e1d034",
   "metadata": {},
   "source": [
    "### Valori di verità e operatori logici\n",
    "\n",
    "Il `body` di un if statement è un'**espressione** che viene **valutata** con un valore di verità, cioè vero o falso. In Python, vero e falso si scrivono `True` e `False`: occhio che la prima lettera è maiuscola.\n",
    "\n",
    "In altre parole, se scriviamo:\n",
    "\n",
    "```\n",
    "if True:\n",
    "    do_something()\n",
    "```\n",
    "\n",
    "il corpo verrà sempre eseguito perché la clausola è sempre vera. Viceversa con `False`.\n",
    "\n",
    "Gli operatori logici sono:\n",
    "\n",
    "1. `==`, che viene usato per verificare se due variabili hanno lo stesso contenuto. **Attenzione: `=` viene usato per l'assegnazione delle variabili (`a = 12`), mentre `==` per confrontare due variabili (`a == 12` avrà come output `True`)**.\n",
    "2. `!=` è il contrario di `==`\n",
    "3. `>` e `>=`\n",
    "4. `<` e `<=`.\n",
    "\n",
    "Qualche esempio:"
   ]
  },
  {
   "cell_type": "code",
   "execution_count": 1,
   "id": "c52dc559-6f85-4fe2-841f-5dace3783092",
   "metadata": {},
   "outputs": [
    {
     "name": "stdout",
     "output_type": "stream",
     "text": [
      "False\n",
      "True\n",
      "False\n",
      "True\n",
      "False\n",
      "True\n"
     ]
    }
   ],
   "source": [
    "a = 15\n",
    "b = 17\n",
    "\n",
    "print(a == b)\n",
    "print(a != b)\n",
    "\n",
    "print(a > b)\n",
    "print(a < b)\n",
    "\n",
    "print(a >= b)\n",
    "print(a <= b)"
   ]
  },
  {
   "cell_type": "markdown",
   "id": "729c041b-b8d2-4c85-9326-0ca2f6645399",
   "metadata": {},
   "source": [
    "Non confondete `=` e `==`!"
   ]
  },
  {
   "cell_type": "code",
   "execution_count": 2,
   "id": "2d6cc990-9115-490d-8376-a8aa3ded75ce",
   "metadata": {},
   "outputs": [
    {
     "name": "stdout",
     "output_type": "stream",
     "text": [
      "a = 15 b = 17\n",
      "a è uguale a b? False\n",
      "a = 17 b = 17\n",
      "a è uguale a b? True\n"
     ]
    }
   ],
   "source": [
    "# nella tastiera italiana\n",
    "# shift + alt + é = {\n",
    "# shift + alt + + = }\n",
    "\n",
    "print(f\"a = {a}\", f\"b = {b}\")\n",
    "print(f\"a è uguale a b? {a == b}\") # equivalente, ma preferite la f-string: `print(\"a è uguale a b?\", str(a == b))`\n",
    "\n",
    "a = b\n",
    "\n",
    "print(f\"a = {a}\", f\"b = {b}\")\n",
    "print(f\"a è uguale a b? {a == b}\")"
   ]
  },
  {
   "cell_type": "markdown",
   "id": "2721455d-44af-4225-8470-2356db2c3870",
   "metadata": {},
   "source": [
    "Guardate i print statement: prima `a` vale 15 e `b` 17.\n",
    "Se scriviamo `a == b` stiamo chiedendo a Python di valutare se le variabili `a` e `b` hanno lo stesso contenuto.\n",
    "Pensiamo alle variabili come delle *scatole* che contengono un valore: la scatola chiamata `a` contiene 15, quella `b` 17. Quando scriviamo `a = b` siamo dicendo che \"mettiamo dentro `a` il contenuto di `b`\", cioè **quello che si ottiene valutando l'espressione contenuta a destra dell'uguale**. In questo caso, `b` è semplicemente 17, quindi `a` diventa 17."
   ]
  },
  {
   "cell_type": "markdown",
   "id": "e284cbfb-00b7-4cf4-bc8f-eddde8ada27b",
   "metadata": {},
   "source": [
    "#### Operatori logici con le stringhe `str`\n",
    "\n",
    "Si possono anche comparare le stringhe: `a == b` sarà vera quando entrambe le stringhe sono identiche."
   ]
  },
  {
   "cell_type": "code",
   "execution_count": 3,
   "id": "26c88da2-ee88-4a31-9372-d1c4573062be",
   "metadata": {},
   "outputs": [
    {
     "name": "stdout",
     "output_type": "stream",
     "text": [
      "False\n"
     ]
    }
   ],
   "source": [
    "a = \"cipolla\"\n",
    "b = \"sedano\"\n",
    "c = \"sedano\"\n",
    "\n",
    "print(a == b)\n"
   ]
  },
  {
   "cell_type": "markdown",
   "id": "3fdf0f79-688b-47b8-b4c4-3b14eb789e15",
   "metadata": {},
   "source": [
    "Con `>` e `<` bisogna interpretare `>` come \"viene dopo\" e `<` come \"viene prima\"."
   ]
  },
  {
   "cell_type": "code",
   "execution_count": 4,
   "id": "3bb07f03-5720-48c9-a60e-eaff756a4a2f",
   "metadata": {},
   "outputs": [
    {
     "name": "stdout",
     "output_type": "stream",
     "text": [
      "True\n",
      "True\n"
     ]
    }
   ],
   "source": [
    "print(\"a\" < \"b\") # vera perché la lettera a viene prima di b\n",
    "print(\"aaaa\" < \"aaaz\")"
   ]
  },
  {
   "cell_type": "markdown",
   "id": "9d03dc75-3278-476a-9d4c-481eb8613c0b",
   "metadata": {},
   "source": [
    "Si possono confrontare anche stringhe e interi:"
   ]
  },
  {
   "cell_type": "code",
   "execution_count": 5,
   "id": "6c7fba92-386c-4f44-9d53-d0e96f57cbf5",
   "metadata": {},
   "outputs": [
    {
     "name": "stdout",
     "output_type": "stream",
     "text": [
      "False\n"
     ]
    }
   ],
   "source": [
    "c = \"12\"\n",
    "d = \"17\"\n",
    "\n",
    "print(a == c)"
   ]
  },
  {
   "cell_type": "markdown",
   "id": "3d2dcddf-84d4-40fc-9a08-742daf105c77",
   "metadata": {},
   "source": [
    "## If statements"
   ]
  },
  {
   "cell_type": "code",
   "execution_count": 6,
   "id": "32eea473-f2ac-44e8-8dab-c0a78dd624c4",
   "metadata": {},
   "outputs": [
    {
     "name": "stdin",
     "output_type": "stream",
     "text": [
      "Metti un numero:  12\n"
     ]
    },
    {
     "data": {
      "text/plain": [
       "True"
      ]
     },
     "execution_count": 6,
     "metadata": {},
     "output_type": "execute_result"
    }
   ],
   "source": [
    "def verifica_pari_o_dispari(numero):\n",
    "    \"\"\"Dato un numero, ritorna vero se è pari e se è dispari ritorna falso.\"\"\"\n",
    "    \n",
    "    if numero % 2 == 0:\n",
    "        return True\n",
    "    else:\n",
    "        return Falses\n",
    "\n",
    "\n",
    "user_input = input(\"Metti un numero: \")\n",
    "# print(type(user_input))\n",
    "verifica_pari_o_dispari(int(user_input))"
   ]
  },
  {
   "cell_type": "markdown",
   "id": "e7c68390-a994-46a6-81f1-407c2d68c296",
   "metadata": {},
   "source": [
    "## Esercizio"
   ]
  },
  {
   "cell_type": "code",
   "execution_count": 7,
   "id": "b0d9de3a-4db2-4f17-b9c1-1f94e31df532",
   "metadata": {},
   "outputs": [
    {
     "name": "stdin",
     "output_type": "stream",
     "text": [
      "Inserisci un numero:  12\n"
     ]
    },
    {
     "name": "stdout",
     "output_type": "stream",
     "text": [
      "20736\n"
     ]
    }
   ],
   "source": [
    "def eleva_al_quadrato_se_pari(numero):\n",
    "    \"\"\"Se il numero è pari, lo eleva al quadrato, altrimenti restituisce il numero\"\"\"\n",
    "    \n",
    "    if numero % 2 == 0:\n",
    "        return numero ** 2\n",
    "    else:\n",
    "        return numero\n",
    "    \n",
    "\n",
    "user_input = int(input(\"Inserisci un numero: \"))\n",
    "\n",
    "user_input_al_quadrato = eleva_al_quadrato_se_pari(user_input)\n",
    "\n",
    "print(eleva_al_quadrato_se_pari(user_input_al_quadrato))"
   ]
  },
  {
   "cell_type": "markdown",
   "id": "95900cad-fea9-4772-aeb9-f75a6faf70ed",
   "metadata": {},
   "source": [
    "Un'applicazione di questo concetto che useremo molto in futuro:\n",
    "\n",
    "```\n",
    "import pandas as pd\n",
    "\n",
    "dati = pd.read_csv(...)\n",
    "\n",
    "...\n",
    "\n",
    "model = LogisticRegression(dati)\n",
    "```"
   ]
  },
  {
   "cell_type": "markdown",
   "id": "fe756aac-d3f9-4669-a7b9-5dd62ba12b77",
   "metadata": {},
   "source": [
    "Scrivere una funzione che esegua le seguenti istruzioni:\n",
    "\n",
    "*replacing any number divisible by three with the word \"fizz\", and any number divisible by five with the word \"buzz\".*\n"
   ]
  },
  {
   "cell_type": "code",
   "execution_count": 8,
   "id": "57ed8092-9df9-4c21-a47d-b1d5922fc91a",
   "metadata": {},
   "outputs": [],
   "source": [
    "def fizz_buzz(number):\n",
    "\n",
    "    if number % 3 == 0 and number % 5 == 0:\n",
    "        return \"fizzbuzz\"\n",
    "    elif number % 3 == 0:\n",
    "        return \"fizz\"\n",
    "    elif number % 5 == 0:\n",
    "        return \"buzz\"\n",
    "    else:\n",
    "        return number\n",
    "\n",
    "    \n",
    "\n",
    "def get_user_integer_input():\n",
    "    return int(input(\"Inserisci un numero: \"))"
   ]
  },
  {
   "cell_type": "code",
   "execution_count": 9,
   "id": "50f0cea7-5666-4346-8c1f-2019114b9206",
   "metadata": {},
   "outputs": [
    {
     "name": "stdin",
     "output_type": "stream",
     "text": [
      "Inserisci un numero:  12\n"
     ]
    },
    {
     "name": "stdout",
     "output_type": "stream",
     "text": [
      "fizz\n"
     ]
    }
   ],
   "source": [
    "user_input = get_user_integer_input()\n",
    "result = fizz_buzz(user_input)\n",
    "\n",
    "print(result)"
   ]
  },
  {
   "cell_type": "markdown",
   "id": "ae25caa8-8058-44cf-bdd2-04010c8cdd93",
   "metadata": {},
   "source": [
    "## Anteprima della prossima lezione\n",
    "\n",
    "* for e while loop\n",
    "* sequences (liste e tuple)\n",
    "* iterables"
   ]
  },
  {
   "cell_type": "code",
   "execution_count": 10,
   "id": "640be102-50a2-40f1-b134-ccb5ecf84af4",
   "metadata": {},
   "outputs": [
    {
     "name": "stdout",
     "output_type": "stream",
     "text": [
      "fizzbuzz\n",
      "1\n",
      "2\n",
      "fizz\n",
      "4\n",
      "buzz\n",
      "fizz\n",
      "7\n",
      "8\n",
      "fizz\n",
      "buzz\n",
      "11\n",
      "fizz\n",
      "13\n",
      "14\n",
      "fizzbuzz\n",
      "16\n",
      "17\n",
      "fizz\n",
      "19\n",
      "buzz\n",
      "fizz\n",
      "22\n",
      "23\n",
      "fizz\n",
      "buzz\n",
      "26\n",
      "fizz\n",
      "28\n",
      "29\n",
      "fizzbuzz\n",
      "31\n",
      "32\n",
      "fizz\n",
      "34\n",
      "buzz\n",
      "fizz\n",
      "37\n",
      "38\n",
      "fizz\n",
      "buzz\n",
      "41\n",
      "fizz\n",
      "43\n",
      "44\n",
      "fizzbuzz\n",
      "46\n",
      "47\n",
      "fizz\n",
      "49\n",
      "buzz\n",
      "fizz\n",
      "52\n",
      "53\n",
      "fizz\n",
      "buzz\n",
      "56\n",
      "fizz\n",
      "58\n",
      "59\n",
      "fizzbuzz\n",
      "61\n",
      "62\n",
      "fizz\n",
      "64\n",
      "buzz\n",
      "fizz\n",
      "67\n",
      "68\n",
      "fizz\n",
      "buzz\n",
      "71\n",
      "fizz\n",
      "73\n",
      "74\n",
      "fizzbuzz\n",
      "76\n",
      "77\n",
      "fizz\n",
      "79\n",
      "buzz\n",
      "fizz\n",
      "82\n",
      "83\n",
      "fizz\n",
      "buzz\n",
      "86\n",
      "fizz\n",
      "88\n",
      "89\n",
      "fizzbuzz\n",
      "91\n",
      "92\n",
      "fizz\n",
      "94\n",
      "buzz\n",
      "fizz\n",
      "97\n",
      "98\n",
      "fizz\n"
     ]
    }
   ],
   "source": [
    "for number in range(0, 100):\n",
    "    print(fizz_buzz(number))"
   ]
  }
 ],
 "metadata": {
  "kernelspec": {
   "display_name": "Python 3 (ipykernel)",
   "language": "python",
   "name": "python3"
  },
  "language_info": {
   "codemirror_mode": {
    "name": "ipython",
    "version": 3
   },
   "file_extension": ".py",
   "mimetype": "text/x-python",
   "name": "python",
   "nbconvert_exporter": "python",
   "pygments_lexer": "ipython3",
   "version": "3.10.4"
  }
 },
 "nbformat": 4,
 "nbformat_minor": 5
}
