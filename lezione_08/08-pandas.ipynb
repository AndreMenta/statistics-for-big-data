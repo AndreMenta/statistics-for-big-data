{
 "cells": [
  {
   "cell_type": "markdown",
   "id": "8fec3b10-7c90-4995-b0b2-1102af7e0f6d",
   "metadata": {},
   "source": [
    "# Manipoolare i dati con pandas\n",
    "\n",
    "* Installare [pandas](https://pandas.pydata.org/)\n",
    "* Leggere i dati da un .csv o un url\n",
    "* Visualizzare il dataset\n",
    "* Accedere agli elementi - righe e colonne\n",
    "* Creare nuove colonne\n",
    "* Estrarre informazioni a colpo d'occhio sui dati\n",
    "* Eliminare righe o colonne\n",
    "* Raggruppare con GroupBy\n",
    "* Unire dataset diversi con le join\n",
    "\n",
    "## Documentazione e references\n",
    "\n",
    "* [Corso introduttivo a pandas](https://www.kaggle.com/learn/pandas) su Kaggle\n",
    "* [Tutorial introduttivi](https://pandas.pydata.org/docs/getting_started/index.html#getting-started) di pandas\n",
    "* [Documentazione](https://pandas.pydata.org/docs/reference/index.html#api) di pandas\n",
    "* Open access book scritto dall'[inventore di pandas](https://wesmckinney.com/book/), Wes McKinney\n",
    "* [Video tutorial un po' vecchi ma ben fatti](https://www.youtube.com/watch?v=ZyhVh-qRZPA&list=PL-osiE80TeTsWmV9i9c58mdDCSskIFdDS) per vedere le cose passo passo.\n",
    "\n",
    "## Installare e importare pandas\n",
    "\n",
    "Come abbiamo visto con numpy:\n",
    "- Togliere il # per chi non ha pandas\n",
    "- Importare pandas"
   ]
  },
  {
   "cell_type": "code",
   "execution_count": 1,
   "id": "2b366bef",
   "metadata": {},
   "outputs": [
    {
     "name": "stdout",
     "output_type": "stream",
     "text": [
      "1.4.2\n"
     ]
    }
   ],
   "source": [
    "# !pip install pandas\n",
    "import pandas as pd\n",
    "\n",
    "print(pd.__version__)"
   ]
  },
  {
   "cell_type": "markdown",
   "id": "c8e19418-24b9-4e62-b3ac-0d6ea94f8e84",
   "metadata": {},
   "source": [
    "## Caricare un dataset"
   ]
  },
  {
   "cell_type": "code",
   "execution_count": 2,
   "id": "b3ef4377-a3f1-422c-8965-c11b327278d0",
   "metadata": {},
   "outputs": [],
   "source": [
    "iris_dataset = pd.read_csv(\"https://raw.githubusercontent.com/baggiponte/statistics-for-big-data/main/lezione_08/iris.csv\")"
   ]
  },
  {
   "cell_type": "markdown",
   "id": "709a5c96-5039-4d03-a837-bfa71871ac90",
   "metadata": {},
   "source": [
    "## Visualizzare un dataset"
   ]
  },
  {
   "cell_type": "code",
   "execution_count": 3,
   "id": "89a652ab-5d41-436c-9892-f12890ba98dd",
   "metadata": {},
   "outputs": [
    {
     "data": {
      "text/html": [
       "<div>\n",
       "<style scoped>\n",
       "    .dataframe tbody tr th:only-of-type {\n",
       "        vertical-align: middle;\n",
       "    }\n",
       "\n",
       "    .dataframe tbody tr th {\n",
       "        vertical-align: top;\n",
       "    }\n",
       "\n",
       "    .dataframe thead th {\n",
       "        text-align: right;\n",
       "    }\n",
       "</style>\n",
       "<table border=\"1\" class=\"dataframe\">\n",
       "  <thead>\n",
       "    <tr style=\"text-align: right;\">\n",
       "      <th></th>\n",
       "      <th>sepal_length</th>\n",
       "      <th>sepal_width</th>\n",
       "      <th>petal_length</th>\n",
       "      <th>petal_width</th>\n",
       "      <th>species</th>\n",
       "    </tr>\n",
       "  </thead>\n",
       "  <tbody>\n",
       "    <tr>\n",
       "      <th>0</th>\n",
       "      <td>5.1</td>\n",
       "      <td>3.5</td>\n",
       "      <td>1.4</td>\n",
       "      <td>0.2</td>\n",
       "      <td>Iris-setosa</td>\n",
       "    </tr>\n",
       "    <tr>\n",
       "      <th>1</th>\n",
       "      <td>4.9</td>\n",
       "      <td>3.0</td>\n",
       "      <td>1.4</td>\n",
       "      <td>0.2</td>\n",
       "      <td>Iris-setosa</td>\n",
       "    </tr>\n",
       "    <tr>\n",
       "      <th>2</th>\n",
       "      <td>4.7</td>\n",
       "      <td>3.2</td>\n",
       "      <td>1.3</td>\n",
       "      <td>0.2</td>\n",
       "      <td>Iris-setosa</td>\n",
       "    </tr>\n",
       "    <tr>\n",
       "      <th>3</th>\n",
       "      <td>4.6</td>\n",
       "      <td>3.1</td>\n",
       "      <td>1.5</td>\n",
       "      <td>0.2</td>\n",
       "      <td>Iris-setosa</td>\n",
       "    </tr>\n",
       "    <tr>\n",
       "      <th>4</th>\n",
       "      <td>5.0</td>\n",
       "      <td>3.6</td>\n",
       "      <td>1.4</td>\n",
       "      <td>0.2</td>\n",
       "      <td>Iris-setosa</td>\n",
       "    </tr>\n",
       "  </tbody>\n",
       "</table>\n",
       "</div>"
      ],
      "text/plain": [
       "   sepal_length  sepal_width  petal_length  petal_width      species\n",
       "0           5.1          3.5           1.4          0.2  Iris-setosa\n",
       "1           4.9          3.0           1.4          0.2  Iris-setosa\n",
       "2           4.7          3.2           1.3          0.2  Iris-setosa\n",
       "3           4.6          3.1           1.5          0.2  Iris-setosa\n",
       "4           5.0          3.6           1.4          0.2  Iris-setosa"
      ]
     },
     "execution_count": 3,
     "metadata": {},
     "output_type": "execute_result"
    }
   ],
   "source": [
    "iris_dataset.head(2 + 3)  # <- qualunque cosa che ritorni un numero. Defaults to 5"
   ]
  },
  {
   "cell_type": "code",
   "execution_count": 4,
   "id": "71ab3c28-f687-4a98-a7e3-cd30076cf0ac",
   "metadata": {},
   "outputs": [
    {
     "data": {
      "text/html": [
       "<div>\n",
       "<style scoped>\n",
       "    .dataframe tbody tr th:only-of-type {\n",
       "        vertical-align: middle;\n",
       "    }\n",
       "\n",
       "    .dataframe tbody tr th {\n",
       "        vertical-align: top;\n",
       "    }\n",
       "\n",
       "    .dataframe thead th {\n",
       "        text-align: right;\n",
       "    }\n",
       "</style>\n",
       "<table border=\"1\" class=\"dataframe\">\n",
       "  <thead>\n",
       "    <tr style=\"text-align: right;\">\n",
       "      <th></th>\n",
       "      <th>sepal_length</th>\n",
       "      <th>sepal_width</th>\n",
       "      <th>petal_length</th>\n",
       "      <th>petal_width</th>\n",
       "      <th>species</th>\n",
       "    </tr>\n",
       "  </thead>\n",
       "  <tbody>\n",
       "    <tr>\n",
       "      <th>145</th>\n",
       "      <td>6.7</td>\n",
       "      <td>3.0</td>\n",
       "      <td>5.2</td>\n",
       "      <td>2.3</td>\n",
       "      <td>Iris-virginica</td>\n",
       "    </tr>\n",
       "    <tr>\n",
       "      <th>146</th>\n",
       "      <td>6.3</td>\n",
       "      <td>2.5</td>\n",
       "      <td>5.0</td>\n",
       "      <td>1.9</td>\n",
       "      <td>Iris-virginica</td>\n",
       "    </tr>\n",
       "    <tr>\n",
       "      <th>147</th>\n",
       "      <td>6.5</td>\n",
       "      <td>3.0</td>\n",
       "      <td>5.2</td>\n",
       "      <td>2.0</td>\n",
       "      <td>Iris-virginica</td>\n",
       "    </tr>\n",
       "    <tr>\n",
       "      <th>148</th>\n",
       "      <td>6.2</td>\n",
       "      <td>3.4</td>\n",
       "      <td>5.4</td>\n",
       "      <td>2.3</td>\n",
       "      <td>Iris-virginica</td>\n",
       "    </tr>\n",
       "    <tr>\n",
       "      <th>149</th>\n",
       "      <td>5.9</td>\n",
       "      <td>3.0</td>\n",
       "      <td>5.1</td>\n",
       "      <td>1.8</td>\n",
       "      <td>Iris-virginica</td>\n",
       "    </tr>\n",
       "  </tbody>\n",
       "</table>\n",
       "</div>"
      ],
      "text/plain": [
       "     sepal_length  sepal_width  petal_length  petal_width         species\n",
       "145           6.7          3.0           5.2          2.3  Iris-virginica\n",
       "146           6.3          2.5           5.0          1.9  Iris-virginica\n",
       "147           6.5          3.0           5.2          2.0  Iris-virginica\n",
       "148           6.2          3.4           5.4          2.3  Iris-virginica\n",
       "149           5.9          3.0           5.1          1.8  Iris-virginica"
      ]
     },
     "execution_count": 4,
     "metadata": {},
     "output_type": "execute_result"
    }
   ],
   "source": [
    "iris_dataset.tail()"
   ]
  },
  {
   "cell_type": "markdown",
   "id": "7f52d0cb-7f3f-4add-ab66-fcc4dfa2c4d9",
   "metadata": {},
   "source": [
    "## Modificare indici e nomi delle colonne"
   ]
  },
  {
   "cell_type": "code",
   "execution_count": 5,
   "id": "0017606c-6d30-4112-9739-574a1ea37120",
   "metadata": {},
   "outputs": [
    {
     "data": {
      "text/plain": [
       "Index(['sepal_length', 'sepal_width', 'petal_length', 'petal_width',\n",
       "       'species'],\n",
       "      dtype='object')"
      ]
     },
     "execution_count": 5,
     "metadata": {},
     "output_type": "execute_result"
    }
   ],
   "source": [
    "iris_dataset.columns"
   ]
  },
  {
   "cell_type": "markdown",
   "id": "3d430646-9cb6-4e8f-969b-6e063acb1a33",
   "metadata": {},
   "source": [
    "Vedere quante colonne ci sono:"
   ]
  },
  {
   "cell_type": "code",
   "execution_count": 6,
   "id": "f2bbb4b2-c6ee-48e5-bcf8-1a0e9d673ba1",
   "metadata": {},
   "outputs": [
    {
     "data": {
      "text/plain": [
       "(5,)"
      ]
     },
     "execution_count": 6,
     "metadata": {},
     "output_type": "execute_result"
    }
   ],
   "source": [
    "iris_dataset.columns.shape"
   ]
  },
  {
   "cell_type": "markdown",
   "id": "b9a050b9-6ed6-4fb6-8600-7f7eb6311859",
   "metadata": {},
   "source": [
    "Sovrascrivere i nomi delle colonne:"
   ]
  },
  {
   "cell_type": "code",
   "execution_count": 7,
   "id": "4b496ead-9d06-49bd-a3da-6c556559c160",
   "metadata": {},
   "outputs": [],
   "source": [
    "iris_dataset.columns = [\"lunghezza_sepale\", \"larghezza_sepale\", \"lunghezza_petalo\", \"larghezza_petalo\", \"specie\"]"
   ]
  },
  {
   "cell_type": "code",
   "execution_count": 8,
   "id": "5a26bb63-641b-4282-a977-59586e7e3db3",
   "metadata": {},
   "outputs": [
    {
     "data": {
      "text/html": [
       "<div>\n",
       "<style scoped>\n",
       "    .dataframe tbody tr th:only-of-type {\n",
       "        vertical-align: middle;\n",
       "    }\n",
       "\n",
       "    .dataframe tbody tr th {\n",
       "        vertical-align: top;\n",
       "    }\n",
       "\n",
       "    .dataframe thead th {\n",
       "        text-align: right;\n",
       "    }\n",
       "</style>\n",
       "<table border=\"1\" class=\"dataframe\">\n",
       "  <thead>\n",
       "    <tr style=\"text-align: right;\">\n",
       "      <th></th>\n",
       "      <th>lunghezza_sepale</th>\n",
       "      <th>larghezza_sepale</th>\n",
       "      <th>lunghezza_petalo</th>\n",
       "      <th>larghezza_petalo</th>\n",
       "      <th>specie</th>\n",
       "    </tr>\n",
       "  </thead>\n",
       "  <tbody>\n",
       "    <tr>\n",
       "      <th>0</th>\n",
       "      <td>5.1</td>\n",
       "      <td>3.5</td>\n",
       "      <td>1.4</td>\n",
       "      <td>0.2</td>\n",
       "      <td>Iris-setosa</td>\n",
       "    </tr>\n",
       "    <tr>\n",
       "      <th>1</th>\n",
       "      <td>4.9</td>\n",
       "      <td>3.0</td>\n",
       "      <td>1.4</td>\n",
       "      <td>0.2</td>\n",
       "      <td>Iris-setosa</td>\n",
       "    </tr>\n",
       "    <tr>\n",
       "      <th>2</th>\n",
       "      <td>4.7</td>\n",
       "      <td>3.2</td>\n",
       "      <td>1.3</td>\n",
       "      <td>0.2</td>\n",
       "      <td>Iris-setosa</td>\n",
       "    </tr>\n",
       "    <tr>\n",
       "      <th>3</th>\n",
       "      <td>4.6</td>\n",
       "      <td>3.1</td>\n",
       "      <td>1.5</td>\n",
       "      <td>0.2</td>\n",
       "      <td>Iris-setosa</td>\n",
       "    </tr>\n",
       "    <tr>\n",
       "      <th>4</th>\n",
       "      <td>5.0</td>\n",
       "      <td>3.6</td>\n",
       "      <td>1.4</td>\n",
       "      <td>0.2</td>\n",
       "      <td>Iris-setosa</td>\n",
       "    </tr>\n",
       "  </tbody>\n",
       "</table>\n",
       "</div>"
      ],
      "text/plain": [
       "   lunghezza_sepale  larghezza_sepale  lunghezza_petalo  larghezza_petalo  \\\n",
       "0               5.1               3.5               1.4               0.2   \n",
       "1               4.9               3.0               1.4               0.2   \n",
       "2               4.7               3.2               1.3               0.2   \n",
       "3               4.6               3.1               1.5               0.2   \n",
       "4               5.0               3.6               1.4               0.2   \n",
       "\n",
       "        specie  \n",
       "0  Iris-setosa  \n",
       "1  Iris-setosa  \n",
       "2  Iris-setosa  \n",
       "3  Iris-setosa  \n",
       "4  Iris-setosa  "
      ]
     },
     "execution_count": 8,
     "metadata": {},
     "output_type": "execute_result"
    }
   ],
   "source": [
    "iris_dataset.head()"
   ]
  },
  {
   "cell_type": "markdown",
   "id": "bd1d0f5e-814b-49d1-9283-c81407537cd5",
   "metadata": {},
   "source": [
    "E anche l'indice:"
   ]
  },
  {
   "cell_type": "code",
   "execution_count": 9,
   "id": "9dd6b82e-951d-4776-ac00-19198909ae6c",
   "metadata": {},
   "outputs": [],
   "source": [
    "iris_dataset.index.name = \"numero_osservazione\""
   ]
  },
  {
   "cell_type": "code",
   "execution_count": 10,
   "id": "2c37a601-2777-40d4-802e-f07a6d1b6b19",
   "metadata": {},
   "outputs": [
    {
     "data": {
      "text/html": [
       "<div>\n",
       "<style scoped>\n",
       "    .dataframe tbody tr th:only-of-type {\n",
       "        vertical-align: middle;\n",
       "    }\n",
       "\n",
       "    .dataframe tbody tr th {\n",
       "        vertical-align: top;\n",
       "    }\n",
       "\n",
       "    .dataframe thead th {\n",
       "        text-align: right;\n",
       "    }\n",
       "</style>\n",
       "<table border=\"1\" class=\"dataframe\">\n",
       "  <thead>\n",
       "    <tr style=\"text-align: right;\">\n",
       "      <th></th>\n",
       "      <th>lunghezza_sepale</th>\n",
       "      <th>larghezza_sepale</th>\n",
       "      <th>lunghezza_petalo</th>\n",
       "      <th>larghezza_petalo</th>\n",
       "      <th>specie</th>\n",
       "    </tr>\n",
       "    <tr>\n",
       "      <th>numero_osservazione</th>\n",
       "      <th></th>\n",
       "      <th></th>\n",
       "      <th></th>\n",
       "      <th></th>\n",
       "      <th></th>\n",
       "    </tr>\n",
       "  </thead>\n",
       "  <tbody>\n",
       "    <tr>\n",
       "      <th>0</th>\n",
       "      <td>5.1</td>\n",
       "      <td>3.5</td>\n",
       "      <td>1.4</td>\n",
       "      <td>0.2</td>\n",
       "      <td>Iris-setosa</td>\n",
       "    </tr>\n",
       "    <tr>\n",
       "      <th>1</th>\n",
       "      <td>4.9</td>\n",
       "      <td>3.0</td>\n",
       "      <td>1.4</td>\n",
       "      <td>0.2</td>\n",
       "      <td>Iris-setosa</td>\n",
       "    </tr>\n",
       "    <tr>\n",
       "      <th>2</th>\n",
       "      <td>4.7</td>\n",
       "      <td>3.2</td>\n",
       "      <td>1.3</td>\n",
       "      <td>0.2</td>\n",
       "      <td>Iris-setosa</td>\n",
       "    </tr>\n",
       "    <tr>\n",
       "      <th>3</th>\n",
       "      <td>4.6</td>\n",
       "      <td>3.1</td>\n",
       "      <td>1.5</td>\n",
       "      <td>0.2</td>\n",
       "      <td>Iris-setosa</td>\n",
       "    </tr>\n",
       "    <tr>\n",
       "      <th>4</th>\n",
       "      <td>5.0</td>\n",
       "      <td>3.6</td>\n",
       "      <td>1.4</td>\n",
       "      <td>0.2</td>\n",
       "      <td>Iris-setosa</td>\n",
       "    </tr>\n",
       "  </tbody>\n",
       "</table>\n",
       "</div>"
      ],
      "text/plain": [
       "                     lunghezza_sepale  larghezza_sepale  lunghezza_petalo  \\\n",
       "numero_osservazione                                                         \n",
       "0                                 5.1               3.5               1.4   \n",
       "1                                 4.9               3.0               1.4   \n",
       "2                                 4.7               3.2               1.3   \n",
       "3                                 4.6               3.1               1.5   \n",
       "4                                 5.0               3.6               1.4   \n",
       "\n",
       "                     larghezza_petalo       specie  \n",
       "numero_osservazione                                 \n",
       "0                                 0.2  Iris-setosa  \n",
       "1                                 0.2  Iris-setosa  \n",
       "2                                 0.2  Iris-setosa  \n",
       "3                                 0.2  Iris-setosa  \n",
       "4                                 0.2  Iris-setosa  "
      ]
     },
     "execution_count": 10,
     "metadata": {},
     "output_type": "execute_result"
    }
   ],
   "source": [
    "iris_dataset.head()"
   ]
  },
  {
   "cell_type": "markdown",
   "id": "9a694664-f919-43f3-9a91-8d6940a0e5f2",
   "metadata": {},
   "source": [
    "Possiamo anche cambiare l'indice di un DataFrame. In questo caso non ha molta utilità perché non esiste un identificatore univoco per le righe, a parte un numero. Altri indici utili potrebbero essere delle date."
   ]
  },
  {
   "cell_type": "code",
   "execution_count": 22,
   "id": "6e50838a-4b47-40da-af00-eab9ec3636c1",
   "metadata": {},
   "outputs": [
    {
     "data": {
      "text/html": [
       "<div>\n",
       "<style scoped>\n",
       "    .dataframe tbody tr th:only-of-type {\n",
       "        vertical-align: middle;\n",
       "    }\n",
       "\n",
       "    .dataframe tbody tr th {\n",
       "        vertical-align: top;\n",
       "    }\n",
       "\n",
       "    .dataframe thead th {\n",
       "        text-align: right;\n",
       "    }\n",
       "</style>\n",
       "<table border=\"1\" class=\"dataframe\">\n",
       "  <thead>\n",
       "    <tr style=\"text-align: right;\">\n",
       "      <th></th>\n",
       "      <th>lunghezza_sepale</th>\n",
       "      <th>larghezza_sepale</th>\n",
       "      <th>lunghezza_petalo</th>\n",
       "      <th>larghezza_petalo</th>\n",
       "    </tr>\n",
       "    <tr>\n",
       "      <th>specie</th>\n",
       "      <th></th>\n",
       "      <th></th>\n",
       "      <th></th>\n",
       "      <th></th>\n",
       "    </tr>\n",
       "  </thead>\n",
       "  <tbody>\n",
       "    <tr>\n",
       "      <th>Iris-setosa</th>\n",
       "      <td>5.1</td>\n",
       "      <td>3.5</td>\n",
       "      <td>1.4</td>\n",
       "      <td>0.2</td>\n",
       "    </tr>\n",
       "    <tr>\n",
       "      <th>Iris-setosa</th>\n",
       "      <td>4.9</td>\n",
       "      <td>3.0</td>\n",
       "      <td>1.4</td>\n",
       "      <td>0.2</td>\n",
       "    </tr>\n",
       "    <tr>\n",
       "      <th>Iris-setosa</th>\n",
       "      <td>4.7</td>\n",
       "      <td>3.2</td>\n",
       "      <td>1.3</td>\n",
       "      <td>0.2</td>\n",
       "    </tr>\n",
       "    <tr>\n",
       "      <th>Iris-setosa</th>\n",
       "      <td>4.6</td>\n",
       "      <td>3.1</td>\n",
       "      <td>1.5</td>\n",
       "      <td>0.2</td>\n",
       "    </tr>\n",
       "    <tr>\n",
       "      <th>Iris-setosa</th>\n",
       "      <td>5.0</td>\n",
       "      <td>3.6</td>\n",
       "      <td>1.4</td>\n",
       "      <td>0.2</td>\n",
       "    </tr>\n",
       "  </tbody>\n",
       "</table>\n",
       "</div>"
      ],
      "text/plain": [
       "             lunghezza_sepale  larghezza_sepale  lunghezza_petalo  \\\n",
       "specie                                                              \n",
       "Iris-setosa               5.1               3.5               1.4   \n",
       "Iris-setosa               4.9               3.0               1.4   \n",
       "Iris-setosa               4.7               3.2               1.3   \n",
       "Iris-setosa               4.6               3.1               1.5   \n",
       "Iris-setosa               5.0               3.6               1.4   \n",
       "\n",
       "             larghezza_petalo  \n",
       "specie                         \n",
       "Iris-setosa               0.2  \n",
       "Iris-setosa               0.2  \n",
       "Iris-setosa               0.2  \n",
       "Iris-setosa               0.2  \n",
       "Iris-setosa               0.2  "
      ]
     },
     "execution_count": 22,
     "metadata": {},
     "output_type": "execute_result"
    }
   ],
   "source": [
    "iris_dataset.set_index(\"specie\").head()"
   ]
  },
  {
   "cell_type": "markdown",
   "id": "b8c7a06d-0057-4717-8cb6-392362ac149c",
   "metadata": {},
   "source": [
    "## Accedere agli elementi usando l'indicizzazione (come per le liste):"
   ]
  },
  {
   "cell_type": "markdown",
   "id": "6cb85b96-278f-4336-b3f7-b4168e22d33c",
   "metadata": {},
   "source": [
    "Come per le liste:"
   ]
  },
  {
   "cell_type": "code",
   "execution_count": 12,
   "id": "4d57a6d5-f6c0-4908-b6f1-424952c8ecda",
   "metadata": {},
   "outputs": [
    {
     "data": {
      "text/plain": [
       "[2, 3, 4, 5, 6]"
      ]
     },
     "execution_count": 12,
     "metadata": {},
     "output_type": "execute_result"
    }
   ],
   "source": [
    "lista = [1,2,3,4,5,6,7,8,5,1,23,12,35]\n",
    "lista[1:6]"
   ]
  },
  {
   "cell_type": "code",
   "execution_count": 13,
   "id": "272ef733-6328-4b21-bc3c-4715d4f94321",
   "metadata": {},
   "outputs": [
    {
     "data": {
      "text/html": [
       "<div>\n",
       "<style scoped>\n",
       "    .dataframe tbody tr th:only-of-type {\n",
       "        vertical-align: middle;\n",
       "    }\n",
       "\n",
       "    .dataframe tbody tr th {\n",
       "        vertical-align: top;\n",
       "    }\n",
       "\n",
       "    .dataframe thead th {\n",
       "        text-align: right;\n",
       "    }\n",
       "</style>\n",
       "<table border=\"1\" class=\"dataframe\">\n",
       "  <thead>\n",
       "    <tr style=\"text-align: right;\">\n",
       "      <th></th>\n",
       "      <th>lunghezza_sepale</th>\n",
       "      <th>larghezza_sepale</th>\n",
       "      <th>lunghezza_petalo</th>\n",
       "      <th>larghezza_petalo</th>\n",
       "      <th>specie</th>\n",
       "    </tr>\n",
       "    <tr>\n",
       "      <th>numero_osservazione</th>\n",
       "      <th></th>\n",
       "      <th></th>\n",
       "      <th></th>\n",
       "      <th></th>\n",
       "      <th></th>\n",
       "    </tr>\n",
       "  </thead>\n",
       "  <tbody>\n",
       "    <tr>\n",
       "      <th>100</th>\n",
       "      <td>6.3</td>\n",
       "      <td>3.3</td>\n",
       "      <td>6.0</td>\n",
       "      <td>2.5</td>\n",
       "      <td>Iris-virginica</td>\n",
       "    </tr>\n",
       "    <tr>\n",
       "      <th>101</th>\n",
       "      <td>5.8</td>\n",
       "      <td>2.7</td>\n",
       "      <td>5.1</td>\n",
       "      <td>1.9</td>\n",
       "      <td>Iris-virginica</td>\n",
       "    </tr>\n",
       "    <tr>\n",
       "      <th>102</th>\n",
       "      <td>7.1</td>\n",
       "      <td>3.0</td>\n",
       "      <td>5.9</td>\n",
       "      <td>2.1</td>\n",
       "      <td>Iris-virginica</td>\n",
       "    </tr>\n",
       "    <tr>\n",
       "      <th>103</th>\n",
       "      <td>6.3</td>\n",
       "      <td>2.9</td>\n",
       "      <td>5.6</td>\n",
       "      <td>1.8</td>\n",
       "      <td>Iris-virginica</td>\n",
       "    </tr>\n",
       "    <tr>\n",
       "      <th>104</th>\n",
       "      <td>6.5</td>\n",
       "      <td>3.0</td>\n",
       "      <td>5.8</td>\n",
       "      <td>2.2</td>\n",
       "      <td>Iris-virginica</td>\n",
       "    </tr>\n",
       "  </tbody>\n",
       "</table>\n",
       "</div>"
      ],
      "text/plain": [
       "                     lunghezza_sepale  larghezza_sepale  lunghezza_petalo  \\\n",
       "numero_osservazione                                                         \n",
       "100                               6.3               3.3               6.0   \n",
       "101                               5.8               2.7               5.1   \n",
       "102                               7.1               3.0               5.9   \n",
       "103                               6.3               2.9               5.6   \n",
       "104                               6.5               3.0               5.8   \n",
       "\n",
       "                     larghezza_petalo          specie  \n",
       "numero_osservazione                                    \n",
       "100                               2.5  Iris-virginica  \n",
       "101                               1.9  Iris-virginica  \n",
       "102                               2.1  Iris-virginica  \n",
       "103                               1.8  Iris-virginica  \n",
       "104                               2.2  Iris-virginica  "
      ]
     },
     "execution_count": 13,
     "metadata": {},
     "output_type": "execute_result"
    }
   ],
   "source": [
    "iris_dataset[100:105]"
   ]
  },
  {
   "cell_type": "markdown",
   "id": "db5c2f36-e397-42a2-9bc1-46ba194d644a",
   "metadata": {},
   "source": [
    "Ma possiamo usare questa notazione solo per accedere a blocchi di righe. Per accedere a una riga sola, dobbiamo fare così:\n",
    "\n",
    "```\n",
    "iris_dataset[100:101]\n",
    "```\n",
    "\n",
    "E non possiamo selezionare le colonne, ad esempio così:\n",
    "\n",
    "```\n",
    "iris_dataset[100:105, \"specie\"]\n",
    "```\n",
    "\n",
    "Vediamo le alternative migliori:"
   ]
  },
  {
   "cell_type": "markdown",
   "id": "0e402772-fd2b-4b99-bf07-d9d3a7bc150e",
   "metadata": {},
   "source": [
    "## Accedere alle colonne"
   ]
  },
  {
   "cell_type": "code",
   "execution_count": 21,
   "id": "bb17f323-4494-467f-9a96-887b8fe05465",
   "metadata": {},
   "outputs": [
    {
     "data": {
      "text/plain": [
       "numero_osservazione\n",
       "0    Iris-setosa\n",
       "1    Iris-setosa\n",
       "2    Iris-setosa\n",
       "3    Iris-setosa\n",
       "4    Iris-setosa\n",
       "Name: specie, dtype: object"
      ]
     },
     "execution_count": 21,
     "metadata": {},
     "output_type": "execute_result"
    }
   ],
   "source": [
    "iris_dataset[\"specie\"].head()"
   ]
  },
  {
   "cell_type": "markdown",
   "id": "d8baeb5f-4168-498a-aedc-49ca28f0726f",
   "metadata": {},
   "source": [
    "Possiamo usare la notazione degli attributi (e.g. `iris_dataset.columns`):"
   ]
  },
  {
   "cell_type": "code",
   "execution_count": 20,
   "id": "b133f718-c3c4-47bd-bff2-d2e8dd62bbc1",
   "metadata": {},
   "outputs": [
    {
     "data": {
      "text/plain": [
       "numero_osservazione\n",
       "0    Iris-setosa\n",
       "1    Iris-setosa\n",
       "2    Iris-setosa\n",
       "3    Iris-setosa\n",
       "4    Iris-setosa\n",
       "Name: specie, dtype: object"
      ]
     },
     "execution_count": 20,
     "metadata": {},
     "output_type": "execute_result"
    }
   ],
   "source": [
    "iris_dataset.specie.head() # <- solo una alla volta"
   ]
  },
  {
   "cell_type": "markdown",
   "id": "acfd99c0-3e12-4034-969b-0048d131eee6",
   "metadata": {},
   "source": [
    "Per selezionare più di una colonna dobbiamo usare le parentesi quadre:"
   ]
  },
  {
   "cell_type": "code",
   "execution_count": 19,
   "id": "887df483-75e1-411f-a87c-21355ddbfb3c",
   "metadata": {},
   "outputs": [
    {
     "data": {
      "text/html": [
       "<div>\n",
       "<style scoped>\n",
       "    .dataframe tbody tr th:only-of-type {\n",
       "        vertical-align: middle;\n",
       "    }\n",
       "\n",
       "    .dataframe tbody tr th {\n",
       "        vertical-align: top;\n",
       "    }\n",
       "\n",
       "    .dataframe thead th {\n",
       "        text-align: right;\n",
       "    }\n",
       "</style>\n",
       "<table border=\"1\" class=\"dataframe\">\n",
       "  <thead>\n",
       "    <tr style=\"text-align: right;\">\n",
       "      <th></th>\n",
       "      <th>lunghezza_petalo</th>\n",
       "      <th>lunghezza_sepale</th>\n",
       "    </tr>\n",
       "    <tr>\n",
       "      <th>numero_osservazione</th>\n",
       "      <th></th>\n",
       "      <th></th>\n",
       "    </tr>\n",
       "  </thead>\n",
       "  <tbody>\n",
       "    <tr>\n",
       "      <th>0</th>\n",
       "      <td>1.4</td>\n",
       "      <td>5.1</td>\n",
       "    </tr>\n",
       "    <tr>\n",
       "      <th>1</th>\n",
       "      <td>1.4</td>\n",
       "      <td>4.9</td>\n",
       "    </tr>\n",
       "    <tr>\n",
       "      <th>2</th>\n",
       "      <td>1.3</td>\n",
       "      <td>4.7</td>\n",
       "    </tr>\n",
       "    <tr>\n",
       "      <th>3</th>\n",
       "      <td>1.5</td>\n",
       "      <td>4.6</td>\n",
       "    </tr>\n",
       "    <tr>\n",
       "      <th>4</th>\n",
       "      <td>1.4</td>\n",
       "      <td>5.0</td>\n",
       "    </tr>\n",
       "  </tbody>\n",
       "</table>\n",
       "</div>"
      ],
      "text/plain": [
       "                     lunghezza_petalo  lunghezza_sepale\n",
       "numero_osservazione                                    \n",
       "0                                 1.4               5.1\n",
       "1                                 1.4               4.9\n",
       "2                                 1.3               4.7\n",
       "3                                 1.5               4.6\n",
       "4                                 1.4               5.0"
      ]
     },
     "execution_count": 19,
     "metadata": {},
     "output_type": "execute_result"
    }
   ],
   "source": [
    "iris_dataset[[\"lunghezza_petalo\", \"lunghezza_sepale\"]].head() # <- anche più di una"
   ]
  },
  {
   "cell_type": "markdown",
   "id": "b4b10e18-e5ef-4323-8384-7f60d731f359",
   "metadata": {},
   "source": [
    "O usare il metodo `filter()`:"
   ]
  },
  {
   "cell_type": "code",
   "execution_count": 18,
   "id": "3e2f0078-7e42-454a-a3b3-96750ecc3a2c",
   "metadata": {},
   "outputs": [
    {
     "data": {
      "text/html": [
       "<div>\n",
       "<style scoped>\n",
       "    .dataframe tbody tr th:only-of-type {\n",
       "        vertical-align: middle;\n",
       "    }\n",
       "\n",
       "    .dataframe tbody tr th {\n",
       "        vertical-align: top;\n",
       "    }\n",
       "\n",
       "    .dataframe thead th {\n",
       "        text-align: right;\n",
       "    }\n",
       "</style>\n",
       "<table border=\"1\" class=\"dataframe\">\n",
       "  <thead>\n",
       "    <tr style=\"text-align: right;\">\n",
       "      <th></th>\n",
       "      <th>lunghezza_petalo</th>\n",
       "      <th>lunghezza_sepale</th>\n",
       "    </tr>\n",
       "    <tr>\n",
       "      <th>numero_osservazione</th>\n",
       "      <th></th>\n",
       "      <th></th>\n",
       "    </tr>\n",
       "  </thead>\n",
       "  <tbody>\n",
       "    <tr>\n",
       "      <th>0</th>\n",
       "      <td>1.4</td>\n",
       "      <td>5.1</td>\n",
       "    </tr>\n",
       "    <tr>\n",
       "      <th>1</th>\n",
       "      <td>1.4</td>\n",
       "      <td>4.9</td>\n",
       "    </tr>\n",
       "    <tr>\n",
       "      <th>2</th>\n",
       "      <td>1.3</td>\n",
       "      <td>4.7</td>\n",
       "    </tr>\n",
       "    <tr>\n",
       "      <th>3</th>\n",
       "      <td>1.5</td>\n",
       "      <td>4.6</td>\n",
       "    </tr>\n",
       "    <tr>\n",
       "      <th>4</th>\n",
       "      <td>1.4</td>\n",
       "      <td>5.0</td>\n",
       "    </tr>\n",
       "  </tbody>\n",
       "</table>\n",
       "</div>"
      ],
      "text/plain": [
       "                     lunghezza_petalo  lunghezza_sepale\n",
       "numero_osservazione                                    \n",
       "0                                 1.4               5.1\n",
       "1                                 1.4               4.9\n",
       "2                                 1.3               4.7\n",
       "3                                 1.5               4.6\n",
       "4                                 1.4               5.0"
      ]
     },
     "execution_count": 18,
     "metadata": {},
     "output_type": "execute_result"
    }
   ],
   "source": [
    "iris_dataset.filter([\"lunghezza_petalo\", \"lunghezza_sepale\"]).head()"
   ]
  },
  {
   "cell_type": "markdown",
   "id": "7da03f10-ba86-49b6-8020-86c792d67945",
   "metadata": {},
   "source": [
    "## Accedere sia a righe che a colonne"
   ]
  },
  {
   "cell_type": "code",
   "execution_count": 17,
   "id": "fcbc7fba-e581-4705-a56e-c46cc75985c4",
   "metadata": {},
   "outputs": [
    {
     "data": {
      "text/plain": [
       "lunghezza_sepale            5.0\n",
       "larghezza_sepale            3.6\n",
       "lunghezza_petalo            1.4\n",
       "larghezza_petalo            0.2\n",
       "specie              Iris-setosa\n",
       "Name: 4, dtype: object"
      ]
     },
     "execution_count": 17,
     "metadata": {},
     "output_type": "execute_result"
    }
   ],
   "source": [
    "iris_dataset.loc[4]"
   ]
  },
  {
   "cell_type": "code",
   "execution_count": 18,
   "id": "9ee04b2a-4ced-4c42-b525-0ab578a12392",
   "metadata": {},
   "outputs": [
    {
     "data": {
      "text/plain": [
       "'Iris-setosa'"
      ]
     },
     "execution_count": 18,
     "metadata": {},
     "output_type": "execute_result"
    }
   ],
   "source": [
    "iris_dataset.loc[4, \"specie\"]"
   ]
  },
  {
   "cell_type": "code",
   "execution_count": 19,
   "id": "292a64f6-76a8-4435-951e-a1e77dd2aba2",
   "metadata": {},
   "outputs": [
    {
     "data": {
      "text/plain": [
       "lunghezza_petalo    1.4\n",
       "larghezza_petalo    0.2\n",
       "Name: 4, dtype: object"
      ]
     },
     "execution_count": 19,
     "metadata": {},
     "output_type": "execute_result"
    }
   ],
   "source": [
    "iris_dataset.loc[4, [\"lunghezza_petalo\", \"larghezza_petalo\"]]"
   ]
  },
  {
   "cell_type": "code",
   "execution_count": 20,
   "id": "d51b1e26-671d-4c06-af0b-17a7f5537456",
   "metadata": {},
   "outputs": [
    {
     "data": {
      "text/plain": [
       "numero_osservazione\n",
       "2    Iris-setosa\n",
       "4    Iris-setosa\n",
       "Name: specie, dtype: object"
      ]
     },
     "execution_count": 20,
     "metadata": {},
     "output_type": "execute_result"
    }
   ],
   "source": [
    "iris_dataset.loc[[2,4], \"specie\"]"
   ]
  },
  {
   "cell_type": "code",
   "execution_count": 21,
   "id": "5fd2687f-3558-413b-9627-092a5b684b7c",
   "metadata": {},
   "outputs": [
    {
     "data": {
      "text/plain": [
       "numero_osservazione\n",
       "0    Iris-setosa\n",
       "1    Iris-setosa\n",
       "2    Iris-setosa\n",
       "3    Iris-setosa\n",
       "4    Iris-setosa\n",
       "5    Iris-setosa\n",
       "6    Iris-setosa\n",
       "7    Iris-setosa\n",
       "8    Iris-setosa\n",
       "9    Iris-setosa\n",
       "Name: specie, dtype: object"
      ]
     },
     "execution_count": 21,
     "metadata": {},
     "output_type": "execute_result"
    }
   ],
   "source": [
    "iris_dataset.loc[range(10), \"specie\"]"
   ]
  },
  {
   "cell_type": "markdown",
   "id": "23b1b9f9-2d47-430a-964a-b35c83e8ce49",
   "metadata": {},
   "source": [
    "## Operazioni sulle colonne "
   ]
  },
  {
   "cell_type": "code",
   "execution_count": 22,
   "id": "b7be7304-3b97-4935-91fd-14ad5b105973",
   "metadata": {},
   "outputs": [],
   "source": [
    "iris_dataset[\"area_petalo\"] = iris_dataset[\"lunghezza_petalo\"] * iris_dataset[\"larghezza_petalo\"]"
   ]
  },
  {
   "cell_type": "code",
   "execution_count": 44,
   "id": "9b232328-8448-425d-9803-09e55c82d30c",
   "metadata": {},
   "outputs": [],
   "source": [
    "iris_dataset[\"lunghezza_petalo_per_due\"] = iris_dataset[\"lunghezza_petalo\"] * 2"
   ]
  },
  {
   "cell_type": "code",
   "execution_count": 45,
   "id": "2c1ff199-cfab-4d50-b30d-f55eaef67ba2",
   "metadata": {},
   "outputs": [
    {
     "data": {
      "text/html": [
       "<div>\n",
       "<style scoped>\n",
       "    .dataframe tbody tr th:only-of-type {\n",
       "        vertical-align: middle;\n",
       "    }\n",
       "\n",
       "    .dataframe tbody tr th {\n",
       "        vertical-align: top;\n",
       "    }\n",
       "\n",
       "    .dataframe thead th {\n",
       "        text-align: right;\n",
       "    }\n",
       "</style>\n",
       "<table border=\"1\" class=\"dataframe\">\n",
       "  <thead>\n",
       "    <tr style=\"text-align: right;\">\n",
       "      <th></th>\n",
       "      <th>lunghezza_sepale</th>\n",
       "      <th>larghezza_sepale</th>\n",
       "      <th>lunghezza_petalo</th>\n",
       "      <th>larghezza_petalo</th>\n",
       "      <th>specie</th>\n",
       "      <th>area_petalo</th>\n",
       "      <th>lunghezza_petalo_per_due</th>\n",
       "    </tr>\n",
       "    <tr>\n",
       "      <th>numero_osservazione</th>\n",
       "      <th></th>\n",
       "      <th></th>\n",
       "      <th></th>\n",
       "      <th></th>\n",
       "      <th></th>\n",
       "      <th></th>\n",
       "      <th></th>\n",
       "    </tr>\n",
       "  </thead>\n",
       "  <tbody>\n",
       "    <tr>\n",
       "      <th>0</th>\n",
       "      <td>5.1</td>\n",
       "      <td>3.5</td>\n",
       "      <td>1.4</td>\n",
       "      <td>0.2</td>\n",
       "      <td>Iris-setosa</td>\n",
       "      <td>0.28</td>\n",
       "      <td>2.8</td>\n",
       "    </tr>\n",
       "    <tr>\n",
       "      <th>1</th>\n",
       "      <td>4.9</td>\n",
       "      <td>3.0</td>\n",
       "      <td>1.4</td>\n",
       "      <td>0.2</td>\n",
       "      <td>Iris-setosa</td>\n",
       "      <td>0.28</td>\n",
       "      <td>2.8</td>\n",
       "    </tr>\n",
       "    <tr>\n",
       "      <th>2</th>\n",
       "      <td>4.7</td>\n",
       "      <td>3.2</td>\n",
       "      <td>1.3</td>\n",
       "      <td>0.2</td>\n",
       "      <td>Iris-setosa</td>\n",
       "      <td>0.26</td>\n",
       "      <td>2.6</td>\n",
       "    </tr>\n",
       "    <tr>\n",
       "      <th>3</th>\n",
       "      <td>4.6</td>\n",
       "      <td>3.1</td>\n",
       "      <td>1.5</td>\n",
       "      <td>0.2</td>\n",
       "      <td>Iris-setosa</td>\n",
       "      <td>0.30</td>\n",
       "      <td>3.0</td>\n",
       "    </tr>\n",
       "    <tr>\n",
       "      <th>4</th>\n",
       "      <td>5.0</td>\n",
       "      <td>3.6</td>\n",
       "      <td>1.4</td>\n",
       "      <td>0.2</td>\n",
       "      <td>Iris-setosa</td>\n",
       "      <td>0.28</td>\n",
       "      <td>2.8</td>\n",
       "    </tr>\n",
       "  </tbody>\n",
       "</table>\n",
       "</div>"
      ],
      "text/plain": [
       "                     lunghezza_sepale  larghezza_sepale  lunghezza_petalo  \\\n",
       "numero_osservazione                                                         \n",
       "0                                 5.1               3.5               1.4   \n",
       "1                                 4.9               3.0               1.4   \n",
       "2                                 4.7               3.2               1.3   \n",
       "3                                 4.6               3.1               1.5   \n",
       "4                                 5.0               3.6               1.4   \n",
       "\n",
       "                     larghezza_petalo       specie  area_petalo  \\\n",
       "numero_osservazione                                               \n",
       "0                                 0.2  Iris-setosa         0.28   \n",
       "1                                 0.2  Iris-setosa         0.28   \n",
       "2                                 0.2  Iris-setosa         0.26   \n",
       "3                                 0.2  Iris-setosa         0.30   \n",
       "4                                 0.2  Iris-setosa         0.28   \n",
       "\n",
       "                     lunghezza_petalo_per_due  \n",
       "numero_osservazione                            \n",
       "0                                         2.8  \n",
       "1                                         2.8  \n",
       "2                                         2.6  \n",
       "3                                         3.0  \n",
       "4                                         2.8  "
      ]
     },
     "execution_count": 45,
     "metadata": {},
     "output_type": "execute_result"
    }
   ],
   "source": [
    "iris_dataset.head()"
   ]
  },
  {
   "cell_type": "code",
   "execution_count": 51,
   "id": "60b678c8-bbfb-487e-892d-2553bc93c21c",
   "metadata": {},
   "outputs": [],
   "source": [
    "# iris_dataset.drop([\"area_petalo\", \"lunghezza_petalo_per_due\"], axis=1)\n",
    "iris_dataset.drop(columns=[\"area_petalo\", \"lunghezza_petalo_per_due\"], inplace=True)"
   ]
  },
  {
   "cell_type": "markdown",
   "id": "9cf57bb4-caa9-4f1b-b3b6-c4af2e187512",
   "metadata": {},
   "source": [
    "## Informazioni sul dataset"
   ]
  },
  {
   "cell_type": "code",
   "execution_count": 52,
   "id": "b06e29f2-086b-4fc4-931c-367b2ab977f3",
   "metadata": {},
   "outputs": [
    {
     "name": "stdout",
     "output_type": "stream",
     "text": [
      "<class 'pandas.core.frame.DataFrame'>\n",
      "RangeIndex: 150 entries, 0 to 149\n",
      "Data columns (total 5 columns):\n",
      " #   Column            Non-Null Count  Dtype  \n",
      "---  ------            --------------  -----  \n",
      " 0   lunghezza_sepale  150 non-null    float64\n",
      " 1   larghezza_sepale  150 non-null    float64\n",
      " 2   lunghezza_petalo  150 non-null    float64\n",
      " 3   larghezza_petalo  150 non-null    float64\n",
      " 4   specie            150 non-null    object \n",
      "dtypes: float64(4), object(1)\n",
      "memory usage: 6.0+ KB\n"
     ]
    }
   ],
   "source": [
    "iris_dataset.info()"
   ]
  },
  {
   "cell_type": "code",
   "execution_count": 23,
   "id": "c25b2bcf-03de-47bb-a680-ebcd2df18bc6",
   "metadata": {},
   "outputs": [],
   "source": [
    "descrizione_iris = iris_dataset.describe()"
   ]
  },
  {
   "cell_type": "code",
   "execution_count": 24,
   "id": "5b3eda29-cb47-49f0-aa09-737841ba4dae",
   "metadata": {},
   "outputs": [
    {
     "data": {
      "text/html": [
       "<div>\n",
       "<style scoped>\n",
       "    .dataframe tbody tr th:only-of-type {\n",
       "        vertical-align: middle;\n",
       "    }\n",
       "\n",
       "    .dataframe tbody tr th {\n",
       "        vertical-align: top;\n",
       "    }\n",
       "\n",
       "    .dataframe thead th {\n",
       "        text-align: right;\n",
       "    }\n",
       "</style>\n",
       "<table border=\"1\" class=\"dataframe\">\n",
       "  <thead>\n",
       "    <tr style=\"text-align: right;\">\n",
       "      <th></th>\n",
       "      <th>lunghezza_sepale</th>\n",
       "      <th>larghezza_sepale</th>\n",
       "      <th>lunghezza_petalo</th>\n",
       "      <th>larghezza_petalo</th>\n",
       "    </tr>\n",
       "  </thead>\n",
       "  <tbody>\n",
       "    <tr>\n",
       "      <th>count</th>\n",
       "      <td>150.000000</td>\n",
       "      <td>150.000000</td>\n",
       "      <td>150.000000</td>\n",
       "      <td>150.000000</td>\n",
       "    </tr>\n",
       "    <tr>\n",
       "      <th>mean</th>\n",
       "      <td>5.843333</td>\n",
       "      <td>3.054000</td>\n",
       "      <td>3.758667</td>\n",
       "      <td>1.198667</td>\n",
       "    </tr>\n",
       "    <tr>\n",
       "      <th>std</th>\n",
       "      <td>0.828066</td>\n",
       "      <td>0.433594</td>\n",
       "      <td>1.764420</td>\n",
       "      <td>0.763161</td>\n",
       "    </tr>\n",
       "    <tr>\n",
       "      <th>min</th>\n",
       "      <td>4.300000</td>\n",
       "      <td>2.000000</td>\n",
       "      <td>1.000000</td>\n",
       "      <td>0.100000</td>\n",
       "    </tr>\n",
       "    <tr>\n",
       "      <th>25%</th>\n",
       "      <td>5.100000</td>\n",
       "      <td>2.800000</td>\n",
       "      <td>1.600000</td>\n",
       "      <td>0.300000</td>\n",
       "    </tr>\n",
       "    <tr>\n",
       "      <th>50%</th>\n",
       "      <td>5.800000</td>\n",
       "      <td>3.000000</td>\n",
       "      <td>4.350000</td>\n",
       "      <td>1.300000</td>\n",
       "    </tr>\n",
       "    <tr>\n",
       "      <th>75%</th>\n",
       "      <td>6.400000</td>\n",
       "      <td>3.300000</td>\n",
       "      <td>5.100000</td>\n",
       "      <td>1.800000</td>\n",
       "    </tr>\n",
       "    <tr>\n",
       "      <th>max</th>\n",
       "      <td>7.900000</td>\n",
       "      <td>4.400000</td>\n",
       "      <td>6.900000</td>\n",
       "      <td>2.500000</td>\n",
       "    </tr>\n",
       "  </tbody>\n",
       "</table>\n",
       "</div>"
      ],
      "text/plain": [
       "       lunghezza_sepale  larghezza_sepale  lunghezza_petalo  larghezza_petalo\n",
       "count        150.000000        150.000000        150.000000        150.000000\n",
       "mean           5.843333          3.054000          3.758667          1.198667\n",
       "std            0.828066          0.433594          1.764420          0.763161\n",
       "min            4.300000          2.000000          1.000000          0.100000\n",
       "25%            5.100000          2.800000          1.600000          0.300000\n",
       "50%            5.800000          3.000000          4.350000          1.300000\n",
       "75%            6.400000          3.300000          5.100000          1.800000\n",
       "max            7.900000          4.400000          6.900000          2.500000"
      ]
     },
     "execution_count": 24,
     "metadata": {},
     "output_type": "execute_result"
    }
   ],
   "source": [
    "descrizione_iris"
   ]
  },
  {
   "cell_type": "markdown",
   "id": "adac375e-759d-4566-97f5-18bbb09ae081",
   "metadata": {},
   "source": [
    "## Eliminare righe o colonne dal dataset\n",
    "\n",
    "Di base il metodo `.drop()` elimina le righe."
   ]
  },
  {
   "cell_type": "code",
   "execution_count": 58,
   "id": "6d1b9e18-5a64-4e0d-9cde-c23574df01da",
   "metadata": {},
   "outputs": [
    {
     "data": {
      "text/html": [
       "<div>\n",
       "<style scoped>\n",
       "    .dataframe tbody tr th:only-of-type {\n",
       "        vertical-align: middle;\n",
       "    }\n",
       "\n",
       "    .dataframe tbody tr th {\n",
       "        vertical-align: top;\n",
       "    }\n",
       "\n",
       "    .dataframe thead th {\n",
       "        text-align: right;\n",
       "    }\n",
       "</style>\n",
       "<table border=\"1\" class=\"dataframe\">\n",
       "  <thead>\n",
       "    <tr style=\"text-align: right;\">\n",
       "      <th></th>\n",
       "      <th>lunghezza_sepale</th>\n",
       "      <th>larghezza_sepale</th>\n",
       "      <th>lunghezza_petalo</th>\n",
       "      <th>larghezza_petalo</th>\n",
       "    </tr>\n",
       "  </thead>\n",
       "  <tbody>\n",
       "    <tr>\n",
       "      <th>mean</th>\n",
       "      <td>5.843333</td>\n",
       "      <td>3.054000</td>\n",
       "      <td>3.758667</td>\n",
       "      <td>1.198667</td>\n",
       "    </tr>\n",
       "    <tr>\n",
       "      <th>std</th>\n",
       "      <td>0.828066</td>\n",
       "      <td>0.433594</td>\n",
       "      <td>1.764420</td>\n",
       "      <td>0.763161</td>\n",
       "    </tr>\n",
       "    <tr>\n",
       "      <th>min</th>\n",
       "      <td>4.300000</td>\n",
       "      <td>2.000000</td>\n",
       "      <td>1.000000</td>\n",
       "      <td>0.100000</td>\n",
       "    </tr>\n",
       "    <tr>\n",
       "      <th>25%</th>\n",
       "      <td>5.100000</td>\n",
       "      <td>2.800000</td>\n",
       "      <td>1.600000</td>\n",
       "      <td>0.300000</td>\n",
       "    </tr>\n",
       "    <tr>\n",
       "      <th>50%</th>\n",
       "      <td>5.800000</td>\n",
       "      <td>3.000000</td>\n",
       "      <td>4.350000</td>\n",
       "      <td>1.300000</td>\n",
       "    </tr>\n",
       "    <tr>\n",
       "      <th>75%</th>\n",
       "      <td>6.400000</td>\n",
       "      <td>3.300000</td>\n",
       "      <td>5.100000</td>\n",
       "      <td>1.800000</td>\n",
       "    </tr>\n",
       "    <tr>\n",
       "      <th>max</th>\n",
       "      <td>7.900000</td>\n",
       "      <td>4.400000</td>\n",
       "      <td>6.900000</td>\n",
       "      <td>2.500000</td>\n",
       "    </tr>\n",
       "  </tbody>\n",
       "</table>\n",
       "</div>"
      ],
      "text/plain": [
       "      lunghezza_sepale  larghezza_sepale  lunghezza_petalo  larghezza_petalo\n",
       "mean          5.843333          3.054000          3.758667          1.198667\n",
       "std           0.828066          0.433594          1.764420          0.763161\n",
       "min           4.300000          2.000000          1.000000          0.100000\n",
       "25%           5.100000          2.800000          1.600000          0.300000\n",
       "50%           5.800000          3.000000          4.350000          1.300000\n",
       "75%           6.400000          3.300000          5.100000          1.800000\n",
       "max           7.900000          4.400000          6.900000          2.500000"
      ]
     },
     "execution_count": 58,
     "metadata": {},
     "output_type": "execute_result"
    }
   ],
   "source": [
    "descrizione_iris.drop(index=\"count\") # esempio di drop delle righe"
   ]
  },
  {
   "cell_type": "markdown",
   "id": "1aa783f5-9897-47b3-8139-767ce1b29657",
   "metadata": {},
   "source": [
    "Così otterremmo la stessa cosa, ma non è chiaro che cosa stiamo eliminando: si tratta di una riga o di una colonna? Siate sempre espliciti!\n",
    "\n",
    "```\n",
    "descrizione_iris.drop(\"count\") # <- poco chiaro\n",
    "descrizione_iris.drop(index=\"count\") # righe\n",
    "descrizione_iris.drop(columns=\"lunghezza_sepale\") # colonne\n",
    "```"
   ]
  },
  {
   "cell_type": "markdown",
   "id": "10f353e8-9a28-4b77-95c0-e1c9a9716e44",
   "metadata": {},
   "source": [
    "E qui vediamo come accedere ad alcune righe e colonne con i metodi che abbiamo visto prima:"
   ]
  },
  {
   "cell_type": "code",
   "execution_count": 27,
   "id": "0f4c2f1a-c5df-4aae-9c80-86adbd5a115a",
   "metadata": {},
   "outputs": [
    {
     "data": {
      "text/html": [
       "<div>\n",
       "<style scoped>\n",
       "    .dataframe tbody tr th:only-of-type {\n",
       "        vertical-align: middle;\n",
       "    }\n",
       "\n",
       "    .dataframe tbody tr th {\n",
       "        vertical-align: top;\n",
       "    }\n",
       "\n",
       "    .dataframe thead th {\n",
       "        text-align: right;\n",
       "    }\n",
       "</style>\n",
       "<table border=\"1\" class=\"dataframe\">\n",
       "  <thead>\n",
       "    <tr style=\"text-align: right;\">\n",
       "      <th></th>\n",
       "      <th>lunghezza_sepale</th>\n",
       "      <th>larghezza_sepale</th>\n",
       "      <th>lunghezza_petalo</th>\n",
       "      <th>larghezza_petalo</th>\n",
       "      <th>area_petalo</th>\n",
       "    </tr>\n",
       "  </thead>\n",
       "  <tbody>\n",
       "    <tr>\n",
       "      <th>count</th>\n",
       "      <td>150.0</td>\n",
       "      <td>150.0</td>\n",
       "      <td>150.0</td>\n",
       "      <td>150.0</td>\n",
       "      <td>150.0</td>\n",
       "    </tr>\n",
       "  </tbody>\n",
       "</table>\n",
       "</div>"
      ],
      "text/plain": [
       "       lunghezza_sepale  larghezza_sepale  lunghezza_petalo  larghezza_petalo  \\\n",
       "count             150.0             150.0             150.0             150.0   \n",
       "\n",
       "       area_petalo  \n",
       "count        150.0  "
      ]
     },
     "execution_count": 27,
     "metadata": {},
     "output_type": "execute_result"
    }
   ],
   "source": [
    "descrizione_iris[0:1]"
   ]
  },
  {
   "cell_type": "code",
   "execution_count": 28,
   "id": "dc1cb50a-785a-4fdf-a9b8-09292da9887d",
   "metadata": {},
   "outputs": [
    {
     "data": {
      "text/plain": [
       "count    150.000000\n",
       "mean       3.758667\n",
       "std        1.764420\n",
       "min        1.000000\n",
       "25%        1.600000\n",
       "50%        4.350000\n",
       "75%        5.100000\n",
       "max        6.900000\n",
       "Name: lunghezza_petalo, dtype: float64"
      ]
     },
     "execution_count": 28,
     "metadata": {},
     "output_type": "execute_result"
    }
   ],
   "source": [
    "descrizione_iris.lunghezza_petalo"
   ]
  },
  {
   "cell_type": "code",
   "execution_count": 29,
   "id": "939e007c-4f77-4e30-9320-31ae5e625b59",
   "metadata": {},
   "outputs": [
    {
     "data": {
      "text/plain": [
       "count    150.000000\n",
       "mean       3.758667\n",
       "std        1.764420\n",
       "min        1.000000\n",
       "25%        1.600000\n",
       "50%        4.350000\n",
       "75%        5.100000\n",
       "max        6.900000\n",
       "Name: lunghezza_petalo, dtype: float64"
      ]
     },
     "execution_count": 29,
     "metadata": {},
     "output_type": "execute_result"
    }
   ],
   "source": [
    "descrizione_iris[\"lunghezza_petalo\"]"
   ]
  },
  {
   "cell_type": "code",
   "execution_count": 30,
   "id": "6a2e2daf-d5bd-49d2-ade4-b86f35425944",
   "metadata": {},
   "outputs": [
    {
     "data": {
      "text/plain": [
       "lunghezza_petalo    3.758667\n",
       "larghezza_petalo    1.198667\n",
       "Name: mean, dtype: float64"
      ]
     },
     "execution_count": 30,
     "metadata": {},
     "output_type": "execute_result"
    }
   ],
   "source": [
    "descrizione_iris.loc[\"mean\", [\"lunghezza_petalo\", \"larghezza_petalo\"]]"
   ]
  },
  {
   "cell_type": "markdown",
   "id": "b17f9485-7b6d-4f08-8082-589e1e6ef2df",
   "metadata": {},
   "source": [
    "## Tre modi equivalenti\n",
    "\n",
    "Alla fine combinando i metodi visti sopra possiamo fare la stessa cosa in diversi modi:"
   ]
  },
  {
   "cell_type": "code",
   "execution_count": 26,
   "id": "8301619a-ce4d-4d01-92df-c74762562385",
   "metadata": {},
   "outputs": [
    {
     "data": {
      "text/plain": [
       "3.758666666666666"
      ]
     },
     "execution_count": 26,
     "metadata": {},
     "output_type": "execute_result"
    }
   ],
   "source": [
    "descrizione_iris.loc[\"mean\", \"lunghezza_petalo\"]"
   ]
  },
  {
   "cell_type": "code",
   "execution_count": 27,
   "id": "4a033f13-328b-4334-aa1d-763991c0b013",
   "metadata": {},
   "outputs": [
    {
     "data": {
      "text/plain": [
       "3.758666666666666"
      ]
     },
     "execution_count": 27,
     "metadata": {},
     "output_type": "execute_result"
    }
   ],
   "source": [
    "descrizione_iris[\"lunghezza_petalo\"].loc[\"mean\"]"
   ]
  },
  {
   "cell_type": "code",
   "execution_count": 28,
   "id": "405a082e-1464-45b6-9c77-8d21e2e0cfc2",
   "metadata": {},
   "outputs": [
    {
     "data": {
      "text/plain": [
       "3.758666666666666"
      ]
     },
     "execution_count": 28,
     "metadata": {},
     "output_type": "execute_result"
    }
   ],
   "source": [
    "descrizione_iris.lunghezza_petalo.loc[\"mean\"]"
   ]
  },
  {
   "cell_type": "markdown",
   "id": "38d6a580-8672-4547-a2e9-1e7a102c8f47",
   "metadata": {},
   "source": [
    "Un altro modo equivalente per accedere a una colonna:"
   ]
  },
  {
   "cell_type": "code",
   "execution_count": 33,
   "id": "f34f408d-e715-451f-8093-75f85544aeba",
   "metadata": {},
   "outputs": [
    {
     "data": {
      "text/plain": [
       "count    150.000000\n",
       "mean       3.758667\n",
       "std        1.764420\n",
       "min        1.000000\n",
       "25%        1.600000\n",
       "50%        4.350000\n",
       "75%        5.100000\n",
       "max        6.900000\n",
       "Name: lunghezza_petalo, dtype: float64"
      ]
     },
     "execution_count": 33,
     "metadata": {},
     "output_type": "execute_result"
    }
   ],
   "source": [
    "descrizione_iris.lunghezza_petalo"
   ]
  },
  {
   "cell_type": "code",
   "execution_count": 31,
   "id": "51cdc27a-86b9-471f-970e-cf87d11b746b",
   "metadata": {},
   "outputs": [
    {
     "data": {
      "text/plain": [
       "count    150.000000\n",
       "mean       3.758667\n",
       "std        1.764420\n",
       "min        1.000000\n",
       "25%        1.600000\n",
       "50%        4.350000\n",
       "75%        5.100000\n",
       "max        6.900000\n",
       "Name: lunghezza_petalo, dtype: float64"
      ]
     },
     "execution_count": 31,
     "metadata": {},
     "output_type": "execute_result"
    }
   ],
   "source": [
    "descrizione_iris.loc[:, \"lunghezza_petalo\"]"
   ]
  },
  {
   "cell_type": "markdown",
   "id": "9b046df3-e9d4-4817-b8ea-43bb9fa28e1d",
   "metadata": {},
   "source": [
    "Usate quello che si adegua meglio al contesto, ma è meglio restare consistenti e usare la stessa notazione."
   ]
  },
  {
   "cell_type": "code",
   "execution_count": 35,
   "id": "6714d115-179b-4a1f-93bb-57518d5585f3",
   "metadata": {},
   "outputs": [
    {
     "data": {
      "text/plain": [
       "count    150.000000\n",
       "mean       3.758667\n",
       "std        1.764420\n",
       "min        1.000000\n",
       "25%        1.600000\n",
       "50%        4.350000\n",
       "75%        5.100000\n",
       "max        6.900000\n",
       "Name: lunghezza_petalo, dtype: float64"
      ]
     },
     "execution_count": 35,
     "metadata": {},
     "output_type": "execute_result"
    }
   ],
   "source": [
    "descrizione_iris[\"lunghezza_petalo\"]"
   ]
  },
  {
   "cell_type": "markdown",
   "id": "2a8b2ea8-023a-40e5-8c9d-435320b213fd",
   "metadata": {},
   "source": [
    "## Approfondimento `[]` vs `[[]]`\n",
    "\n",
    "Usare una o due `[]` restituisce due output diversi:"
   ]
  },
  {
   "cell_type": "code",
   "execution_count": 39,
   "id": "95a8f554-55b1-40f0-98ab-d3f512498c01",
   "metadata": {},
   "outputs": [
    {
     "data": {
      "text/plain": [
       "count    150.000000\n",
       "mean       3.758667\n",
       "std        1.764420\n",
       "min        1.000000\n",
       "25%        1.600000\n",
       "50%        4.350000\n",
       "75%        5.100000\n",
       "max        6.900000\n",
       "Name: lunghezza_petalo, dtype: float64"
      ]
     },
     "execution_count": 39,
     "metadata": {},
     "output_type": "execute_result"
    }
   ],
   "source": [
    "descrizione_iris[\"lunghezza_petalo\"]"
   ]
  },
  {
   "cell_type": "code",
   "execution_count": 40,
   "id": "2d7c2ef6-88d1-4e23-b6ac-4865d8f1a6d4",
   "metadata": {},
   "outputs": [
    {
     "data": {
      "text/html": [
       "<div>\n",
       "<style scoped>\n",
       "    .dataframe tbody tr th:only-of-type {\n",
       "        vertical-align: middle;\n",
       "    }\n",
       "\n",
       "    .dataframe tbody tr th {\n",
       "        vertical-align: top;\n",
       "    }\n",
       "\n",
       "    .dataframe thead th {\n",
       "        text-align: right;\n",
       "    }\n",
       "</style>\n",
       "<table border=\"1\" class=\"dataframe\">\n",
       "  <thead>\n",
       "    <tr style=\"text-align: right;\">\n",
       "      <th></th>\n",
       "      <th>lunghezza_petalo</th>\n",
       "    </tr>\n",
       "  </thead>\n",
       "  <tbody>\n",
       "    <tr>\n",
       "      <th>count</th>\n",
       "      <td>150.000000</td>\n",
       "    </tr>\n",
       "    <tr>\n",
       "      <th>mean</th>\n",
       "      <td>3.758667</td>\n",
       "    </tr>\n",
       "    <tr>\n",
       "      <th>std</th>\n",
       "      <td>1.764420</td>\n",
       "    </tr>\n",
       "    <tr>\n",
       "      <th>min</th>\n",
       "      <td>1.000000</td>\n",
       "    </tr>\n",
       "    <tr>\n",
       "      <th>25%</th>\n",
       "      <td>1.600000</td>\n",
       "    </tr>\n",
       "    <tr>\n",
       "      <th>50%</th>\n",
       "      <td>4.350000</td>\n",
       "    </tr>\n",
       "    <tr>\n",
       "      <th>75%</th>\n",
       "      <td>5.100000</td>\n",
       "    </tr>\n",
       "    <tr>\n",
       "      <th>max</th>\n",
       "      <td>6.900000</td>\n",
       "    </tr>\n",
       "  </tbody>\n",
       "</table>\n",
       "</div>"
      ],
      "text/plain": [
       "       lunghezza_petalo\n",
       "count        150.000000\n",
       "mean           3.758667\n",
       "std            1.764420\n",
       "min            1.000000\n",
       "25%            1.600000\n",
       "50%            4.350000\n",
       "75%            5.100000\n",
       "max            6.900000"
      ]
     },
     "execution_count": 40,
     "metadata": {},
     "output_type": "execute_result"
    }
   ],
   "source": [
    "descrizione_iris[[\"lunghezza_petalo\"]]"
   ]
  },
  {
   "cell_type": "markdown",
   "id": "16ea857d-114f-406f-b486-887069d5d641",
   "metadata": {},
   "source": [
    "E la seconda è meglio formattata. Ma che differenza c'è? Usando `[\"lunghezza_petalo\"]` e non `\"lunghezza_petalo\"` dentro le prime quadre,\n",
    "abbiamo passato una lista e non una stringa. Per questo pandas di base costruisce un DataFrame (una tabella a più colonne) e non una Series (una colonna sola).\n",
    "Possiamo vederlo anche ispezionando i tipi:"
   ]
  },
  {
   "cell_type": "code",
   "execution_count": 36,
   "id": "350fca50-8724-42d9-ae4e-4108a620abf0",
   "metadata": {},
   "outputs": [
    {
     "name": "stdout",
     "output_type": "stream",
     "text": [
      "<class 'pandas.core.series.Series'> <class 'pandas.core.frame.DataFrame'>\n"
     ]
    }
   ],
   "source": [
    "print(\n",
    "    type(descrizione_iris[\"lunghezza_petalo\"]),\n",
    "    type(descrizione_iris[[\"lunghezza_petalo\"]])\n",
    ")"
   ]
  },
  {
   "cell_type": "markdown",
   "id": "f567e6f8-6b60-4053-90ae-840cea672fc9",
   "metadata": {},
   "source": [
    "Che differenza fa? I DataFrame sono composti da diverse Series. La differenza è dunque minima nella maggior parte dei casi."
   ]
  },
  {
   "cell_type": "markdown",
   "id": "09a6e7d4-95c3-47b0-a614-c5b33e548125",
   "metadata": {},
   "source": [
    "## Indicizzazione più \"granulare\"\n",
    "\n",
    "Possiamo anche filtrare le colonne. **reminder: il primo argomento di `data.loc[]` sono sempre le righe! dopo la virgola, invece, si filtrano le colonne**."
   ]
  },
  {
   "cell_type": "code",
   "execution_count": 34,
   "id": "5d8fe4c9-7562-497e-a925-7e296ed7d3b6",
   "metadata": {},
   "outputs": [
    {
     "data": {
      "text/html": [
       "<div>\n",
       "<style scoped>\n",
       "    .dataframe tbody tr th:only-of-type {\n",
       "        vertical-align: middle;\n",
       "    }\n",
       "\n",
       "    .dataframe tbody tr th {\n",
       "        vertical-align: top;\n",
       "    }\n",
       "\n",
       "    .dataframe thead th {\n",
       "        text-align: right;\n",
       "    }\n",
       "</style>\n",
       "<table border=\"1\" class=\"dataframe\">\n",
       "  <thead>\n",
       "    <tr style=\"text-align: right;\">\n",
       "      <th></th>\n",
       "      <th>lunghezza_sepale</th>\n",
       "      <th>larghezza_sepale</th>\n",
       "      <th>lunghezza_petalo</th>\n",
       "      <th>larghezza_petalo</th>\n",
       "      <th>specie</th>\n",
       "      <th>area_petalo</th>\n",
       "    </tr>\n",
       "    <tr>\n",
       "      <th>numero_osservazione</th>\n",
       "      <th></th>\n",
       "      <th></th>\n",
       "      <th></th>\n",
       "      <th></th>\n",
       "      <th></th>\n",
       "      <th></th>\n",
       "    </tr>\n",
       "  </thead>\n",
       "  <tbody>\n",
       "    <tr>\n",
       "      <th>50</th>\n",
       "      <td>7.0</td>\n",
       "      <td>3.2</td>\n",
       "      <td>4.7</td>\n",
       "      <td>1.4</td>\n",
       "      <td>Iris-versicolor</td>\n",
       "      <td>6.58</td>\n",
       "    </tr>\n",
       "    <tr>\n",
       "      <th>51</th>\n",
       "      <td>6.4</td>\n",
       "      <td>3.2</td>\n",
       "      <td>4.5</td>\n",
       "      <td>1.5</td>\n",
       "      <td>Iris-versicolor</td>\n",
       "      <td>6.75</td>\n",
       "    </tr>\n",
       "    <tr>\n",
       "      <th>52</th>\n",
       "      <td>6.9</td>\n",
       "      <td>3.1</td>\n",
       "      <td>4.9</td>\n",
       "      <td>1.5</td>\n",
       "      <td>Iris-versicolor</td>\n",
       "      <td>7.35</td>\n",
       "    </tr>\n",
       "    <tr>\n",
       "      <th>53</th>\n",
       "      <td>5.5</td>\n",
       "      <td>2.3</td>\n",
       "      <td>4.0</td>\n",
       "      <td>1.3</td>\n",
       "      <td>Iris-versicolor</td>\n",
       "      <td>5.20</td>\n",
       "    </tr>\n",
       "    <tr>\n",
       "      <th>54</th>\n",
       "      <td>6.5</td>\n",
       "      <td>2.8</td>\n",
       "      <td>4.6</td>\n",
       "      <td>1.5</td>\n",
       "      <td>Iris-versicolor</td>\n",
       "      <td>6.90</td>\n",
       "    </tr>\n",
       "    <tr>\n",
       "      <th>...</th>\n",
       "      <td>...</td>\n",
       "      <td>...</td>\n",
       "      <td>...</td>\n",
       "      <td>...</td>\n",
       "      <td>...</td>\n",
       "      <td>...</td>\n",
       "    </tr>\n",
       "    <tr>\n",
       "      <th>145</th>\n",
       "      <td>6.7</td>\n",
       "      <td>3.0</td>\n",
       "      <td>5.2</td>\n",
       "      <td>2.3</td>\n",
       "      <td>Iris-virginica</td>\n",
       "      <td>11.96</td>\n",
       "    </tr>\n",
       "    <tr>\n",
       "      <th>146</th>\n",
       "      <td>6.3</td>\n",
       "      <td>2.5</td>\n",
       "      <td>5.0</td>\n",
       "      <td>1.9</td>\n",
       "      <td>Iris-virginica</td>\n",
       "      <td>9.50</td>\n",
       "    </tr>\n",
       "    <tr>\n",
       "      <th>147</th>\n",
       "      <td>6.5</td>\n",
       "      <td>3.0</td>\n",
       "      <td>5.2</td>\n",
       "      <td>2.0</td>\n",
       "      <td>Iris-virginica</td>\n",
       "      <td>10.40</td>\n",
       "    </tr>\n",
       "    <tr>\n",
       "      <th>148</th>\n",
       "      <td>6.2</td>\n",
       "      <td>3.4</td>\n",
       "      <td>5.4</td>\n",
       "      <td>2.3</td>\n",
       "      <td>Iris-virginica</td>\n",
       "      <td>12.42</td>\n",
       "    </tr>\n",
       "    <tr>\n",
       "      <th>149</th>\n",
       "      <td>5.9</td>\n",
       "      <td>3.0</td>\n",
       "      <td>5.1</td>\n",
       "      <td>1.8</td>\n",
       "      <td>Iris-virginica</td>\n",
       "      <td>9.18</td>\n",
       "    </tr>\n",
       "  </tbody>\n",
       "</table>\n",
       "<p>93 rows × 6 columns</p>\n",
       "</div>"
      ],
      "text/plain": [
       "                     lunghezza_sepale  larghezza_sepale  lunghezza_petalo  \\\n",
       "numero_osservazione                                                         \n",
       "50                                7.0               3.2               4.7   \n",
       "51                                6.4               3.2               4.5   \n",
       "52                                6.9               3.1               4.9   \n",
       "53                                5.5               2.3               4.0   \n",
       "54                                6.5               2.8               4.6   \n",
       "...                               ...               ...               ...   \n",
       "145                               6.7               3.0               5.2   \n",
       "146                               6.3               2.5               5.0   \n",
       "147                               6.5               3.0               5.2   \n",
       "148                               6.2               3.4               5.4   \n",
       "149                               5.9               3.0               5.1   \n",
       "\n",
       "                     larghezza_petalo           specie  area_petalo  \n",
       "numero_osservazione                                                  \n",
       "50                                1.4  Iris-versicolor         6.58  \n",
       "51                                1.5  Iris-versicolor         6.75  \n",
       "52                                1.5  Iris-versicolor         7.35  \n",
       "53                                1.3  Iris-versicolor         5.20  \n",
       "54                                1.5  Iris-versicolor         6.90  \n",
       "...                               ...              ...          ...  \n",
       "145                               2.3   Iris-virginica        11.96  \n",
       "146                               1.9   Iris-virginica         9.50  \n",
       "147                               2.0   Iris-virginica        10.40  \n",
       "148                               2.3   Iris-virginica        12.42  \n",
       "149                               1.8   Iris-virginica         9.18  \n",
       "\n",
       "[93 rows x 6 columns]"
      ]
     },
     "execution_count": 34,
     "metadata": {},
     "output_type": "execute_result"
    }
   ],
   "source": [
    "iris_dataset.loc[iris_dataset[\"lunghezza_petalo\"] > 3.758666666666666]"
   ]
  },
  {
   "cell_type": "markdown",
   "id": "974ac5bb-7eb5-41e7-8ade-2ba160a5cfbb",
   "metadata": {},
   "source": [
    "Qui vediamo che possiamo filtrare sulla base di una colonna e restituire solo i valori di una o più colonne diverse:"
   ]
  },
  {
   "cell_type": "code",
   "execution_count": 41,
   "id": "9ebe2aba-356d-498b-adb2-86ce55ad1c68",
   "metadata": {},
   "outputs": [
    {
     "data": {
      "text/plain": [
       "numero_osservazione\n",
       "50     1.4\n",
       "51     1.5\n",
       "52     1.5\n",
       "53     1.3\n",
       "54     1.5\n",
       "      ... \n",
       "145    2.3\n",
       "146    1.9\n",
       "147    2.0\n",
       "148    2.3\n",
       "149    1.8\n",
       "Name: larghezza_petalo, Length: 93, dtype: float64"
      ]
     },
     "execution_count": 41,
     "metadata": {},
     "output_type": "execute_result"
    }
   ],
   "source": [
    "iris_dataset.loc[iris_dataset[\"lunghezza_petalo\"] > 3.758666666666666, \"larghezza_petalo\"]"
   ]
  },
  {
   "cell_type": "code",
   "execution_count": 42,
   "id": "acbb892c-2f91-44f7-acd8-e0dd25bf4301",
   "metadata": {},
   "outputs": [
    {
     "data": {
      "text/html": [
       "<div>\n",
       "<style scoped>\n",
       "    .dataframe tbody tr th:only-of-type {\n",
       "        vertical-align: middle;\n",
       "    }\n",
       "\n",
       "    .dataframe tbody tr th {\n",
       "        vertical-align: top;\n",
       "    }\n",
       "\n",
       "    .dataframe thead th {\n",
       "        text-align: right;\n",
       "    }\n",
       "</style>\n",
       "<table border=\"1\" class=\"dataframe\">\n",
       "  <thead>\n",
       "    <tr style=\"text-align: right;\">\n",
       "      <th></th>\n",
       "      <th>larghezza_petalo</th>\n",
       "    </tr>\n",
       "    <tr>\n",
       "      <th>numero_osservazione</th>\n",
       "      <th></th>\n",
       "    </tr>\n",
       "  </thead>\n",
       "  <tbody>\n",
       "    <tr>\n",
       "      <th>50</th>\n",
       "      <td>1.4</td>\n",
       "    </tr>\n",
       "    <tr>\n",
       "      <th>51</th>\n",
       "      <td>1.5</td>\n",
       "    </tr>\n",
       "    <tr>\n",
       "      <th>52</th>\n",
       "      <td>1.5</td>\n",
       "    </tr>\n",
       "    <tr>\n",
       "      <th>53</th>\n",
       "      <td>1.3</td>\n",
       "    </tr>\n",
       "    <tr>\n",
       "      <th>54</th>\n",
       "      <td>1.5</td>\n",
       "    </tr>\n",
       "    <tr>\n",
       "      <th>...</th>\n",
       "      <td>...</td>\n",
       "    </tr>\n",
       "    <tr>\n",
       "      <th>145</th>\n",
       "      <td>2.3</td>\n",
       "    </tr>\n",
       "    <tr>\n",
       "      <th>146</th>\n",
       "      <td>1.9</td>\n",
       "    </tr>\n",
       "    <tr>\n",
       "      <th>147</th>\n",
       "      <td>2.0</td>\n",
       "    </tr>\n",
       "    <tr>\n",
       "      <th>148</th>\n",
       "      <td>2.3</td>\n",
       "    </tr>\n",
       "    <tr>\n",
       "      <th>149</th>\n",
       "      <td>1.8</td>\n",
       "    </tr>\n",
       "  </tbody>\n",
       "</table>\n",
       "<p>93 rows × 1 columns</p>\n",
       "</div>"
      ],
      "text/plain": [
       "                     larghezza_petalo\n",
       "numero_osservazione                  \n",
       "50                                1.4\n",
       "51                                1.5\n",
       "52                                1.5\n",
       "53                                1.3\n",
       "54                                1.5\n",
       "...                               ...\n",
       "145                               2.3\n",
       "146                               1.9\n",
       "147                               2.0\n",
       "148                               2.3\n",
       "149                               1.8\n",
       "\n",
       "[93 rows x 1 columns]"
      ]
     },
     "execution_count": 42,
     "metadata": {},
     "output_type": "execute_result"
    }
   ],
   "source": [
    "iris_dataset.loc[iris_dataset[\"lunghezza_petalo\"] > 3.758666666666666, [\"larghezza_petalo\"]]"
   ]
  },
  {
   "cell_type": "markdown",
   "id": "28b48a48-0f0b-43f0-a0c3-45bdc8eae323",
   "metadata": {},
   "source": [
    "Ma possiamo anche inserire variabili:"
   ]
  },
  {
   "cell_type": "code",
   "execution_count": 46,
   "id": "3f2faa7f-969d-4052-8741-9e28147b911b",
   "metadata": {},
   "outputs": [
    {
     "data": {
      "text/plain": [
       "3.758666666666666"
      ]
     },
     "execution_count": 46,
     "metadata": {},
     "output_type": "execute_result"
    }
   ],
   "source": [
    "lunghezza_media_petalo = iris_dataset[\"lunghezza_petalo\"].mean()\n",
    "lunghezza_media_petalo"
   ]
  },
  {
   "cell_type": "code",
   "execution_count": 36,
   "id": "4585e7e7-f8e7-4a8a-94ea-13678c36e1c4",
   "metadata": {},
   "outputs": [
    {
     "data": {
      "text/html": [
       "<div>\n",
       "<style scoped>\n",
       "    .dataframe tbody tr th:only-of-type {\n",
       "        vertical-align: middle;\n",
       "    }\n",
       "\n",
       "    .dataframe tbody tr th {\n",
       "        vertical-align: top;\n",
       "    }\n",
       "\n",
       "    .dataframe thead th {\n",
       "        text-align: right;\n",
       "    }\n",
       "</style>\n",
       "<table border=\"1\" class=\"dataframe\">\n",
       "  <thead>\n",
       "    <tr style=\"text-align: right;\">\n",
       "      <th></th>\n",
       "      <th>lunghezza_sepale</th>\n",
       "      <th>larghezza_sepale</th>\n",
       "      <th>lunghezza_petalo</th>\n",
       "      <th>larghezza_petalo</th>\n",
       "      <th>specie</th>\n",
       "      <th>area_petalo</th>\n",
       "    </tr>\n",
       "    <tr>\n",
       "      <th>numero_osservazione</th>\n",
       "      <th></th>\n",
       "      <th></th>\n",
       "      <th></th>\n",
       "      <th></th>\n",
       "      <th></th>\n",
       "      <th></th>\n",
       "    </tr>\n",
       "  </thead>\n",
       "  <tbody>\n",
       "    <tr>\n",
       "      <th>50</th>\n",
       "      <td>7.0</td>\n",
       "      <td>3.2</td>\n",
       "      <td>4.7</td>\n",
       "      <td>1.4</td>\n",
       "      <td>Iris-versicolor</td>\n",
       "      <td>6.58</td>\n",
       "    </tr>\n",
       "    <tr>\n",
       "      <th>51</th>\n",
       "      <td>6.4</td>\n",
       "      <td>3.2</td>\n",
       "      <td>4.5</td>\n",
       "      <td>1.5</td>\n",
       "      <td>Iris-versicolor</td>\n",
       "      <td>6.75</td>\n",
       "    </tr>\n",
       "    <tr>\n",
       "      <th>52</th>\n",
       "      <td>6.9</td>\n",
       "      <td>3.1</td>\n",
       "      <td>4.9</td>\n",
       "      <td>1.5</td>\n",
       "      <td>Iris-versicolor</td>\n",
       "      <td>7.35</td>\n",
       "    </tr>\n",
       "    <tr>\n",
       "      <th>53</th>\n",
       "      <td>5.5</td>\n",
       "      <td>2.3</td>\n",
       "      <td>4.0</td>\n",
       "      <td>1.3</td>\n",
       "      <td>Iris-versicolor</td>\n",
       "      <td>5.20</td>\n",
       "    </tr>\n",
       "    <tr>\n",
       "      <th>54</th>\n",
       "      <td>6.5</td>\n",
       "      <td>2.8</td>\n",
       "      <td>4.6</td>\n",
       "      <td>1.5</td>\n",
       "      <td>Iris-versicolor</td>\n",
       "      <td>6.90</td>\n",
       "    </tr>\n",
       "    <tr>\n",
       "      <th>...</th>\n",
       "      <td>...</td>\n",
       "      <td>...</td>\n",
       "      <td>...</td>\n",
       "      <td>...</td>\n",
       "      <td>...</td>\n",
       "      <td>...</td>\n",
       "    </tr>\n",
       "    <tr>\n",
       "      <th>145</th>\n",
       "      <td>6.7</td>\n",
       "      <td>3.0</td>\n",
       "      <td>5.2</td>\n",
       "      <td>2.3</td>\n",
       "      <td>Iris-virginica</td>\n",
       "      <td>11.96</td>\n",
       "    </tr>\n",
       "    <tr>\n",
       "      <th>146</th>\n",
       "      <td>6.3</td>\n",
       "      <td>2.5</td>\n",
       "      <td>5.0</td>\n",
       "      <td>1.9</td>\n",
       "      <td>Iris-virginica</td>\n",
       "      <td>9.50</td>\n",
       "    </tr>\n",
       "    <tr>\n",
       "      <th>147</th>\n",
       "      <td>6.5</td>\n",
       "      <td>3.0</td>\n",
       "      <td>5.2</td>\n",
       "      <td>2.0</td>\n",
       "      <td>Iris-virginica</td>\n",
       "      <td>10.40</td>\n",
       "    </tr>\n",
       "    <tr>\n",
       "      <th>148</th>\n",
       "      <td>6.2</td>\n",
       "      <td>3.4</td>\n",
       "      <td>5.4</td>\n",
       "      <td>2.3</td>\n",
       "      <td>Iris-virginica</td>\n",
       "      <td>12.42</td>\n",
       "    </tr>\n",
       "    <tr>\n",
       "      <th>149</th>\n",
       "      <td>5.9</td>\n",
       "      <td>3.0</td>\n",
       "      <td>5.1</td>\n",
       "      <td>1.8</td>\n",
       "      <td>Iris-virginica</td>\n",
       "      <td>9.18</td>\n",
       "    </tr>\n",
       "  </tbody>\n",
       "</table>\n",
       "<p>93 rows × 6 columns</p>\n",
       "</div>"
      ],
      "text/plain": [
       "                     lunghezza_sepale  larghezza_sepale  lunghezza_petalo  \\\n",
       "numero_osservazione                                                         \n",
       "50                                7.0               3.2               4.7   \n",
       "51                                6.4               3.2               4.5   \n",
       "52                                6.9               3.1               4.9   \n",
       "53                                5.5               2.3               4.0   \n",
       "54                                6.5               2.8               4.6   \n",
       "...                               ...               ...               ...   \n",
       "145                               6.7               3.0               5.2   \n",
       "146                               6.3               2.5               5.0   \n",
       "147                               6.5               3.0               5.2   \n",
       "148                               6.2               3.4               5.4   \n",
       "149                               5.9               3.0               5.1   \n",
       "\n",
       "                     larghezza_petalo           specie  area_petalo  \n",
       "numero_osservazione                                                  \n",
       "50                                1.4  Iris-versicolor         6.58  \n",
       "51                                1.5  Iris-versicolor         6.75  \n",
       "52                                1.5  Iris-versicolor         7.35  \n",
       "53                                1.3  Iris-versicolor         5.20  \n",
       "54                                1.5  Iris-versicolor         6.90  \n",
       "...                               ...              ...          ...  \n",
       "145                               2.3   Iris-virginica        11.96  \n",
       "146                               1.9   Iris-virginica         9.50  \n",
       "147                               2.0   Iris-virginica        10.40  \n",
       "148                               2.3   Iris-virginica        12.42  \n",
       "149                               1.8   Iris-virginica         9.18  \n",
       "\n",
       "[93 rows x 6 columns]"
      ]
     },
     "execution_count": 36,
     "metadata": {},
     "output_type": "execute_result"
    }
   ],
   "source": [
    "iris_dataset.loc[iris_dataset[\"lunghezza_petalo\"] > lunghezza_media_petalo]"
   ]
  },
  {
   "cell_type": "markdown",
   "id": "2485c06a-3087-4d07-af67-18fc2da72a02",
   "metadata": {},
   "source": [
    "E salvare nuovi dataset una volta che siamo soddisfatti del nostro risultato:"
   ]
  },
  {
   "cell_type": "code",
   "execution_count": 48,
   "id": "c9fedf6a-f154-4101-8be7-d1d0f0862e7f",
   "metadata": {},
   "outputs": [],
   "source": [
    "versicolor_above_average = (\n",
    "    iris_dataset\n",
    "    .loc[iris_dataset[\"specie\"] == \"Iris-versicolor\"]\n",
    "    .loc[iris_dataset[\"lunghezza_petalo\"] > lunghezza_media_petalo]\n",
    ")"
   ]
  },
  {
   "cell_type": "code",
   "execution_count": 49,
   "id": "7fe927ae-962a-4443-9fef-c12d43eaa3cc",
   "metadata": {},
   "outputs": [
    {
     "data": {
      "text/html": [
       "<div>\n",
       "<style scoped>\n",
       "    .dataframe tbody tr th:only-of-type {\n",
       "        vertical-align: middle;\n",
       "    }\n",
       "\n",
       "    .dataframe tbody tr th {\n",
       "        vertical-align: top;\n",
       "    }\n",
       "\n",
       "    .dataframe thead th {\n",
       "        text-align: right;\n",
       "    }\n",
       "</style>\n",
       "<table border=\"1\" class=\"dataframe\">\n",
       "  <thead>\n",
       "    <tr style=\"text-align: right;\">\n",
       "      <th></th>\n",
       "      <th>lunghezza_sepale</th>\n",
       "      <th>larghezza_sepale</th>\n",
       "      <th>lunghezza_petalo</th>\n",
       "      <th>larghezza_petalo</th>\n",
       "      <th>specie</th>\n",
       "    </tr>\n",
       "    <tr>\n",
       "      <th>numero_osservazione</th>\n",
       "      <th></th>\n",
       "      <th></th>\n",
       "      <th></th>\n",
       "      <th></th>\n",
       "      <th></th>\n",
       "    </tr>\n",
       "  </thead>\n",
       "  <tbody>\n",
       "    <tr>\n",
       "      <th>50</th>\n",
       "      <td>7.0</td>\n",
       "      <td>3.2</td>\n",
       "      <td>4.7</td>\n",
       "      <td>1.4</td>\n",
       "      <td>Iris-versicolor</td>\n",
       "    </tr>\n",
       "    <tr>\n",
       "      <th>51</th>\n",
       "      <td>6.4</td>\n",
       "      <td>3.2</td>\n",
       "      <td>4.5</td>\n",
       "      <td>1.5</td>\n",
       "      <td>Iris-versicolor</td>\n",
       "    </tr>\n",
       "    <tr>\n",
       "      <th>52</th>\n",
       "      <td>6.9</td>\n",
       "      <td>3.1</td>\n",
       "      <td>4.9</td>\n",
       "      <td>1.5</td>\n",
       "      <td>Iris-versicolor</td>\n",
       "    </tr>\n",
       "    <tr>\n",
       "      <th>53</th>\n",
       "      <td>5.5</td>\n",
       "      <td>2.3</td>\n",
       "      <td>4.0</td>\n",
       "      <td>1.3</td>\n",
       "      <td>Iris-versicolor</td>\n",
       "    </tr>\n",
       "    <tr>\n",
       "      <th>54</th>\n",
       "      <td>6.5</td>\n",
       "      <td>2.8</td>\n",
       "      <td>4.6</td>\n",
       "      <td>1.5</td>\n",
       "      <td>Iris-versicolor</td>\n",
       "    </tr>\n",
       "  </tbody>\n",
       "</table>\n",
       "</div>"
      ],
      "text/plain": [
       "                     lunghezza_sepale  larghezza_sepale  lunghezza_petalo  \\\n",
       "numero_osservazione                                                         \n",
       "50                                7.0               3.2               4.7   \n",
       "51                                6.4               3.2               4.5   \n",
       "52                                6.9               3.1               4.9   \n",
       "53                                5.5               2.3               4.0   \n",
       "54                                6.5               2.8               4.6   \n",
       "\n",
       "                     larghezza_petalo           specie  \n",
       "numero_osservazione                                     \n",
       "50                                1.4  Iris-versicolor  \n",
       "51                                1.5  Iris-versicolor  \n",
       "52                                1.5  Iris-versicolor  \n",
       "53                                1.3  Iris-versicolor  \n",
       "54                                1.5  Iris-versicolor  "
      ]
     },
     "execution_count": 49,
     "metadata": {},
     "output_type": "execute_result"
    }
   ],
   "source": [
    "versicolor_above_average.head()"
   ]
  },
  {
   "cell_type": "markdown",
   "id": "5872186b-daab-49f8-8e74-4d8c6096c807",
   "metadata": {},
   "source": [
    "E anche salvarlo localmente (== sul nostro computer):"
   ]
  },
  {
   "cell_type": "code",
   "execution_count": 50,
   "id": "2c6f5a00-722f-474b-a1c3-9eb347059994",
   "metadata": {},
   "outputs": [],
   "source": [
    "versicolor_above_average.to_csv(\"./solo_versicolor.csv\")"
   ]
  },
  {
   "cell_type": "markdown",
   "id": "2b74edf3-54cc-48c3-b7d2-581a37d86925",
   "metadata": {},
   "source": [
    "Il `./` indica il percorso sul nostro computer. In particolare, il `.` indica la cartella dove ci troviamo.\n",
    "Se scrivessimo `../test.csv` salverebbe un `.csv` chiamato `test` nella cartella superiore (in inglese, *parent*) rispetto a dove stiamo eseguendo il codice."
   ]
  },
  {
   "cell_type": "markdown",
   "id": "c39bbe52-e307-48a1-aec0-d2d7a919c657",
   "metadata": {},
   "source": [
    "## Aggregazione / GroupBy"
   ]
  },
  {
   "cell_type": "code",
   "execution_count": 66,
   "id": "e0de8b4b-81d2-4537-9887-dfb8345fd3a2",
   "metadata": {},
   "outputs": [
    {
     "data": {
      "text/html": [
       "<div>\n",
       "<style scoped>\n",
       "    .dataframe tbody tr th:only-of-type {\n",
       "        vertical-align: middle;\n",
       "    }\n",
       "\n",
       "    .dataframe tbody tr th {\n",
       "        vertical-align: top;\n",
       "    }\n",
       "\n",
       "    .dataframe thead th {\n",
       "        text-align: right;\n",
       "    }\n",
       "</style>\n",
       "<table border=\"1\" class=\"dataframe\">\n",
       "  <thead>\n",
       "    <tr style=\"text-align: right;\">\n",
       "      <th></th>\n",
       "      <th>lunghezza_sepale</th>\n",
       "      <th>larghezza_sepale</th>\n",
       "      <th>lunghezza_petalo</th>\n",
       "      <th>larghezza_petalo</th>\n",
       "    </tr>\n",
       "    <tr>\n",
       "      <th>specie</th>\n",
       "      <th></th>\n",
       "      <th></th>\n",
       "      <th></th>\n",
       "      <th></th>\n",
       "    </tr>\n",
       "  </thead>\n",
       "  <tbody>\n",
       "    <tr>\n",
       "      <th>Iris-setosa</th>\n",
       "      <td>5.006</td>\n",
       "      <td>3.418</td>\n",
       "      <td>1.464</td>\n",
       "      <td>0.244</td>\n",
       "    </tr>\n",
       "    <tr>\n",
       "      <th>Iris-versicolor</th>\n",
       "      <td>5.936</td>\n",
       "      <td>2.770</td>\n",
       "      <td>4.260</td>\n",
       "      <td>1.326</td>\n",
       "    </tr>\n",
       "    <tr>\n",
       "      <th>Iris-virginica</th>\n",
       "      <td>6.588</td>\n",
       "      <td>2.974</td>\n",
       "      <td>5.552</td>\n",
       "      <td>2.026</td>\n",
       "    </tr>\n",
       "  </tbody>\n",
       "</table>\n",
       "</div>"
      ],
      "text/plain": [
       "                 lunghezza_sepale  larghezza_sepale  lunghezza_petalo  \\\n",
       "specie                                                                  \n",
       "Iris-setosa                 5.006             3.418             1.464   \n",
       "Iris-versicolor             5.936             2.770             4.260   \n",
       "Iris-virginica              6.588             2.974             5.552   \n",
       "\n",
       "                 larghezza_petalo  \n",
       "specie                             \n",
       "Iris-setosa                 0.244  \n",
       "Iris-versicolor             1.326  \n",
       "Iris-virginica              2.026  "
      ]
     },
     "execution_count": 66,
     "metadata": {},
     "output_type": "execute_result"
    }
   ],
   "source": [
    "iris_mean_by_species = iris_dataset.groupby(\"specie\").mean()\n",
    "iris_mean_by_species"
   ]
  },
  {
   "cell_type": "code",
   "execution_count": 67,
   "id": "e6862bd8-1595-4b0d-aa4f-f7305df28d8b",
   "metadata": {},
   "outputs": [
    {
     "data": {
      "text/html": [
       "<div>\n",
       "<style scoped>\n",
       "    .dataframe tbody tr th:only-of-type {\n",
       "        vertical-align: middle;\n",
       "    }\n",
       "\n",
       "    .dataframe tbody tr th {\n",
       "        vertical-align: top;\n",
       "    }\n",
       "\n",
       "    .dataframe thead th {\n",
       "        text-align: right;\n",
       "    }\n",
       "</style>\n",
       "<table border=\"1\" class=\"dataframe\">\n",
       "  <thead>\n",
       "    <tr style=\"text-align: right;\">\n",
       "      <th></th>\n",
       "      <th>lunghezza_sepale</th>\n",
       "      <th>larghezza_sepale</th>\n",
       "      <th>lunghezza_petalo</th>\n",
       "      <th>larghezza_petalo</th>\n",
       "    </tr>\n",
       "    <tr>\n",
       "      <th>specie</th>\n",
       "      <th></th>\n",
       "      <th></th>\n",
       "      <th></th>\n",
       "      <th></th>\n",
       "    </tr>\n",
       "  </thead>\n",
       "  <tbody>\n",
       "    <tr>\n",
       "      <th>Iris-setosa</th>\n",
       "      <td>0.352490</td>\n",
       "      <td>0.381024</td>\n",
       "      <td>0.173511</td>\n",
       "      <td>0.107210</td>\n",
       "    </tr>\n",
       "    <tr>\n",
       "      <th>Iris-versicolor</th>\n",
       "      <td>0.516171</td>\n",
       "      <td>0.313798</td>\n",
       "      <td>0.469911</td>\n",
       "      <td>0.197753</td>\n",
       "    </tr>\n",
       "    <tr>\n",
       "      <th>Iris-virginica</th>\n",
       "      <td>0.635880</td>\n",
       "      <td>0.322497</td>\n",
       "      <td>0.551895</td>\n",
       "      <td>0.274650</td>\n",
       "    </tr>\n",
       "  </tbody>\n",
       "</table>\n",
       "</div>"
      ],
      "text/plain": [
       "                 lunghezza_sepale  larghezza_sepale  lunghezza_petalo  \\\n",
       "specie                                                                  \n",
       "Iris-setosa              0.352490          0.381024          0.173511   \n",
       "Iris-versicolor          0.516171          0.313798          0.469911   \n",
       "Iris-virginica           0.635880          0.322497          0.551895   \n",
       "\n",
       "                 larghezza_petalo  \n",
       "specie                             \n",
       "Iris-setosa              0.107210  \n",
       "Iris-versicolor          0.197753  \n",
       "Iris-virginica           0.274650  "
      ]
     },
     "execution_count": 67,
     "metadata": {},
     "output_type": "execute_result"
    }
   ],
   "source": [
    "iris_std_by_species = iris_dataset.groupby(\"specie\").std()\n",
    "iris_std_by_species"
   ]
  },
  {
   "cell_type": "markdown",
   "id": "d49ca6d1-6621-4f04-8516-ea7a4ced3ad7",
   "metadata": {},
   "source": [
    "## Join"
   ]
  },
  {
   "cell_type": "code",
   "execution_count": 71,
   "id": "3984ab58-20a3-436d-a597-aa6c052b9283",
   "metadata": {},
   "outputs": [
    {
     "data": {
      "text/html": [
       "<div>\n",
       "<style scoped>\n",
       "    .dataframe tbody tr th:only-of-type {\n",
       "        vertical-align: middle;\n",
       "    }\n",
       "\n",
       "    .dataframe tbody tr th {\n",
       "        vertical-align: top;\n",
       "    }\n",
       "\n",
       "    .dataframe thead th {\n",
       "        text-align: right;\n",
       "    }\n",
       "</style>\n",
       "<table border=\"1\" class=\"dataframe\">\n",
       "  <thead>\n",
       "    <tr style=\"text-align: right;\">\n",
       "      <th></th>\n",
       "      <th>lunghezza_sepale_mean</th>\n",
       "      <th>lunghezza_sepale_std</th>\n",
       "    </tr>\n",
       "    <tr>\n",
       "      <th>specie</th>\n",
       "      <th></th>\n",
       "      <th></th>\n",
       "    </tr>\n",
       "  </thead>\n",
       "  <tbody>\n",
       "    <tr>\n",
       "      <th>Iris-setosa</th>\n",
       "      <td>5.006</td>\n",
       "      <td>0.352490</td>\n",
       "    </tr>\n",
       "    <tr>\n",
       "      <th>Iris-versicolor</th>\n",
       "      <td>5.936</td>\n",
       "      <td>0.516171</td>\n",
       "    </tr>\n",
       "    <tr>\n",
       "      <th>Iris-virginica</th>\n",
       "      <td>6.588</td>\n",
       "      <td>0.635880</td>\n",
       "    </tr>\n",
       "  </tbody>\n",
       "</table>\n",
       "</div>"
      ],
      "text/plain": [
       "                 lunghezza_sepale_mean  lunghezza_sepale_std\n",
       "specie                                                      \n",
       "Iris-setosa                      5.006              0.352490\n",
       "Iris-versicolor                  5.936              0.516171\n",
       "Iris-virginica                   6.588              0.635880"
      ]
     },
     "execution_count": 71,
     "metadata": {},
     "output_type": "execute_result"
    }
   ],
   "source": [
    "iris_mean_by_species.join(iris_std_by_species, lsuffix=\"_mean\", rsuffix=\"_std\")[[\"lunghezza_sepale_mean\", \"lunghezza_sepale_std\"]]"
   ]
  }
 ],
 "metadata": {
  "kernelspec": {
   "display_name": "Statistica per i Big Data",
   "language": "python",
   "name": "statistica-big-data"
  },
  "language_info": {
   "codemirror_mode": {
    "name": "ipython",
    "version": 3
   },
   "file_extension": ".py",
   "mimetype": "text/x-python",
   "name": "python",
   "nbconvert_exporter": "python",
   "pygments_lexer": "ipython3",
   "version": "3.10.3"
  }
 },
 "nbformat": 4,
 "nbformat_minor": 5
}
